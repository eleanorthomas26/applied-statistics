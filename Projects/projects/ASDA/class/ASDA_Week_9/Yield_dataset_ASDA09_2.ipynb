{
 "cells": [
  {
   "cell_type": "markdown",
   "id": "10aa702e-ae8a-4ae6-88d5-3b1aa58edbad",
   "metadata": {},
   "source": [
    "# ASDA - Assignment 09 (Model Simplification/Reduction) - Group 5"
   ]
  },
  {
   "cell_type": "markdown",
   "id": "679b2245-a15f-4066-9f83-ac3410ea79ca",
   "metadata": {},
   "source": [
    "## 2) Agriculture Yield Dataset"
   ]
  },
  {
   "cell_type": "markdown",
   "id": "7b408c5c-a594-4565-947a-d97ad84eca8f",
   "metadata": {},
   "source": [
    "### Importing Libraries"
   ]
  },
  {
   "cell_type": "code",
   "execution_count": 78,
   "id": "bf974ad3-b332-4c69-9e16-7a10187ffbc6",
   "metadata": {},
   "outputs": [],
   "source": [
    "import pandas as pd\n",
    "import numpy as np\n",
    "import seaborn as sns\n",
    "import matplotlib.pyplot as plt\n",
    "from matplotlib import pyplot as plt\n",
    "import scipy.stats as stats\n",
    "import statsmodels.api as sm\n",
    "import statsmodels.formula.api as smf\n",
    "from sklearn.model_selection import train_test_split\n",
    "from sklearn import metrics\n",
    "from statsmodels.formula.api import ols"
   ]
  },
  {
   "cell_type": "markdown",
   "id": "5656211a-1e42-4ad5-b1be-de944154376d",
   "metadata": {},
   "source": [
    "### Importing the dataset"
   ]
  },
  {
   "cell_type": "code",
   "execution_count": 79,
   "id": "869ec922-8b0b-4f60-a5fe-95cb44b7de42",
   "metadata": {},
   "outputs": [
    {
     "data": {
      "text/html": [
       "<div>\n",
       "<style scoped>\n",
       "    .dataframe tbody tr th:only-of-type {\n",
       "        vertical-align: middle;\n",
       "    }\n",
       "\n",
       "    .dataframe tbody tr th {\n",
       "        vertical-align: top;\n",
       "    }\n",
       "\n",
       "    .dataframe thead th {\n",
       "        text-align: right;\n",
       "    }\n",
       "</style>\n",
       "<table border=\"1\" class=\"dataframe\">\n",
       "  <thead>\n",
       "    <tr style=\"text-align: right;\">\n",
       "      <th></th>\n",
       "      <th>yield</th>\n",
       "      <th>block</th>\n",
       "      <th>irrigation</th>\n",
       "      <th>density</th>\n",
       "      <th>fertilizer</th>\n",
       "    </tr>\n",
       "  </thead>\n",
       "  <tbody>\n",
       "    <tr>\n",
       "      <th>0</th>\n",
       "      <td>90</td>\n",
       "      <td>A</td>\n",
       "      <td>control</td>\n",
       "      <td>low</td>\n",
       "      <td>N</td>\n",
       "    </tr>\n",
       "    <tr>\n",
       "      <th>1</th>\n",
       "      <td>95</td>\n",
       "      <td>A</td>\n",
       "      <td>control</td>\n",
       "      <td>low</td>\n",
       "      <td>P</td>\n",
       "    </tr>\n",
       "    <tr>\n",
       "      <th>2</th>\n",
       "      <td>107</td>\n",
       "      <td>A</td>\n",
       "      <td>control</td>\n",
       "      <td>low</td>\n",
       "      <td>NP</td>\n",
       "    </tr>\n",
       "    <tr>\n",
       "      <th>3</th>\n",
       "      <td>92</td>\n",
       "      <td>A</td>\n",
       "      <td>control</td>\n",
       "      <td>medium</td>\n",
       "      <td>N</td>\n",
       "    </tr>\n",
       "    <tr>\n",
       "      <th>4</th>\n",
       "      <td>89</td>\n",
       "      <td>A</td>\n",
       "      <td>control</td>\n",
       "      <td>medium</td>\n",
       "      <td>P</td>\n",
       "    </tr>\n",
       "    <tr>\n",
       "      <th>...</th>\n",
       "      <td>...</td>\n",
       "      <td>...</td>\n",
       "      <td>...</td>\n",
       "      <td>...</td>\n",
       "      <td>...</td>\n",
       "    </tr>\n",
       "    <tr>\n",
       "      <th>67</th>\n",
       "      <td>131</td>\n",
       "      <td>D</td>\n",
       "      <td>irrigated</td>\n",
       "      <td>medium</td>\n",
       "      <td>P</td>\n",
       "    </tr>\n",
       "    <tr>\n",
       "      <th>68</th>\n",
       "      <td>126</td>\n",
       "      <td>D</td>\n",
       "      <td>irrigated</td>\n",
       "      <td>medium</td>\n",
       "      <td>NP</td>\n",
       "    </tr>\n",
       "    <tr>\n",
       "      <th>69</th>\n",
       "      <td>116</td>\n",
       "      <td>D</td>\n",
       "      <td>irrigated</td>\n",
       "      <td>high</td>\n",
       "      <td>N</td>\n",
       "    </tr>\n",
       "    <tr>\n",
       "      <th>70</th>\n",
       "      <td>136</td>\n",
       "      <td>D</td>\n",
       "      <td>irrigated</td>\n",
       "      <td>high</td>\n",
       "      <td>P</td>\n",
       "    </tr>\n",
       "    <tr>\n",
       "      <th>71</th>\n",
       "      <td>133</td>\n",
       "      <td>D</td>\n",
       "      <td>irrigated</td>\n",
       "      <td>high</td>\n",
       "      <td>NP</td>\n",
       "    </tr>\n",
       "  </tbody>\n",
       "</table>\n",
       "<p>72 rows × 5 columns</p>\n",
       "</div>"
      ],
      "text/plain": [
       "    yield block irrigation density fertilizer\n",
       "0      90     A    control     low          N\n",
       "1      95     A    control     low          P\n",
       "2     107     A    control     low         NP\n",
       "3      92     A    control  medium          N\n",
       "4      89     A    control  medium          P\n",
       "..    ...   ...        ...     ...        ...\n",
       "67    131     D  irrigated  medium          P\n",
       "68    126     D  irrigated  medium         NP\n",
       "69    116     D  irrigated    high          N\n",
       "70    136     D  irrigated    high          P\n",
       "71    133     D  irrigated    high         NP\n",
       "\n",
       "[72 rows x 5 columns]"
      ]
     },
     "execution_count": 79,
     "metadata": {},
     "output_type": "execute_result"
    }
   ],
   "source": [
    "df = pd.read_csv(r\"C:\\Users\\HAFIZ-TECH\\Downloads\\splityield.txt\", sep=\"\\\\t\", engine=\"python\")\n",
    "\n",
    "# Display the first few rows\n",
    "df"
   ]
  },
  {
   "cell_type": "code",
   "execution_count": 80,
   "id": "815db675-9d59-4693-a754-63ab61caa89c",
   "metadata": {},
   "outputs": [
    {
     "data": {
      "text/html": [
       "<div>\n",
       "<style scoped>\n",
       "    .dataframe tbody tr th:only-of-type {\n",
       "        vertical-align: middle;\n",
       "    }\n",
       "\n",
       "    .dataframe tbody tr th {\n",
       "        vertical-align: top;\n",
       "    }\n",
       "\n",
       "    .dataframe thead th {\n",
       "        text-align: right;\n",
       "    }\n",
       "</style>\n",
       "<table border=\"1\" class=\"dataframe\">\n",
       "  <thead>\n",
       "    <tr style=\"text-align: right;\">\n",
       "      <th></th>\n",
       "      <th>yield_output</th>\n",
       "      <th>block</th>\n",
       "      <th>irrigation</th>\n",
       "      <th>density</th>\n",
       "      <th>fertilizer</th>\n",
       "    </tr>\n",
       "  </thead>\n",
       "  <tbody>\n",
       "    <tr>\n",
       "      <th>0</th>\n",
       "      <td>90</td>\n",
       "      <td>A</td>\n",
       "      <td>control</td>\n",
       "      <td>low</td>\n",
       "      <td>N</td>\n",
       "    </tr>\n",
       "    <tr>\n",
       "      <th>1</th>\n",
       "      <td>95</td>\n",
       "      <td>A</td>\n",
       "      <td>control</td>\n",
       "      <td>low</td>\n",
       "      <td>P</td>\n",
       "    </tr>\n",
       "    <tr>\n",
       "      <th>2</th>\n",
       "      <td>107</td>\n",
       "      <td>A</td>\n",
       "      <td>control</td>\n",
       "      <td>low</td>\n",
       "      <td>NP</td>\n",
       "    </tr>\n",
       "    <tr>\n",
       "      <th>3</th>\n",
       "      <td>92</td>\n",
       "      <td>A</td>\n",
       "      <td>control</td>\n",
       "      <td>medium</td>\n",
       "      <td>N</td>\n",
       "    </tr>\n",
       "    <tr>\n",
       "      <th>4</th>\n",
       "      <td>89</td>\n",
       "      <td>A</td>\n",
       "      <td>control</td>\n",
       "      <td>medium</td>\n",
       "      <td>P</td>\n",
       "    </tr>\n",
       "    <tr>\n",
       "      <th>...</th>\n",
       "      <td>...</td>\n",
       "      <td>...</td>\n",
       "      <td>...</td>\n",
       "      <td>...</td>\n",
       "      <td>...</td>\n",
       "    </tr>\n",
       "    <tr>\n",
       "      <th>67</th>\n",
       "      <td>131</td>\n",
       "      <td>D</td>\n",
       "      <td>irrigated</td>\n",
       "      <td>medium</td>\n",
       "      <td>P</td>\n",
       "    </tr>\n",
       "    <tr>\n",
       "      <th>68</th>\n",
       "      <td>126</td>\n",
       "      <td>D</td>\n",
       "      <td>irrigated</td>\n",
       "      <td>medium</td>\n",
       "      <td>NP</td>\n",
       "    </tr>\n",
       "    <tr>\n",
       "      <th>69</th>\n",
       "      <td>116</td>\n",
       "      <td>D</td>\n",
       "      <td>irrigated</td>\n",
       "      <td>high</td>\n",
       "      <td>N</td>\n",
       "    </tr>\n",
       "    <tr>\n",
       "      <th>70</th>\n",
       "      <td>136</td>\n",
       "      <td>D</td>\n",
       "      <td>irrigated</td>\n",
       "      <td>high</td>\n",
       "      <td>P</td>\n",
       "    </tr>\n",
       "    <tr>\n",
       "      <th>71</th>\n",
       "      <td>133</td>\n",
       "      <td>D</td>\n",
       "      <td>irrigated</td>\n",
       "      <td>high</td>\n",
       "      <td>NP</td>\n",
       "    </tr>\n",
       "  </tbody>\n",
       "</table>\n",
       "<p>72 rows × 5 columns</p>\n",
       "</div>"
      ],
      "text/plain": [
       "    yield_output block irrigation density fertilizer\n",
       "0             90     A    control     low          N\n",
       "1             95     A    control     low          P\n",
       "2            107     A    control     low         NP\n",
       "3             92     A    control  medium          N\n",
       "4             89     A    control  medium          P\n",
       "..           ...   ...        ...     ...        ...\n",
       "67           131     D  irrigated  medium          P\n",
       "68           126     D  irrigated  medium         NP\n",
       "69           116     D  irrigated    high          N\n",
       "70           136     D  irrigated    high          P\n",
       "71           133     D  irrigated    high         NP\n",
       "\n",
       "[72 rows x 5 columns]"
      ]
     },
     "execution_count": 80,
     "metadata": {},
     "output_type": "execute_result"
    }
   ],
   "source": [
    "df = df.rename(columns={\"yield\":\"yield_output\"})\n",
    "df"
   ]
  },
  {
   "cell_type": "markdown",
   "id": "43348bcb-507f-412f-9ec8-6d0141b6ad21",
   "metadata": {},
   "source": [
    "### EDA"
   ]
  },
  {
   "cell_type": "code",
   "execution_count": 81,
   "id": "cbc367d3-cb6a-4850-acc8-405ac25cab9e",
   "metadata": {},
   "outputs": [
    {
     "name": "stdout",
     "output_type": "stream",
     "text": [
      "<class 'pandas.core.frame.DataFrame'>\n",
      "RangeIndex: 72 entries, 0 to 71\n",
      "Data columns (total 5 columns):\n",
      " #   Column        Non-Null Count  Dtype \n",
      "---  ------        --------------  ----- \n",
      " 0   yield_output  72 non-null     int64 \n",
      " 1   block         72 non-null     object\n",
      " 2   irrigation    72 non-null     object\n",
      " 3   density       72 non-null     object\n",
      " 4   fertilizer    72 non-null     object\n",
      "dtypes: int64(1), object(4)\n",
      "memory usage: 2.9+ KB\n",
      "None\n",
      "       yield_output\n",
      "count     72.000000\n",
      "mean      99.722222\n",
      "std       18.292015\n",
      "min       60.000000\n",
      "25%       86.000000\n",
      "50%       95.000000\n",
      "75%      114.000000\n",
      "max      136.000000\n"
     ]
    }
   ],
   "source": [
    "print(df.info())\n",
    "print(df.describe())"
   ]
  },
  {
   "cell_type": "code",
   "execution_count": 103,
   "id": "e739e780-1ef6-4919-80fc-b9649c9181ba",
   "metadata": {},
   "outputs": [
    {
     "data": {
      "image/png": "[encoded data removed]",
      "text/plain": [
       "<Figure size 640x480 with 1 Axes>"
      ]
     },
     "metadata": {},
     "output_type": "display_data"
    },
    {
     "data": {
      "image/png": "[encoded data removed]",
      "text/plain": [
       "<Figure size 640x480 with 1 Axes>"
      ]
     },
     "metadata": {},
     "output_type": "display_data"
    },
    {
     "data": {
      "image/png": "[encoded data removed]",
      "text/plain": [
       "<Figure size 640x480 with 1 Axes>"
      ]
     },
     "metadata": {},
     "output_type": "display_data"
    },
    {
     "data": {
      "image/png": "[encoded data removed]",
      "text/plain": [
       "<Figure size 640x480 with 1 Axes>"
      ]
     },
     "metadata": {},
     "output_type": "display_data"
    }
   ],
   "source": [
    "import seaborn as sns\n",
    "import matplotlib.pyplot as plt\n",
    "\n",
    "# Boxplot of yield by irrigation type\n",
    "sns.boxplot(x=\"block\", y=\"yield_output\", data=df)\n",
    "plt.title(\"Yield by block Type\")\n",
    "plt.show()\n",
    "\n",
    "\n",
    "# Boxplot of yield by irrigation type\n",
    "sns.boxplot(x=\"irrigation\", y=\"yield_output\", data=df)\n",
    "plt.title(\"Yield by Irrigation Type\")\n",
    "plt.show()\n",
    "\n",
    "# Boxplot of yield by fertilizer type\n",
    "sns.boxplot(x=\"fertilizer\", y=\"yield_output\", data=df)\n",
    "plt.title(\"Yield by Fertilizer Type\")\n",
    "plt.show()\n",
    "\n",
    "# Boxplot of yield by density\n",
    "sns.boxplot(x=\"density\", y=\"yield_output\", data=df)\n",
    "plt.title(\"Yield by Density\")\n",
    "plt.show()\n"
   ]
  },
  {
   "cell_type": "markdown",
   "id": "947436ec-3bc1-41ea-aab7-71b37cde7da6",
   "metadata": {},
   "source": [
    "### ANOVA"
   ]
  },
  {
   "cell_type": "code",
   "execution_count": 83,
   "id": "c42cfc51-8309-44a1-b93d-82a27b786a09",
   "metadata": {},
   "outputs": [
    {
     "name": "stdout",
     "output_type": "stream",
     "text": [
      "                     sum_sq    df          F        PR(>F)\n",
      "C(block)         194.444444   3.0   0.353577  7.866939e-01\n",
      "C(irrigation)   8277.555556   1.0  45.155624  6.137816e-09\n",
      "C(density)      1758.361111   2.0   4.796095  1.151318e-02\n",
      "C(fertilizer)   1977.444444   2.0   5.393666  6.883359e-03\n",
      "Residual       11548.638889  63.0        NaN           NaN\n"
     ]
    }
   ],
   "source": [
    "# Fit the ANOVA model\n",
    "model = ols(\"yield_output ~ C(block) + C(irrigation) + C(density) + C(fertilizer)\", data=df).fit()\n",
    "anova_table = sm.stats.anova_lm(model, typ=2)\n",
    "print(anova_table)"
   ]
  },
  {
   "cell_type": "code",
   "execution_count": 84,
   "id": "23849e4e-7b54-4d5e-8c16-b9954aa89d03",
   "metadata": {},
   "outputs": [
    {
     "name": "stdout",
     "output_type": "stream",
     "text": [
      "                     sum_sq    df          F        PR(>F)\n",
      "C(irrigation)   8277.555556   1.0  46.522591  3.370597e-09\n",
      "C(fertilizer)   1977.444444   2.0   5.556945  5.882660e-03\n",
      "C(density)      1758.361111   2.0   4.941285  1.000606e-02\n",
      "Residual       11743.083333  66.0        NaN           NaN\n"
     ]
    }
   ],
   "source": [
    "anova_model_refined = ols(\"yield_output ~ C(irrigation) + C(fertilizer) + C(density)\", data=df).fit()\n",
    "anova_table_refined = sm.stats.anova_lm(anova_model_refined, typ=2)\n",
    "print(anova_table_refined)"
   ]
  },
  {
   "cell_type": "markdown",
   "id": "ee990f46-24ed-41b7-94e3-936346d1e29e",
   "metadata": {},
   "source": [
    "### Null Model"
   ]
  },
  {
   "cell_type": "code",
   "execution_count": 85,
   "id": "e776b03b-80ab-4e7f-8679-8033c7c83461",
   "metadata": {},
   "outputs": [],
   "source": [
    "model_used, model_aic, model_deviance = [], [], []"
   ]
  },
  {
   "cell_type": "code",
   "execution_count": 86,
   "id": "84e4ee38-1495-4490-b9ac-e3352654fe8d",
   "metadata": {},
   "outputs": [
    {
     "name": "stdout",
     "output_type": "stream",
     "text": [
      "                 Generalized Linear Model Regression Results                  \n",
      "==============================================================================\n",
      "Dep. Variable:           yield_output   No. Observations:                   72\n",
      "Model:                            GLM   Df Residuals:                       71\n",
      "Model Family:                Gaussian   Df Model:                            0\n",
      "Link Function:               Identity   Scale:                          334.60\n",
      "Method:                          IRLS   Log-Likelihood:                -310.93\n",
      "Date:                Thu, 12 Dec 2024   Deviance:                       23756.\n",
      "Time:                        15:12:01   Pearson chi2:                 2.38e+04\n",
      "No. Iterations:                     3   Pseudo R-squ. (CS):          9.735e-05\n",
      "Covariance Type:            nonrobust                                         \n",
      "==============================================================================\n",
      "                 coef    std err          z      P>|z|      [0.025      0.975]\n",
      "------------------------------------------------------------------------------\n",
      "Intercept     99.7222      2.156     46.259      0.000      95.497     103.947\n",
      "==============================================================================\n",
      "The result of the AIC is: \n",
      "624\n"
     ]
    }
   ],
   "source": [
    "# null model\n",
    "formula = \"yield_output ~ 1\"\n",
    "model = smf.glm(formula, df, family = sm.families.Gaussian()) # https://www.statsmodels.org/stable/glm.html#families\n",
    "result = model.fit()\n",
    "print(result.summary())\n",
    "model_used.append('null model')\n",
    "model_aic.append(result.aic)\n",
    "model_deviance.append(result.deviance)\n",
    "print(\"The result of the AIC is: \")\n",
    "print(round(result.aic))"
   ]
  },
  {
   "cell_type": "markdown",
   "id": "b8992576-e6b7-4230-87b1-899e86d43b53",
   "metadata": {},
   "source": [
    "### Full Model"
   ]
  },
  {
   "cell_type": "code",
   "execution_count": 105,
   "id": "d23c053a-ded4-40fd-9cac-9572b494e6b0",
   "metadata": {},
   "outputs": [
    {
     "name": "stdout",
     "output_type": "stream",
     "text": [
      "                 Generalized Linear Model Regression Results                  \n",
      "==============================================================================\n",
      "Dep. Variable:           yield_output   No. Observations:                   72\n",
      "Model:                            GLM   Df Residuals:                       54\n",
      "Model Family:                Gaussian   Df Model:                           17\n",
      "Link Function:               Identity   Scale:                          138.94\n",
      "Method:                          IRLS   Log-Likelihood:                -269.43\n",
      "Date:                Thu, 12 Dec 2024   Deviance:                       7503.0\n",
      "Time:                        15:42:26   Pearson chi2:                 7.50e+03\n",
      "No. Iterations:                     3   Pseudo R-squ. (CS):             0.8103\n",
      "Covariance Type:            nonrobust                                         \n",
      "=======================================================================================================================================\n",
      "                                                                          coef    std err          z      P>|z|      [0.025      0.975]\n",
      "---------------------------------------------------------------------------------------------------------------------------------------\n",
      "Intercept                                                              80.5000      5.894     13.659      0.000      68.948      92.052\n",
      "C(irrigation)[T.irrigated]                                             31.7500      8.335      3.809      0.000      15.414      48.086\n",
      "C(fertilizer)[T.NP]                                                     5.5000      8.335      0.660      0.509     -10.836      21.836\n",
      "C(fertilizer)[T.P]                                                      4.5000      8.335      0.540      0.589     -11.836      20.836\n",
      "C(density)[T.low]                                                       5.5000      8.335      0.660      0.509     -10.836      21.836\n",
      "C(density)[T.medium]                                                   14.7500      8.335      1.770      0.077      -1.586      31.086\n",
      "C(irrigation)[T.irrigated]:C(fertilizer)[T.NP]                         13.0000     11.787      1.103      0.270     -10.103      36.103\n",
      "C(irrigation)[T.irrigated]:C(fertilizer)[T.P]                           5.5000     11.787      0.467      0.641     -17.603      28.603\n",
      "C(irrigation)[T.irrigated]:C(density)[T.low]                          -39.0000     11.787     -3.309      0.001     -62.103     -15.897\n",
      "C(irrigation)[T.irrigated]:C(density)[T.medium]                       -22.2500     11.787     -1.888      0.059     -45.353       0.853\n",
      "C(fertilizer)[T.NP]:C(density)[T.low]                                   3.2500     11.787      0.276      0.783     -19.853      26.353\n",
      "C(fertilizer)[T.P]:C(density)[T.low]                                   -5.2500     11.787     -0.445      0.656     -28.353      17.853\n",
      "C(fertilizer)[T.NP]:C(density)[T.medium]                               -6.7500     11.787     -0.573      0.567     -29.853      16.353\n",
      "C(fertilizer)[T.P]:C(density)[T.medium]                                -5.5000     11.787     -0.467      0.641     -28.603      17.603\n",
      "C(irrigation)[T.irrigated]:C(fertilizer)[T.NP]:C(density)[T.low]        7.7500     16.670      0.465      0.642     -24.923      40.423\n",
      "C(irrigation)[T.irrigated]:C(fertilizer)[T.P]:C(density)[T.low]        20.0000     16.670      1.200      0.230     -12.673      52.673\n",
      "C(irrigation)[T.irrigated]:C(fertilizer)[T.NP]:C(density)[T.medium]     3.7500     16.670      0.225      0.822     -28.923      36.423\n",
      "C(irrigation)[T.irrigated]:C(fertilizer)[T.P]:C(density)[T.medium]      4.0000     16.670      0.240      0.810     -28.673      36.673\n",
      "=======================================================================================================================================\n",
      "The result of the AIC is: \n",
      "575\n"
     ]
    }
   ],
   "source": [
    "# full model\n",
    "formula = \"yield_output ~ C(irrigation) * C(fertilizer) * C(density)\"\n",
    "model = smf.glm(formula, df, family = sm.families.Gaussian()) # https://www.statsmodels.org/stable/glm.html#families\n",
    "result = model.fit()\n",
    "print(result.summary())\n",
    "model_used.append('full model')\n",
    "model_aic.append(result.aic)\n",
    "model_deviance.append(result.deviance)\n",
    "print(\"The result of the AIC is: \")\n",
    "print(round(result.aic))"
   ]
  },
  {
   "cell_type": "markdown",
   "id": "a201bbf0-cb97-4bd8-ae1c-ab0b2d66035e",
   "metadata": {},
   "source": [
    "### Parsimonious Model"
   ]
  },
  {
   "cell_type": "code",
   "execution_count": 88,
   "id": "7246742d-9fcd-40b5-98c1-826ea75cfac9",
   "metadata": {},
   "outputs": [
    {
     "name": "stdout",
     "output_type": "stream",
     "text": [
      "                 Generalized Linear Model Regression Results                  \n",
      "==============================================================================\n",
      "Dep. Variable:           yield_output   No. Observations:                   48\n",
      "Model:                            GLM   Df Residuals:                       43\n",
      "Model Family:                Gaussian   Df Model:                            4\n",
      "Link Function:               Identity   Scale:                          205.81\n",
      "Method:                          IRLS   Log-Likelihood:                -193.32\n",
      "Date:                Thu, 12 Dec 2024   Deviance:                       8849.6\n",
      "Time:                        15:12:01   Pearson chi2:                 8.85e+03\n",
      "No. Iterations:                     3   Pseudo R-squ. (CS):             0.6221\n",
      "Covariance Type:            nonrobust                                         \n",
      "==============================================================================================\n",
      "                                 coef    std err          z      P>|z|      [0.025      0.975]\n",
      "----------------------------------------------------------------------------------------------\n",
      "Intercept                     82.8750      4.630     17.899      0.000      73.800      91.950\n",
      "C(irrigation)[T.irrigated]    23.0417      4.141      5.564      0.000      14.925      31.158\n",
      "C(fertilizer)[T.NP]           15.5625      5.072      3.068      0.002       5.621      25.504\n",
      "C(fertilizer)[T.P]             9.6250      5.072      1.898      0.058      -0.316      19.566\n",
      "C(density)[T.low]            -10.0417      4.141     -2.425      0.015     -18.158      -1.925\n",
      "==============================================================================================\n",
      "The result of the AIC for the refined model is: \n",
      "397\n"
     ]
    }
   ],
   "source": [
    "#candidate model\n",
    "\n",
    "# Filter out the 'medium' category from the 'density' variable\n",
    "df_filtered = df[df['density'] != 'medium']\n",
    "\n",
    "# Define the formula for GLM\n",
    "formula = \"yield_output ~ C(irrigation) + C(fertilizer) + C(density)\"\n",
    "\n",
    "# Fit the GLM model with the filtered data\n",
    "model = smf.glm(formula, data=df_filtered, family=sm.families.Gaussian())\n",
    "result = model.fit()\n",
    "\n",
    "# Print the summary of the model\n",
    "print(result.summary())\n",
    "\n",
    "# Store the model details\n",
    "model_used.append('Refined model (without medium density)')\n",
    "model_aic.append(result.aic)\n",
    "model_deviance.append(result.deviance)\n",
    "\n",
    "# Print the AIC for the refined model\n",
    "print(\"The result of the AIC for the refined model is: \")\n",
    "print(round(result.aic))"
   ]
  },
  {
   "cell_type": "code",
   "execution_count": 89,
   "id": "3d537d31-6a86-47b2-8b4e-b4be13db5265",
   "metadata": {},
   "outputs": [
    {
     "data": {
      "text/html": [
       "<div>\n",
       "<style scoped>\n",
       "    .dataframe tbody tr th:only-of-type {\n",
       "        vertical-align: middle;\n",
       "    }\n",
       "\n",
       "    .dataframe tbody tr th {\n",
       "        vertical-align: top;\n",
       "    }\n",
       "\n",
       "    .dataframe thead th {\n",
       "        text-align: right;\n",
       "    }\n",
       "</style>\n",
       "<table border=\"1\" class=\"dataframe\">\n",
       "  <thead>\n",
       "    <tr style=\"text-align: right;\">\n",
       "      <th></th>\n",
       "      <th>model used</th>\n",
       "      <th>aic</th>\n",
       "      <th>deviance</th>\n",
       "    </tr>\n",
       "  </thead>\n",
       "  <tbody>\n",
       "    <tr>\n",
       "      <th>0</th>\n",
       "      <td>null model</td>\n",
       "      <td>623.851045</td>\n",
       "      <td>23756.444444</td>\n",
       "    </tr>\n",
       "    <tr>\n",
       "      <th>1</th>\n",
       "      <td>full model</td>\n",
       "      <td>583.120606</td>\n",
       "      <td>11743.083333</td>\n",
       "    </tr>\n",
       "    <tr>\n",
       "      <th>2</th>\n",
       "      <td>Refined model (without medium density)</td>\n",
       "      <td>396.630821</td>\n",
       "      <td>8849.645833</td>\n",
       "    </tr>\n",
       "  </tbody>\n",
       "</table>\n",
       "</div>"
      ],
      "text/plain": [
       "                               model used         aic      deviance\n",
       "0                              null model  623.851045  23756.444444\n",
       "1                              full model  583.120606  11743.083333\n",
       "2  Refined model (without medium density)  396.630821   8849.645833"
      ]
     },
     "execution_count": 89,
     "metadata": {},
     "output_type": "execute_result"
    }
   ],
   "source": [
    "metrics = {\"model used\": model_used,\n",
    "           \"aic\": model_aic,\n",
    "           \"deviance\": model_deviance}\n",
    "\n",
    "metrics_df = pd.DataFrame(metrics)\n",
    "metrics_df"
   ]
  }
 ],
 "metadata": {
  "kernelspec": {
   "display_name": "Python 3 (ipykernel)",
   "language": "python",
   "name": "python3"
  },
  "language_info": {
   "codemirror_mode": {
    "name": "ipython",
    "version": 3
   },
   "file_extension": ".py",
   "mimetype": "text/x-python",
   "name": "python",
   "nbconvert_exporter": "python",
   "pygments_lexer": "ipython3",
   "version": "3.12.4"
  }
 },
 "nbformat": 4,
 "nbformat_minor": 5
}
