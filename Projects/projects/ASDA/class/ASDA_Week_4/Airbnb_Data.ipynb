{
 "cells": [
  {
   "cell_type": "markdown",
   "id": "a28e3e37-b834-4bff-bd6e-c50568277ff5",
   "metadata": {},
   "source": [
    "#  Airbnb Europe Exercise"
   ]
  },
  {
   "cell_type": "markdown",
   "id": "9a4fb91f-15c5-455f-a8a0-e264c939da0f",
   "metadata": {},
   "source": [
    "## Step 1: Importing the data"
   ]
  },
  {
   "cell_type": "markdown",
   "id": "9b49eede-98e5-4ab0-9e8a-e36fbc61db53",
   "metadata": {},
   "source": [
    "### Solo Attempt: Importing via CSV Files\n",
    "\n",
    "To begin I imported the data using the csv package I am familiar with. \n",
    "This method worked; however, it is rather clunky. "
   ]
  },
  {
   "cell_type": "code",
<<<<<<< HEAD
   "execution_count": 31,
=======
   "execution_count": 4,
>>>>>>> 0d48a1aa6df4fbd794e2db0772e9b54dd0fd711c
   "id": "ce7ac367-e1d9-477a-8aab-788b1c9fd54b",
   "metadata": {},
   "outputs": [
    {
     "data": {
      "text/html": [
       "<div>\n",
       "<style scoped>\n",
       "    .dataframe tbody tr th:only-of-type {\n",
       "        vertical-align: middle;\n",
       "    }\n",
       "\n",
       "    .dataframe tbody tr th {\n",
       "        vertical-align: top;\n",
       "    }\n",
       "\n",
       "    .dataframe thead th {\n",
       "        text-align: right;\n",
       "    }\n",
       "</style>\n",
       "<table border=\"1\" class=\"dataframe\">\n",
       "  <thead>\n",
       "    <tr style=\"text-align: right;\">\n",
       "      <th></th>\n",
       "      <th>Unnamed: 0</th>\n",
       "      <th>realSum</th>\n",
       "      <th>room_type</th>\n",
       "      <th>room_shared</th>\n",
       "      <th>room_private</th>\n",
       "      <th>person_capacity</th>\n",
       "      <th>host_is_superhost</th>\n",
       "      <th>multi</th>\n",
       "      <th>biz</th>\n",
       "      <th>cleanliness_rating</th>\n",
       "      <th>...</th>\n",
       "      <th>dist</th>\n",
       "      <th>metro_dist</th>\n",
       "      <th>attr_index</th>\n",
       "      <th>attr_index_norm</th>\n",
       "      <th>rest_index</th>\n",
       "      <th>rest_index_norm</th>\n",
       "      <th>lng</th>\n",
       "      <th>lat</th>\n",
       "      <th>city</th>\n",
       "      <th>week_period</th>\n",
       "    </tr>\n",
       "  </thead>\n",
       "  <tbody>\n",
       "    <tr>\n",
       "      <th>0</th>\n",
       "      <td>0</td>\n",
       "      <td>194.033698</td>\n",
       "      <td>Private room</td>\n",
       "      <td>False</td>\n",
       "      <td>True</td>\n",
       "      <td>2</td>\n",
       "      <td>False</td>\n",
       "      <td>1</td>\n",
       "      <td>0</td>\n",
       "      <td>10</td>\n",
       "      <td>...</td>\n",
       "      <td>5.022964</td>\n",
       "      <td>2.539380</td>\n",
       "      <td>78.690379</td>\n",
       "      <td>4.166708</td>\n",
       "      <td>98.253896</td>\n",
       "      <td>6.846473</td>\n",
       "      <td>4.90569</td>\n",
       "      <td>52.41772</td>\n",
       "      <td>amsterdam</td>\n",
       "      <td>weekdays</td>\n",
       "    </tr>\n",
       "    <tr>\n",
       "      <th>1</th>\n",
       "      <td>1</td>\n",
       "      <td>344.245776</td>\n",
       "      <td>Private room</td>\n",
       "      <td>False</td>\n",
       "      <td>True</td>\n",
       "      <td>4</td>\n",
       "      <td>False</td>\n",
       "      <td>0</td>\n",
       "      <td>0</td>\n",
       "      <td>8</td>\n",
       "      <td>...</td>\n",
       "      <td>0.488389</td>\n",
       "      <td>0.239404</td>\n",
       "      <td>631.176378</td>\n",
       "      <td>33.421209</td>\n",
       "      <td>837.280757</td>\n",
       "      <td>58.342928</td>\n",
       "      <td>4.90005</td>\n",
       "      <td>52.37432</td>\n",
       "      <td>amsterdam</td>\n",
       "      <td>weekdays</td>\n",
       "    </tr>\n",
       "    <tr>\n",
       "      <th>2</th>\n",
       "      <td>2</td>\n",
       "      <td>264.101422</td>\n",
       "      <td>Private room</td>\n",
       "      <td>False</td>\n",
       "      <td>True</td>\n",
       "      <td>2</td>\n",
       "      <td>False</td>\n",
       "      <td>0</td>\n",
       "      <td>1</td>\n",
       "      <td>9</td>\n",
       "      <td>...</td>\n",
       "      <td>5.748312</td>\n",
       "      <td>3.651621</td>\n",
       "      <td>75.275877</td>\n",
       "      <td>3.985908</td>\n",
       "      <td>95.386955</td>\n",
       "      <td>6.646700</td>\n",
       "      <td>4.97512</td>\n",
       "      <td>52.36103</td>\n",
       "      <td>amsterdam</td>\n",
       "      <td>weekdays</td>\n",
       "    </tr>\n",
       "    <tr>\n",
       "      <th>3</th>\n",
       "      <td>3</td>\n",
       "      <td>433.529398</td>\n",
       "      <td>Private room</td>\n",
       "      <td>False</td>\n",
       "      <td>True</td>\n",
       "      <td>4</td>\n",
       "      <td>False</td>\n",
       "      <td>0</td>\n",
       "      <td>1</td>\n",
       "      <td>9</td>\n",
       "      <td>...</td>\n",
       "      <td>0.384862</td>\n",
       "      <td>0.439876</td>\n",
       "      <td>493.272534</td>\n",
       "      <td>26.119108</td>\n",
       "      <td>875.033098</td>\n",
       "      <td>60.973565</td>\n",
       "      <td>4.89417</td>\n",
       "      <td>52.37663</td>\n",
       "      <td>amsterdam</td>\n",
       "      <td>weekdays</td>\n",
       "    </tr>\n",
       "    <tr>\n",
       "      <th>4</th>\n",
       "      <td>4</td>\n",
       "      <td>485.552926</td>\n",
       "      <td>Private room</td>\n",
       "      <td>False</td>\n",
       "      <td>True</td>\n",
       "      <td>2</td>\n",
       "      <td>True</td>\n",
       "      <td>0</td>\n",
       "      <td>0</td>\n",
       "      <td>10</td>\n",
       "      <td>...</td>\n",
       "      <td>0.544738</td>\n",
       "      <td>0.318693</td>\n",
       "      <td>552.830324</td>\n",
       "      <td>29.272733</td>\n",
       "      <td>815.305740</td>\n",
       "      <td>56.811677</td>\n",
       "      <td>4.90051</td>\n",
       "      <td>52.37508</td>\n",
       "      <td>amsterdam</td>\n",
       "      <td>weekdays</td>\n",
       "    </tr>\n",
       "    <tr>\n",
       "      <th>...</th>\n",
       "      <td>...</td>\n",
       "      <td>...</td>\n",
       "      <td>...</td>\n",
       "      <td>...</td>\n",
       "      <td>...</td>\n",
       "      <td>...</td>\n",
       "      <td>...</td>\n",
       "      <td>...</td>\n",
       "      <td>...</td>\n",
       "      <td>...</td>\n",
       "      <td>...</td>\n",
       "      <td>...</td>\n",
       "      <td>...</td>\n",
       "      <td>...</td>\n",
       "      <td>...</td>\n",
       "      <td>...</td>\n",
       "      <td>...</td>\n",
       "      <td>...</td>\n",
       "      <td>...</td>\n",
       "      <td>...</td>\n",
       "      <td>...</td>\n",
       "    </tr>\n",
       "    <tr>\n",
       "      <th>46422</th>\n",
       "      <td>1794</td>\n",
       "      <td>715.938574</td>\n",
       "      <td>Entire home/apt</td>\n",
       "      <td>False</td>\n",
       "      <td>False</td>\n",
       "      <td>6</td>\n",
       "      <td>False</td>\n",
       "      <td>0</td>\n",
       "      <td>1</td>\n",
       "      <td>10</td>\n",
       "      <td>...</td>\n",
       "      <td>0.530181</td>\n",
       "      <td>0.135447</td>\n",
       "      <td>219.402478</td>\n",
       "      <td>15.712158</td>\n",
       "      <td>438.756874</td>\n",
       "      <td>10.604584</td>\n",
       "      <td>16.37940</td>\n",
       "      <td>48.21136</td>\n",
       "      <td>vienna</td>\n",
       "      <td>weekends</td>\n",
       "    </tr>\n",
       "    <tr>\n",
       "      <th>46423</th>\n",
       "      <td>1795</td>\n",
       "      <td>304.793960</td>\n",
       "      <td>Entire home/apt</td>\n",
       "      <td>False</td>\n",
       "      <td>False</td>\n",
       "      <td>2</td>\n",
       "      <td>False</td>\n",
       "      <td>0</td>\n",
       "      <td>0</td>\n",
       "      <td>8</td>\n",
       "      <td>...</td>\n",
       "      <td>0.810205</td>\n",
       "      <td>0.100839</td>\n",
       "      <td>204.970121</td>\n",
       "      <td>14.678608</td>\n",
       "      <td>342.182813</td>\n",
       "      <td>8.270427</td>\n",
       "      <td>16.38070</td>\n",
       "      <td>48.20296</td>\n",
       "      <td>vienna</td>\n",
       "      <td>weekends</td>\n",
       "    </tr>\n",
       "    <tr>\n",
       "      <th>46424</th>\n",
       "      <td>1796</td>\n",
       "      <td>637.168969</td>\n",
       "      <td>Entire home/apt</td>\n",
       "      <td>False</td>\n",
       "      <td>False</td>\n",
       "      <td>2</td>\n",
       "      <td>False</td>\n",
       "      <td>0</td>\n",
       "      <td>0</td>\n",
       "      <td>10</td>\n",
       "      <td>...</td>\n",
       "      <td>0.994051</td>\n",
       "      <td>0.202539</td>\n",
       "      <td>169.073402</td>\n",
       "      <td>12.107921</td>\n",
       "      <td>282.296425</td>\n",
       "      <td>6.822996</td>\n",
       "      <td>16.38568</td>\n",
       "      <td>48.20460</td>\n",
       "      <td>vienna</td>\n",
       "      <td>weekends</td>\n",
       "    </tr>\n",
       "    <tr>\n",
       "      <th>46425</th>\n",
       "      <td>1797</td>\n",
       "      <td>301.054157</td>\n",
       "      <td>Private room</td>\n",
       "      <td>False</td>\n",
       "      <td>True</td>\n",
       "      <td>2</td>\n",
       "      <td>False</td>\n",
       "      <td>0</td>\n",
       "      <td>0</td>\n",
       "      <td>10</td>\n",
       "      <td>...</td>\n",
       "      <td>3.044100</td>\n",
       "      <td>0.287435</td>\n",
       "      <td>109.236574</td>\n",
       "      <td>7.822803</td>\n",
       "      <td>158.563398</td>\n",
       "      <td>3.832416</td>\n",
       "      <td>16.34100</td>\n",
       "      <td>48.19200</td>\n",
       "      <td>vienna</td>\n",
       "      <td>weekends</td>\n",
       "    </tr>\n",
       "    <tr>\n",
       "      <th>46426</th>\n",
       "      <td>1798</td>\n",
       "      <td>133.230489</td>\n",
       "      <td>Private room</td>\n",
       "      <td>False</td>\n",
       "      <td>True</td>\n",
       "      <td>4</td>\n",
       "      <td>True</td>\n",
       "      <td>1</td>\n",
       "      <td>0</td>\n",
       "      <td>10</td>\n",
       "      <td>...</td>\n",
       "      <td>1.263932</td>\n",
       "      <td>0.480903</td>\n",
       "      <td>150.450381</td>\n",
       "      <td>10.774264</td>\n",
       "      <td>225.247293</td>\n",
       "      <td>5.444140</td>\n",
       "      <td>16.39066</td>\n",
       "      <td>48.20811</td>\n",
       "      <td>vienna</td>\n",
       "      <td>weekends</td>\n",
       "    </tr>\n",
       "  </tbody>\n",
       "</table>\n",
       "<p>46427 rows × 22 columns</p>\n",
       "</div>"
      ],
      "text/plain": [
       "       Unnamed: 0     realSum        room_type  room_shared  room_private  \\\n",
       "0               0  194.033698     Private room        False          True   \n",
       "1               1  344.245776     Private room        False          True   \n",
       "2               2  264.101422     Private room        False          True   \n",
       "3               3  433.529398     Private room        False          True   \n",
       "4               4  485.552926     Private room        False          True   \n",
       "...           ...         ...              ...          ...           ...   \n",
       "46422        1794  715.938574  Entire home/apt        False         False   \n",
       "46423        1795  304.793960  Entire home/apt        False         False   \n",
       "46424        1796  637.168969  Entire home/apt        False         False   \n",
       "46425        1797  301.054157     Private room        False          True   \n",
       "46426        1798  133.230489     Private room        False          True   \n",
       "\n",
       "       person_capacity  host_is_superhost  multi  biz  cleanliness_rating  \\\n",
       "0                    2              False      1    0                  10   \n",
       "1                    4              False      0    0                   8   \n",
       "2                    2              False      0    1                   9   \n",
       "3                    4              False      0    1                   9   \n",
       "4                    2               True      0    0                  10   \n",
       "...                ...                ...    ...  ...                 ...   \n",
       "46422                6              False      0    1                  10   \n",
       "46423                2              False      0    0                   8   \n",
       "46424                2              False      0    0                  10   \n",
       "46425                2              False      0    0                  10   \n",
       "46426                4               True      1    0                  10   \n",
       "\n",
       "       ...      dist  metro_dist  attr_index  attr_index_norm  rest_index  \\\n",
       "0      ...  5.022964    2.539380   78.690379         4.166708   98.253896   \n",
       "1      ...  0.488389    0.239404  631.176378        33.421209  837.280757   \n",
       "2      ...  5.748312    3.651621   75.275877         3.985908   95.386955   \n",
       "3      ...  0.384862    0.439876  493.272534        26.119108  875.033098   \n",
       "4      ...  0.544738    0.318693  552.830324        29.272733  815.305740   \n",
       "...    ...       ...         ...         ...              ...         ...   \n",
       "46422  ...  0.530181    0.135447  219.402478        15.712158  438.756874   \n",
       "46423  ...  0.810205    0.100839  204.970121        14.678608  342.182813   \n",
       "46424  ...  0.994051    0.202539  169.073402        12.107921  282.296425   \n",
       "46425  ...  3.044100    0.287435  109.236574         7.822803  158.563398   \n",
       "46426  ...  1.263932    0.480903  150.450381        10.774264  225.247293   \n",
       "\n",
       "       rest_index_norm       lng       lat       city  week_period  \n",
       "0             6.846473   4.90569  52.41772  amsterdam     weekdays  \n",
       "1            58.342928   4.90005  52.37432  amsterdam     weekdays  \n",
       "2             6.646700   4.97512  52.36103  amsterdam     weekdays  \n",
       "3            60.973565   4.89417  52.37663  amsterdam     weekdays  \n",
       "4            56.811677   4.90051  52.37508  amsterdam     weekdays  \n",
       "...                ...       ...       ...        ...          ...  \n",
       "46422        10.604584  16.37940  48.21136     vienna     weekends  \n",
       "46423         8.270427  16.38070  48.20296     vienna     weekends  \n",
       "46424         6.822996  16.38568  48.20460     vienna     weekends  \n",
       "46425         3.832416  16.34100  48.19200     vienna     weekends  \n",
       "46426         5.444140  16.39066  48.20811     vienna     weekends  \n",
       "\n",
       "[46427 rows x 22 columns]"
      ]
     },
     "metadata": {},
     "output_type": "display_data"
    }
   ],
   "source": [
    "import pandas as pd\n",
    "import csv\n",
    "\n",
    "def open_csv_file(file_path):\n",
    "    df = pd.read_csv(file_path)\n",
    "    return df\n",
    "\n",
    "\n",
    "# athens not included becuase I need to solve the olnly weekdays problem\n",
    "cities = ['amsterdam', 'barcelona', 'berlin', 'budapest', 'lisbon', 'london', 'paris', 'rome', 'vienna']\n",
    "week_period = ['weekdays', 'weekends']\n",
    "data_frames = {}\n",
    "complete_data = pd.DataFrame()\n",
    "\n",
    "for i in week_period:\n",
    "    for city in cities:\n",
    "        file_path = 'airbnb - '+city+'_'+i+'.csv'\n",
    "        df = open_csv_file(file_path)\n",
    "        df['city'] = city\n",
    "        df['week_period'] = i\n",
    "        df_name = 'df_'+city+'_'+i\n",
    "        data_frames[df_name] = df\n",
    "\n",
    "# Here I introduced a check to see if I had stored the dataframe properly \n",
    "# in the dictionary as I was previously having problems overwriting the datafram with a name.\n",
    "\"\"\" for key, value in data_frames.items():\n",
    "    print(f\"Key: {key}, Type of Value: {type(value)}\") \"\"\"\n",
    "    \n",
    "for df in data_frames.values():\n",
    "    complete_data = pd.concat([complete_data, df], axis=0, ignore_index=True)\n",
    "    \"\"\"\n",
    "    id_counter = 0\n",
    "    complete_data['ID'] = range(id_counter, id_counter + len(df))\n",
    "    id_counter += len(df)\n",
    "    \"\"\"\n",
    "\n",
    "display(complete_data)\n",
    "\n"
   ]
  },
  {
   "cell_type": "markdown",
   "id": "f4dca40a-2dd4-4f9c-ab3b-0929d80afe78",
   "metadata": {},
   "source": [
    "### At home attempt: importing using an excel file"
   ]
  },
  {
   "cell_type": "markdown",
   "id": "f3642bf7-8109-4046-9fc4-5cd753339398",
   "metadata": {},
   "source": [
    "During class it became clear that using an excel file to download the data is\n",
    "quicker as it allows you to downlod all the tabs of data in one go. I am going to implement this here."
   ]
  },
  {
   "cell_type": "code",
<<<<<<< HEAD
   "execution_count": 32,
=======
   "execution_count": 5,
>>>>>>> 0d48a1aa6df4fbd794e2db0772e9b54dd0fd711c
   "id": "a620449b-e0a4-4c6b-804b-c2783785ccbb",
   "metadata": {},
   "outputs": [
    {
     "name": "stdout",
     "output_type": "stream",
     "text": [
      "['amsterdam_weekdays', 'amsterdam_weekends', 'athens_weekdays', 'athens_weekends', 'berlin_weekends', 'berlin_weekdays', 'barcelona_weekdays', 'barcelona_weekends', 'budapest_weekdays', 'budapest_weekends', 'lisbon_weekdays', 'lisbon_weekends', 'london_weekdays', 'london_weekends', 'paris_weekdays', 'paris_weekends', 'rome_weekdays', 'rome_weekends', 'vienna_weekdays', 'vienna_weekends']\n"
     ]
    }
   ],
   "source": [
    "import pandas as pd\n",
    "excel = pd.ExcelFile(\"https://docs.google.com/spreadsheets/d/1ecopK6oyyb4d_7-QLrCr8YlgFrCetHU7-VQfnYej7JY/export/format=xlxs\")\n",
    "excel_sheet_names = excel.sheet_names\n",
    "print(excel_sheet_names)"
   ]
  },
  {
   "cell_type": "code",
<<<<<<< HEAD
   "execution_count": 33,
=======
   "execution_count": 6,
>>>>>>> 0d48a1aa6df4fbd794e2db0772e9b54dd0fd711c
   "id": "692fde57-f688-4564-b646-ec47e22735b4",
   "metadata": {},
   "outputs": [
    {
     "data": {
      "text/html": [
       "<div>\n",
       "<style scoped>\n",
       "    .dataframe tbody tr th:only-of-type {\n",
       "        vertical-align: middle;\n",
       "    }\n",
       "\n",
       "    .dataframe tbody tr th {\n",
       "        vertical-align: top;\n",
       "    }\n",
       "\n",
       "    .dataframe thead th {\n",
       "        text-align: right;\n",
       "    }\n",
       "</style>\n",
       "<table border=\"1\" class=\"dataframe\">\n",
       "  <thead>\n",
       "    <tr style=\"text-align: right;\">\n",
       "      <th></th>\n",
       "      <th>Unnamed: 0</th>\n",
       "      <th>realSum</th>\n",
       "      <th>room_type</th>\n",
       "      <th>room_shared</th>\n",
       "      <th>room_private</th>\n",
       "      <th>person_capacity</th>\n",
       "      <th>host_is_superhost</th>\n",
       "      <th>multi</th>\n",
       "      <th>biz</th>\n",
       "      <th>cleanliness_rating</th>\n",
       "      <th>...</th>\n",
       "      <th>metro_dist</th>\n",
       "      <th>attr_index</th>\n",
       "      <th>attr_index_norm</th>\n",
       "      <th>rest_index</th>\n",
       "      <th>rest_index_norm</th>\n",
       "      <th>lng</th>\n",
       "      <th>lat</th>\n",
       "      <th>city</th>\n",
       "      <th>week_period</th>\n",
       "      <th>country</th>\n",
       "    </tr>\n",
       "  </thead>\n",
       "  <tbody>\n",
       "    <tr>\n",
       "      <th>0</th>\n",
       "      <td>0</td>\n",
       "      <td>194.033698</td>\n",
       "      <td>Private room</td>\n",
       "      <td>False</td>\n",
       "      <td>True</td>\n",
       "      <td>2</td>\n",
       "      <td>False</td>\n",
       "      <td>1</td>\n",
       "      <td>0</td>\n",
       "      <td>10</td>\n",
       "      <td>...</td>\n",
       "      <td>2.539380</td>\n",
       "      <td>78.690379</td>\n",
       "      <td>4.166708</td>\n",
       "      <td>98.253896</td>\n",
       "      <td>6.846473</td>\n",
       "      <td>4.90569</td>\n",
       "      <td>52.41772</td>\n",
       "      <td>amsterdam</td>\n",
       "      <td>weekdays</td>\n",
       "      <td>netherlands</td>\n",
       "    </tr>\n",
       "    <tr>\n",
       "      <th>1</th>\n",
       "      <td>1</td>\n",
       "      <td>344.245776</td>\n",
       "      <td>Private room</td>\n",
       "      <td>False</td>\n",
       "      <td>True</td>\n",
       "      <td>4</td>\n",
       "      <td>False</td>\n",
       "      <td>0</td>\n",
       "      <td>0</td>\n",
       "      <td>8</td>\n",
       "      <td>...</td>\n",
       "      <td>0.239404</td>\n",
       "      <td>631.176378</td>\n",
       "      <td>33.421209</td>\n",
       "      <td>837.280757</td>\n",
       "      <td>58.342928</td>\n",
       "      <td>4.90005</td>\n",
       "      <td>52.37432</td>\n",
       "      <td>amsterdam</td>\n",
       "      <td>weekdays</td>\n",
       "      <td>netherlands</td>\n",
       "    </tr>\n",
       "    <tr>\n",
       "      <th>2</th>\n",
       "      <td>2</td>\n",
       "      <td>264.101422</td>\n",
       "      <td>Private room</td>\n",
       "      <td>False</td>\n",
       "      <td>True</td>\n",
       "      <td>2</td>\n",
       "      <td>False</td>\n",
       "      <td>0</td>\n",
       "      <td>1</td>\n",
       "      <td>9</td>\n",
       "      <td>...</td>\n",
       "      <td>3.651621</td>\n",
       "      <td>75.275877</td>\n",
       "      <td>3.985908</td>\n",
       "      <td>95.386955</td>\n",
       "      <td>6.646700</td>\n",
       "      <td>4.97512</td>\n",
       "      <td>52.36103</td>\n",
       "      <td>amsterdam</td>\n",
       "      <td>weekdays</td>\n",
       "      <td>netherlands</td>\n",
       "    </tr>\n",
       "    <tr>\n",
       "      <th>3</th>\n",
       "      <td>3</td>\n",
       "      <td>433.529398</td>\n",
       "      <td>Private room</td>\n",
       "      <td>False</td>\n",
       "      <td>True</td>\n",
       "      <td>4</td>\n",
       "      <td>False</td>\n",
       "      <td>0</td>\n",
       "      <td>1</td>\n",
       "      <td>9</td>\n",
       "      <td>...</td>\n",
       "      <td>0.439876</td>\n",
       "      <td>493.272534</td>\n",
       "      <td>26.119108</td>\n",
       "      <td>875.033098</td>\n",
       "      <td>60.973565</td>\n",
       "      <td>4.89417</td>\n",
       "      <td>52.37663</td>\n",
       "      <td>amsterdam</td>\n",
       "      <td>weekdays</td>\n",
       "      <td>netherlands</td>\n",
       "    </tr>\n",
       "    <tr>\n",
       "      <th>4</th>\n",
       "      <td>4</td>\n",
       "      <td>485.552926</td>\n",
       "      <td>Private room</td>\n",
       "      <td>False</td>\n",
       "      <td>True</td>\n",
       "      <td>2</td>\n",
       "      <td>True</td>\n",
       "      <td>0</td>\n",
       "      <td>0</td>\n",
       "      <td>10</td>\n",
       "      <td>...</td>\n",
       "      <td>0.318693</td>\n",
       "      <td>552.830324</td>\n",
       "      <td>29.272733</td>\n",
       "      <td>815.305740</td>\n",
       "      <td>56.811677</td>\n",
       "      <td>4.90051</td>\n",
       "      <td>52.37508</td>\n",
       "      <td>amsterdam</td>\n",
       "      <td>weekdays</td>\n",
       "      <td>netherlands</td>\n",
       "    </tr>\n",
       "  </tbody>\n",
       "</table>\n",
       "<p>5 rows × 23 columns</p>\n",
       "</div>"
      ],
      "text/plain": [
       "   Unnamed: 0     realSum     room_type  room_shared  room_private  \\\n",
       "0           0  194.033698  Private room        False          True   \n",
       "1           1  344.245776  Private room        False          True   \n",
       "2           2  264.101422  Private room        False          True   \n",
       "3           3  433.529398  Private room        False          True   \n",
       "4           4  485.552926  Private room        False          True   \n",
       "\n",
       "   person_capacity  host_is_superhost  multi  biz  cleanliness_rating  ...  \\\n",
       "0                2              False      1    0                  10  ...   \n",
       "1                4              False      0    0                   8  ...   \n",
       "2                2              False      0    1                   9  ...   \n",
       "3                4              False      0    1                   9  ...   \n",
       "4                2               True      0    0                  10  ...   \n",
       "\n",
       "   metro_dist  attr_index  attr_index_norm  rest_index  rest_index_norm  \\\n",
       "0    2.539380   78.690379         4.166708   98.253896         6.846473   \n",
       "1    0.239404  631.176378        33.421209  837.280757        58.342928   \n",
       "2    3.651621   75.275877         3.985908   95.386955         6.646700   \n",
       "3    0.439876  493.272534        26.119108  875.033098        60.973565   \n",
       "4    0.318693  552.830324        29.272733  815.305740        56.811677   \n",
       "\n",
       "       lng       lat       city  week_period      country  \n",
       "0  4.90569  52.41772  amsterdam     weekdays  netherlands  \n",
       "1  4.90005  52.37432  amsterdam     weekdays  netherlands  \n",
       "2  4.97512  52.36103  amsterdam     weekdays  netherlands  \n",
       "3  4.89417  52.37663  amsterdam     weekdays  netherlands  \n",
       "4  4.90051  52.37508  amsterdam     weekdays  netherlands  \n",
       "\n",
       "[5 rows x 23 columns]"
      ]
     },
     "metadata": {},
     "output_type": "display_data"
    }
   ],
   "source": [
    "countrys = {\n",
    "    'amsterdam' : 'netherlands',\n",
    "    'athens' : 'greece',\n",
    "    'berlin' : 'germany',\n",
    "    'barcelona' : 'spain',\n",
    "    'budapest' : 'hungary',\n",
    "    'lisbon' : 'portugal',\n",
    "    'london' : 'england',\n",
    "    'rome' : 'italy',\n",
    "    'vienna' : 'switzerland',\n",
    "    'paris' : 'france'\n",
    "}\n",
    "compiled_data = pd.DataFrame()\n",
    "    \n",
    "for name in excel_sheet_names:\n",
    "    name_df = excel.parse(name)\n",
    "    city, week_period = name.split('_', 1)\n",
    "    name_df['city'] = city\n",
    "    name_df['week_period'] = week_period\n",
    "    name_df['country'] = countrys[city]\n",
    "    compiled_data = pd.concat([compiled_data, name_df], axis=0, ignore_index=True)\n",
    "    \n",
    "\n",
    "display(compiled_data.head())\n"
   ]
  },
  {
   "cell_type": "markdown",
   "id": "973a699a-917a-41ee-9bf5-ad992b7d102b",
   "metadata": {},
   "source": [
    "#### Changing the Name of realSum to Price"
   ]
  },
  {
   "cell_type": "code",
<<<<<<< HEAD
   "execution_count": 34,
=======
   "execution_count": 7,
>>>>>>> 0d48a1aa6df4fbd794e2db0772e9b54dd0fd711c
   "id": "e1fcb765-ceb1-4c12-ba3a-e120c7ca868f",
   "metadata": {},
   "outputs": [
    {
     "data": {
      "text/html": [
       "<div>\n",
       "<style scoped>\n",
       "    .dataframe tbody tr th:only-of-type {\n",
       "        vertical-align: middle;\n",
       "    }\n",
       "\n",
       "    .dataframe tbody tr th {\n",
       "        vertical-align: top;\n",
       "    }\n",
       "\n",
       "    .dataframe thead th {\n",
       "        text-align: right;\n",
       "    }\n",
       "</style>\n",
       "<table border=\"1\" class=\"dataframe\">\n",
       "  <thead>\n",
       "    <tr style=\"text-align: right;\">\n",
       "      <th></th>\n",
       "      <th>Unnamed: 0</th>\n",
       "      <th>price</th>\n",
       "      <th>room_type</th>\n",
       "      <th>room_shared</th>\n",
       "      <th>room_private</th>\n",
       "      <th>person_capacity</th>\n",
       "      <th>host_is_superhost</th>\n",
       "      <th>multi</th>\n",
       "      <th>biz</th>\n",
       "      <th>cleanliness_rating</th>\n",
       "      <th>...</th>\n",
       "      <th>metro_dist</th>\n",
       "      <th>attr_index</th>\n",
       "      <th>attr_index_norm</th>\n",
       "      <th>rest_index</th>\n",
       "      <th>rest_index_norm</th>\n",
       "      <th>lng</th>\n",
       "      <th>lat</th>\n",
       "      <th>city</th>\n",
       "      <th>week_period</th>\n",
       "      <th>country</th>\n",
       "    </tr>\n",
       "  </thead>\n",
       "  <tbody>\n",
       "    <tr>\n",
       "      <th>0</th>\n",
       "      <td>0</td>\n",
       "      <td>194.033698</td>\n",
       "      <td>Private room</td>\n",
       "      <td>False</td>\n",
       "      <td>True</td>\n",
       "      <td>2</td>\n",
       "      <td>False</td>\n",
       "      <td>1</td>\n",
       "      <td>0</td>\n",
       "      <td>10</td>\n",
       "      <td>...</td>\n",
       "      <td>2.539380</td>\n",
       "      <td>78.690379</td>\n",
       "      <td>4.166708</td>\n",
       "      <td>98.253896</td>\n",
       "      <td>6.846473</td>\n",
       "      <td>4.90569</td>\n",
       "      <td>52.41772</td>\n",
       "      <td>amsterdam</td>\n",
       "      <td>weekdays</td>\n",
       "      <td>netherlands</td>\n",
       "    </tr>\n",
       "    <tr>\n",
       "      <th>1</th>\n",
       "      <td>1</td>\n",
       "      <td>344.245776</td>\n",
       "      <td>Private room</td>\n",
       "      <td>False</td>\n",
       "      <td>True</td>\n",
       "      <td>4</td>\n",
       "      <td>False</td>\n",
       "      <td>0</td>\n",
       "      <td>0</td>\n",
       "      <td>8</td>\n",
       "      <td>...</td>\n",
       "      <td>0.239404</td>\n",
       "      <td>631.176378</td>\n",
       "      <td>33.421209</td>\n",
       "      <td>837.280757</td>\n",
       "      <td>58.342928</td>\n",
       "      <td>4.90005</td>\n",
       "      <td>52.37432</td>\n",
       "      <td>amsterdam</td>\n",
       "      <td>weekdays</td>\n",
       "      <td>netherlands</td>\n",
       "    </tr>\n",
       "    <tr>\n",
       "      <th>2</th>\n",
       "      <td>2</td>\n",
       "      <td>264.101422</td>\n",
       "      <td>Private room</td>\n",
       "      <td>False</td>\n",
       "      <td>True</td>\n",
       "      <td>2</td>\n",
       "      <td>False</td>\n",
       "      <td>0</td>\n",
       "      <td>1</td>\n",
       "      <td>9</td>\n",
       "      <td>...</td>\n",
       "      <td>3.651621</td>\n",
       "      <td>75.275877</td>\n",
       "      <td>3.985908</td>\n",
       "      <td>95.386955</td>\n",
       "      <td>6.646700</td>\n",
       "      <td>4.97512</td>\n",
       "      <td>52.36103</td>\n",
       "      <td>amsterdam</td>\n",
       "      <td>weekdays</td>\n",
       "      <td>netherlands</td>\n",
       "    </tr>\n",
       "    <tr>\n",
       "      <th>3</th>\n",
       "      <td>3</td>\n",
       "      <td>433.529398</td>\n",
       "      <td>Private room</td>\n",
       "      <td>False</td>\n",
       "      <td>True</td>\n",
       "      <td>4</td>\n",
       "      <td>False</td>\n",
       "      <td>0</td>\n",
       "      <td>1</td>\n",
       "      <td>9</td>\n",
       "      <td>...</td>\n",
       "      <td>0.439876</td>\n",
       "      <td>493.272534</td>\n",
       "      <td>26.119108</td>\n",
       "      <td>875.033098</td>\n",
       "      <td>60.973565</td>\n",
       "      <td>4.89417</td>\n",
       "      <td>52.37663</td>\n",
       "      <td>amsterdam</td>\n",
       "      <td>weekdays</td>\n",
       "      <td>netherlands</td>\n",
       "    </tr>\n",
       "    <tr>\n",
       "      <th>4</th>\n",
       "      <td>4</td>\n",
       "      <td>485.552926</td>\n",
       "      <td>Private room</td>\n",
       "      <td>False</td>\n",
       "      <td>True</td>\n",
       "      <td>2</td>\n",
       "      <td>True</td>\n",
       "      <td>0</td>\n",
       "      <td>0</td>\n",
       "      <td>10</td>\n",
       "      <td>...</td>\n",
       "      <td>0.318693</td>\n",
       "      <td>552.830324</td>\n",
       "      <td>29.272733</td>\n",
       "      <td>815.305740</td>\n",
       "      <td>56.811677</td>\n",
       "      <td>4.90051</td>\n",
       "      <td>52.37508</td>\n",
       "      <td>amsterdam</td>\n",
       "      <td>weekdays</td>\n",
       "      <td>netherlands</td>\n",
       "    </tr>\n",
       "  </tbody>\n",
       "</table>\n",
       "<p>5 rows × 23 columns</p>\n",
       "</div>"
      ],
      "text/plain": [
       "   Unnamed: 0       price     room_type  room_shared  room_private  \\\n",
       "0           0  194.033698  Private room        False          True   \n",
       "1           1  344.245776  Private room        False          True   \n",
       "2           2  264.101422  Private room        False          True   \n",
       "3           3  433.529398  Private room        False          True   \n",
       "4           4  485.552926  Private room        False          True   \n",
       "\n",
       "   person_capacity  host_is_superhost  multi  biz  cleanliness_rating  ...  \\\n",
       "0                2              False      1    0                  10  ...   \n",
       "1                4              False      0    0                   8  ...   \n",
       "2                2              False      0    1                   9  ...   \n",
       "3                4              False      0    1                   9  ...   \n",
       "4                2               True      0    0                  10  ...   \n",
       "\n",
       "   metro_dist  attr_index  attr_index_norm  rest_index  rest_index_norm  \\\n",
       "0    2.539380   78.690379         4.166708   98.253896         6.846473   \n",
       "1    0.239404  631.176378        33.421209  837.280757        58.342928   \n",
       "2    3.651621   75.275877         3.985908   95.386955         6.646700   \n",
       "3    0.439876  493.272534        26.119108  875.033098        60.973565   \n",
       "4    0.318693  552.830324        29.272733  815.305740        56.811677   \n",
       "\n",
       "       lng       lat       city  week_period      country  \n",
       "0  4.90569  52.41772  amsterdam     weekdays  netherlands  \n",
       "1  4.90005  52.37432  amsterdam     weekdays  netherlands  \n",
       "2  4.97512  52.36103  amsterdam     weekdays  netherlands  \n",
       "3  4.89417  52.37663  amsterdam     weekdays  netherlands  \n",
       "4  4.90051  52.37508  amsterdam     weekdays  netherlands  \n",
       "\n",
       "[5 rows x 23 columns]"
      ]
     },
     "metadata": {},
     "output_type": "display_data"
    }
   ],
   "source": [
    "compiled_data = compiled_data.rename({'realSum': 'price'}, axis=1)\n",
    "display(compiled_data.head())"
   ]
  },
  {
   "cell_type": "markdown",
   "id": "1a79e8d5-01fb-4fd3-baa8-e0cb9d42ae04",
   "metadata": {},
   "source": [
    "#### Removing the first column"
   ]
  },
  {
   "cell_type": "code",
<<<<<<< HEAD
   "execution_count": 35,
=======
   "execution_count": 8,
>>>>>>> 0d48a1aa6df4fbd794e2db0772e9b54dd0fd711c
   "id": "be25fabd-3d32-4522-ae4f-6dcce49fce0d",
   "metadata": {},
   "outputs": [
    {
     "data": {
      "text/html": [
       "<div>\n",
       "<style scoped>\n",
       "    .dataframe tbody tr th:only-of-type {\n",
       "        vertical-align: middle;\n",
       "    }\n",
       "\n",
       "    .dataframe tbody tr th {\n",
       "        vertical-align: top;\n",
       "    }\n",
       "\n",
       "    .dataframe thead th {\n",
       "        text-align: right;\n",
       "    }\n",
       "</style>\n",
       "<table border=\"1\" class=\"dataframe\">\n",
       "  <thead>\n",
       "    <tr style=\"text-align: right;\">\n",
       "      <th></th>\n",
       "      <th>price</th>\n",
       "      <th>room_type</th>\n",
       "      <th>room_shared</th>\n",
       "      <th>room_private</th>\n",
       "      <th>person_capacity</th>\n",
       "      <th>host_is_superhost</th>\n",
       "      <th>multi</th>\n",
       "      <th>biz</th>\n",
       "      <th>cleanliness_rating</th>\n",
       "      <th>guest_satisfaction_overall</th>\n",
       "      <th>...</th>\n",
       "      <th>metro_dist</th>\n",
       "      <th>attr_index</th>\n",
       "      <th>attr_index_norm</th>\n",
       "      <th>rest_index</th>\n",
       "      <th>rest_index_norm</th>\n",
       "      <th>lng</th>\n",
       "      <th>lat</th>\n",
       "      <th>city</th>\n",
       "      <th>week_period</th>\n",
       "      <th>country</th>\n",
       "    </tr>\n",
       "  </thead>\n",
       "  <tbody>\n",
       "    <tr>\n",
       "      <th>0</th>\n",
       "      <td>194.033698</td>\n",
       "      <td>Private room</td>\n",
       "      <td>False</td>\n",
       "      <td>True</td>\n",
       "      <td>2</td>\n",
       "      <td>False</td>\n",
       "      <td>1</td>\n",
       "      <td>0</td>\n",
       "      <td>10</td>\n",
       "      <td>93</td>\n",
       "      <td>...</td>\n",
       "      <td>2.539380</td>\n",
       "      <td>78.690379</td>\n",
       "      <td>4.166708</td>\n",
       "      <td>98.253896</td>\n",
       "      <td>6.846473</td>\n",
       "      <td>4.90569</td>\n",
       "      <td>52.41772</td>\n",
       "      <td>amsterdam</td>\n",
       "      <td>weekdays</td>\n",
       "      <td>netherlands</td>\n",
       "    </tr>\n",
       "    <tr>\n",
       "      <th>1</th>\n",
       "      <td>344.245776</td>\n",
       "      <td>Private room</td>\n",
       "      <td>False</td>\n",
       "      <td>True</td>\n",
       "      <td>4</td>\n",
       "      <td>False</td>\n",
       "      <td>0</td>\n",
       "      <td>0</td>\n",
       "      <td>8</td>\n",
       "      <td>85</td>\n",
       "      <td>...</td>\n",
       "      <td>0.239404</td>\n",
       "      <td>631.176378</td>\n",
       "      <td>33.421209</td>\n",
       "      <td>837.280757</td>\n",
       "      <td>58.342928</td>\n",
       "      <td>4.90005</td>\n",
       "      <td>52.37432</td>\n",
       "      <td>amsterdam</td>\n",
       "      <td>weekdays</td>\n",
       "      <td>netherlands</td>\n",
       "    </tr>\n",
       "    <tr>\n",
       "      <th>2</th>\n",
       "      <td>264.101422</td>\n",
       "      <td>Private room</td>\n",
       "      <td>False</td>\n",
       "      <td>True</td>\n",
       "      <td>2</td>\n",
       "      <td>False</td>\n",
       "      <td>0</td>\n",
       "      <td>1</td>\n",
       "      <td>9</td>\n",
       "      <td>87</td>\n",
       "      <td>...</td>\n",
       "      <td>3.651621</td>\n",
       "      <td>75.275877</td>\n",
       "      <td>3.985908</td>\n",
       "      <td>95.386955</td>\n",
       "      <td>6.646700</td>\n",
       "      <td>4.97512</td>\n",
       "      <td>52.36103</td>\n",
       "      <td>amsterdam</td>\n",
       "      <td>weekdays</td>\n",
       "      <td>netherlands</td>\n",
       "    </tr>\n",
       "    <tr>\n",
       "      <th>3</th>\n",
       "      <td>433.529398</td>\n",
       "      <td>Private room</td>\n",
       "      <td>False</td>\n",
       "      <td>True</td>\n",
       "      <td>4</td>\n",
       "      <td>False</td>\n",
       "      <td>0</td>\n",
       "      <td>1</td>\n",
       "      <td>9</td>\n",
       "      <td>90</td>\n",
       "      <td>...</td>\n",
       "      <td>0.439876</td>\n",
       "      <td>493.272534</td>\n",
       "      <td>26.119108</td>\n",
       "      <td>875.033098</td>\n",
       "      <td>60.973565</td>\n",
       "      <td>4.89417</td>\n",
       "      <td>52.37663</td>\n",
       "      <td>amsterdam</td>\n",
       "      <td>weekdays</td>\n",
       "      <td>netherlands</td>\n",
       "    </tr>\n",
       "    <tr>\n",
       "      <th>4</th>\n",
       "      <td>485.552926</td>\n",
       "      <td>Private room</td>\n",
       "      <td>False</td>\n",
       "      <td>True</td>\n",
       "      <td>2</td>\n",
       "      <td>True</td>\n",
       "      <td>0</td>\n",
       "      <td>0</td>\n",
       "      <td>10</td>\n",
       "      <td>98</td>\n",
       "      <td>...</td>\n",
       "      <td>0.318693</td>\n",
       "      <td>552.830324</td>\n",
       "      <td>29.272733</td>\n",
       "      <td>815.305740</td>\n",
       "      <td>56.811677</td>\n",
       "      <td>4.90051</td>\n",
       "      <td>52.37508</td>\n",
       "      <td>amsterdam</td>\n",
       "      <td>weekdays</td>\n",
       "      <td>netherlands</td>\n",
       "    </tr>\n",
       "  </tbody>\n",
       "</table>\n",
       "<p>5 rows × 22 columns</p>\n",
       "</div>"
      ],
      "text/plain": [
       "        price     room_type  room_shared  room_private  person_capacity  \\\n",
       "0  194.033698  Private room        False          True                2   \n",
       "1  344.245776  Private room        False          True                4   \n",
       "2  264.101422  Private room        False          True                2   \n",
       "3  433.529398  Private room        False          True                4   \n",
       "4  485.552926  Private room        False          True                2   \n",
       "\n",
       "   host_is_superhost  multi  biz  cleanliness_rating  \\\n",
       "0              False      1    0                  10   \n",
       "1              False      0    0                   8   \n",
       "2              False      0    1                   9   \n",
       "3              False      0    1                   9   \n",
       "4               True      0    0                  10   \n",
       "\n",
       "   guest_satisfaction_overall  ...  metro_dist  attr_index  attr_index_norm  \\\n",
       "0                          93  ...    2.539380   78.690379         4.166708   \n",
       "1                          85  ...    0.239404  631.176378        33.421209   \n",
       "2                          87  ...    3.651621   75.275877         3.985908   \n",
       "3                          90  ...    0.439876  493.272534        26.119108   \n",
       "4                          98  ...    0.318693  552.830324        29.272733   \n",
       "\n",
       "   rest_index  rest_index_norm      lng       lat       city  week_period  \\\n",
       "0   98.253896         6.846473  4.90569  52.41772  amsterdam     weekdays   \n",
       "1  837.280757        58.342928  4.90005  52.37432  amsterdam     weekdays   \n",
       "2   95.386955         6.646700  4.97512  52.36103  amsterdam     weekdays   \n",
       "3  875.033098        60.973565  4.89417  52.37663  amsterdam     weekdays   \n",
       "4  815.305740        56.811677  4.90051  52.37508  amsterdam     weekdays   \n",
       "\n",
       "       country  \n",
       "0  netherlands  \n",
       "1  netherlands  \n",
       "2  netherlands  \n",
       "3  netherlands  \n",
       "4  netherlands  \n",
       "\n",
       "[5 rows x 22 columns]"
      ]
     },
     "metadata": {},
     "output_type": "display_data"
    }
   ],
   "source": [
    "compiled_data = compiled_data.drop(compiled_data.columns[0], axis=1)\n",
    "display(compiled_data.head())"
   ]
  },
  {
   "cell_type": "markdown",
   "id": "a5815df6-f816-4c17-ae21-555956f53ed8",
   "metadata": {},
   "source": [
    "### For later: advanced data wrangling\n",
    "\n",
    "+ Instead of having two columns of room_shared and room_private, create one with the respective categories.\n",
    "\n",
    "+ Instead of dummy variables, create a column where one can know if the host of the listing has only one, two, four, and more than four listings.\n"
   ]
  },
  {
   "cell_type": "markdown",
   "id": "5f8858bc-f88e-4d49-9789-b1f094fc3f04",
   "metadata": {},
   "source": [
    "### Side Note: importing directly from Google Sheets (Pei's Solution)"
   ]
  },
  {
   "cell_type": "markdown",
   "id": "98d880e7-1333-4174-97c7-0813de396788",
   "metadata": {},
   "source": [
    "This is maybe a bit beyond my capabilities atm but I wanted to include it here so I can come back and look at it in the future. ++ translate the comments!"
   ]
  },
  {
   "cell_type": "code",
<<<<<<< HEAD
   "execution_count": 36,
=======
   "execution_count": 140,
>>>>>>> 0d48a1aa6df4fbd794e2db0772e9b54dd0fd711c
   "id": "69849216-0bb7-40c0-a614-211aa7ba01ae",
   "metadata": {},
   "outputs": [
    {
     "data": {
      "text/plain": [
       "'\\n\\nimport pandas as pd\\nfrom IPython.display import display\\n\\n# 你的 Google Sheets 文件的 ID\\nsheet_id = \\'2PACX-1vSZoyiKakb771FtKQ0FQ_l5XAUmGZsFH6cn0JWszNsumTk2KybV00LQLfkiMaLU3yyYvqBP3mkJjteU\\'  # 替換為實際的 sheet ID\\n\\n# 所有表單的 gid\\ngids = [1813557111, 1671143450, 1474041232, 295085637, 1009970054, 1739828988, 305266500, 1438277999, 1326018133, 82202766, 1355881051, 9179440, 58206735, 1452107999, 1803477090, 1127044053, 1238155247, 671930913, 1950822222]  # 替換為實際的 gid\\n\\n# 儲存讀取的 DataFrame\\ndfs = {}\\n\\n# 迴圈讀取每個表單的資料\\nfor gid in gids:\\n    # 生成每個表單的 CSV URL\\n    url = f\\'https://docs.google.com/spreadsheets/d/e/{sheet_id}/pub?gid={gid}&output=csv\\'\\n    \\n    try:\\n        # 讀取 CSV 資料\\n        df = pd.read_csv(url)\\n\\n        dfs[gid] = df  # 將結果儲存到字典中，gid 作為鍵\\n        \\n        print(f\"GID {gid} 資料讀取成功\")\\n        # print(df.head())  # 顯示前幾行資料\\n        display(df)\\n       \\n    except Exception as e:\\n        print(f\"GID {gid} 資料讀取失敗: {e}\")\\n\\n# 可以通過 dfs[gid] 訪問特定 GID 的 DataFrame\\n\\n'"
      ]
     },
<<<<<<< HEAD
     "execution_count": 36,
=======
     "execution_count": 140,
>>>>>>> 0d48a1aa6df4fbd794e2db0772e9b54dd0fd711c
     "metadata": {},
     "output_type": "execute_result"
    }
   ],
   "source": [
    "\"\"\"\n",
    "\n",
    "import pandas as pd\n",
    "from IPython.display import display\n",
    "\n",
    "# 你的 Google Sheets 文件的 ID\n",
    "sheet_id = '2PACX-1vSZoyiKakb771FtKQ0FQ_l5XAUmGZsFH6cn0JWszNsumTk2KybV00LQLfkiMaLU3yyYvqBP3mkJjteU'  # 替換為實際的 sheet ID\n",
    "\n",
    "# 所有表單的 gid\n",
    "gids = [1813557111, 1671143450, 1474041232, 295085637, 1009970054, 1739828988, 305266500, 1438277999, 1326018133, 82202766, 1355881051, 9179440, 58206735, 1452107999, 1803477090, 1127044053, 1238155247, 671930913, 1950822222]  # 替換為實際的 gid\n",
    "\n",
    "# 儲存讀取的 DataFrame\n",
    "dfs = {}\n",
    "\n",
    "# 迴圈讀取每個表單的資料\n",
    "for gid in gids:\n",
    "    # 生成每個表單的 CSV URL\n",
    "    url = f'https://docs.google.com/spreadsheets/d/e/{sheet_id}/pub?gid={gid}&output=csv'\n",
    "    \n",
    "    try:\n",
    "        # 讀取 CSV 資料\n",
    "        df = pd.read_csv(url)\n",
    "\n",
    "        dfs[gid] = df  # 將結果儲存到字典中，gid 作為鍵\n",
    "        \n",
    "        print(f\"GID {gid} 資料讀取成功\")\n",
    "        # print(df.head())  # 顯示前幾行資料\n",
    "        display(df)\n",
    "       \n",
    "    except Exception as e:\n",
    "        print(f\"GID {gid} 資料讀取失敗: {e}\")\n",
    "\n",
    "# 可以通過 dfs[gid] 訪問特定 GID 的 DataFrame\n",
    "\n",
    "\"\"\""
   ]
  },
  {
   "cell_type": "markdown",
   "id": "dfe854e3-0692-460b-8714-26b3ff32cf71",
   "metadata": {},
   "source": [
    "## Exploratory questions\n",
    "\n",
    "### 1. How many listings are in each city in total and also per type of day?\n"
   ]
  },
  {
   "cell_type": "code",
<<<<<<< HEAD
   "execution_count": 37,
   "id": "b0830dca-1af7-4fb8-8c46-b7e17e72da5a",
   "metadata": {},
   "outputs": [],
   "source": [
    "def sum_listings(condition):\n",
    "    number_of_listings = compiled_data.query(condition).shape[0]\n",
    "    return number_of_listings\n",
    "\n",
    "weekday_condition = \"& week_period == 'weekdays'\"\n",
    "weekend_condition = \"& week_period == 'weekends'\"\n",
    "# Listings per city and day type\n",
    "for place in countrys: \n",
    "    city_condition = f\"city == '{place}'\"\n",
    "    \n",
    "    total_booking_city = sum_listings(city_condition)\n",
    "    weekdays_booking_city = sum_listings((city_condition+weekday_condition))\n",
    "    weekend_booking_city = sum_listings((city_condition+weekend_condition))\n",
    "\n",
    "    #This code is not ideal because it deletes something I've already done and makes a more complicated nested dictionary.\n",
    "    countrys[place] = {\n",
    "        'total_bookings': total_booking_city,\n",
    "        'weekdays_bookings': weekdays_booking_city,\n",
    "        'weekend_bookings': weekend_booking_city\n",
    "    }\n",
    "    \"\"\"\n",
    "    print(f\"The total listings per day in {place} are {total_booking_city}\")\n",
    "    print(f\"The total listings on weekdays in {place} are {weekdays_booking_city}\")\n",
    "    print(f\"The total listings on weekdends in {place} are {weekend_booking_city}\")\n",
    "    print(\"-\" * 50)\n",
    "    \"\"\""
   ]
  },
  {
   "cell_type": "markdown",
   "id": "ca374b94-c02f-4b26-acfd-20e5b6bef803",
   "metadata": {},
   "source": [
    "Showing this information visually:"
   ]
  },
  {
   "cell_type": "code",
   "execution_count": 38,
   "id": "01d32f82-55c5-4a6c-9ca4-bef07c3576d6",
   "metadata": {},
   "outputs": [
    {
     "data": {
      "image/png": "iVBORw0KGgoAAAANSUhEUgAAA90AAAJsCAYAAADgL8DiAAAAOXRFWHRTb2Z0d2FyZQBNYXRwbG90bGliIHZlcnNpb24zLjkuMiwgaHR0cHM6Ly9tYXRwbG90bGliLm9yZy8hTgPZAAAACXBIWXMAAA9hAAAPYQGoP6dpAADx+klEQVR4nOzdeVhVVfv/8fcRERERFWXKGZznWZyAVMQxs29WGo6ZpmmaY5mpZZamZkqZmSGKpZmzJaIp5jyTQ0gOZE5IKaKiosL5/eGP/XgCDJQjDp/XdZ3r4qx977XvdeB58j5r7bVNZrPZjIiIiIiIiIhku1w5nYCIiIiIiIjIk0pFt4iIiIiIiIiVqOgWERERERERsRIV3SIiIiIiIiJWoqJbRERERERExEpUdIuIiIiIiIhYiYpuEREREREREStR0S0iIiIiIiJiJSq6RURERERERKxERbeIiDz2unfvjslkolSpUvd1/tixYzGZTJhMpuxN7DF1/fp1xo0bR/Xq1XFwcDA+m0GDBuV0ag/Fn3/+aYx57ty5aY7PnTvXOP7nn38+9PysmY+vry8mkwlfX99syU1ERFR0i4g8dSIiIox/oKf3yp8/P+XKlaNbt25ERETkdLrykN26dYvmzZszduxYDhw4wLVr13I6pft2/fp1nJycjL/tDz74IKdTytCpU6f49NNP8ff3p3Tp0uTPnx97e3ueeeYZWrZsyfjx44mJicnpNEVE5D6o6BYREQuJiYkcPXqUefPm4efnR69evUhOTs7ptOQhWbx4Mdu2bQPurCDYuHEjBw8e5ODBg4wcOTKHs8uaZcuWcfnyZeP9/PnzczCb9CUlJTFkyBDKli3L8OHDWbduHX/++SeJiYncuHGDs2fPEh4ezujRo/H09OSll17i1KlTWbrGg64EERGRB5M7pxMQEZGc88Ybb9CvXz/jvdls5uLFi2zfvp3PPvuMuLg4vv32W4oVK8a4ceNyMFPrGjt2LGPHjs3pNB4J69evB8DNzY1vvvkGGxubHM7o/s2bNw+A/Pnzc/XqVY4dO8a2bdto2LBhDmd2x4ULF2jfvr3xJYejoyOvvPIKzZo1o1ixYtja2hIbG8vWrVtZunQpR48e5YcffsDb29tiqX/37t3p3r17tuSk1S0iItlPRbeIyFPMxcWFKlWqpGn38fGhffv21KlTh+vXrzNt2jTee+89bG1tcyBLeZjOnDkDQJkyZR7rgvvcuXPGFwjvv/8+EydO5MKFC8ybN++RKLpTUlJ4+eWXjYK7devWBAcH4+Likia2Xbt2TJgwgdDQUIYNG/awUxURkQek5eUiIpKuSpUq0aZNGwAuX75MVFRUDmckD0NSUhLAY/8FS2hoKMnJydjY2BAYGEinTp0A+OGHH4wx5qQZM2YYXwo0b96cFStWpFtwp8qVKxddu3Zl7969VKtW7WGlKSIi2UBFt4iIZOjue0Bv3LiRYVxKSgqhoaG0bt0aNzc38uTJQ9GiRfHz8+PLL7/k5s2b/3mtmzdv8uWXX+Ln50fRokXJkycPbm5utG7dmtDQUFJSUh5oLL/88guOjo6YTCbKlSvHyZMnjWP/tXt5qVKlMJlMxhLeI0eO0Lt3b0qVKoWdnR2urq48//zz7Nix4z/zuHXrFp9//jl169bF0dGRggULUqdOHT777DNu3rz5nztnA/zxxx8MGDCAKlWqkD9/fvLkyYOHhwc1atSgZ8+eLFq0KEuF5d3X3LRpEwCbNm2y2GAvvfuBH+R39u/7jM+dO8eIESOoXLmy8Xt6kKXOqfdvN2vWDDc3N1599VUA4uPjWbVq1X33mx1u3brFp59+CkDevHkJDg4md+7MLT4sVqwYzz77rEVbRruXp/5dh4SEAHDy5Ml0N0+8W2Z3L4+Pj2f8+PF4e3tTpEgR7Ozs8PDw4LnnnmPp0qX/OY5ly5bRoUMHihUrhp2dHY6OjpQpU4YmTZowevRodu3alanPQ0TksWAWEZGnysaNG82AGTCPGTPmnrH/93//Z8SeO3cu3ZgLFy6YGzVqZMSl96pYsaL5zz//zPA6f/75p7lixYr37KNx48bmCxcupHt+t27dzIC5ZMmS6R5funSp2c7OzgyYa9SoYT5//rzF8TFjxhjXSU/JkiXNgLlbt27mJUuWmPPly5dujjY2NuaFCxdmOM74+HhzvXr1MhxjvXr1zPv37zfeBwcHp+njhx9+MOfJk+eenxVgPnjwYIZ5/FtMTMx/9vfvzzY7f2fbt283FylSJM35GzduzPQY7rZv3z6jj3nz5hntZcqUMQPmdu3aZfrzSO93EBwcbByPiYnJcn6rVq0yzn/11VezfH5m87n77/per7v5+PiYAbOPj0+G1/vpp5/MBQsWvGefbdq0MV+5ciXNubdv3za/+OKL/5lT7dq1H/hzERF5VGimW0RE0nXkyBF++uknAOrWrYubm1uamOTkZNq2bcvWrVuBO/eCL168mD179rBy5Uo6dOgAQFRUFM2aNePq1atp+rh69SrPPvussXy9Q4cOrFy5kj179rB48WJ8fHwA2LJlC23bts3yTurBwcG8+OKLJCUl0aRJEyIiIu65jPdeDhw4QJcuXXB1dSUoKIgdO3awfft2xo4dS968eUlOTub111/n77//Tvf8l19+2ZjB8/b25vvvv2fPnj2sWbOGLl26sGvXLvr27Zvh9c+fP0+PHj24efMmLi4ufPDBB4SHh7Nv3z62bdtGaGgor7/+OkWKFMnSuJ555hljh/I6deoAUKdOHaPt4MGDhIeHG/HZ+Tu7evUqL7zwAjdu3GDUqFFERESwa9cu5syZg7u7e5bGkSp1Zjdfvnw8//zzRnuXLl0ACAsLy/B39DCkriYAaNu2rdWu069fPw4ePMhzzz0HgIeHh8XvNPWVFevWraN9+/ZcunSJUqVKMXHiRCIiIti3bx+rVq0yVhT89NNPdOvWLc35M2fOZPHixQA0btyYuXPnsnnzZvbv388vv/zC559/TkBAwGO9n4CISBo5XfWLiMjDdfdM9xtvvGE+ePCg8Tpw4ID5119/NU+cONHs5uZmBswFChQwb926Nd2+goKCjL66du1qTklJSRPz7rvvGjHDhw9Pc3zo0KHG8ffeey/N8ZSUFHOXLl2MmC+//DJNTEYz3Z9++qlxXuvWrc3Xrl1LdxyZnenm/8/AXbp0KU1MaGioETN16tQ0x5cuXWocf+6558y3b99OEzN58mSL2b5/z7LOmTMnUzPZ169fz3Cs/yUzM53Z+TsDzPnz5zdHRkbeV77/duvWLbOLi4sZMHfu3NniWHR0tHHNzz//PMM+rD3T3aJFC+P8P/74I8vnZzWf/1oJcrd7/f6vXr1qdnV1NQNmf39/c2JiYrp9fP3110Y+69evtzjWpEkTM2CuX7+++datWxnmkdEKCRGRx5FmukVEnmIzZ86katWqxqtatWo0bdqUESNGEBcXR58+fdi5c2eGuz1/8cUXABQpUoSgoKB074n+4IMPqFChAgCzZ8+2uNc4KSmJb775BrizcVt6j+0ymUx8+eWXODs7AxAUFJSpsb377rvGTs+vvPIKy5cvx97ePlPn3su3336Lk5NTmvbOnTvj4eEBwObNm9McnzVrFnDnHt5Zs2alO5P39ttvU6tWrQyvHRsbC0ChQoXS3XU+Vd68ebNlrOmxxu9s+PDhVK9ePVvyCwsLIy4uDsCYdU1Vrlw56tatC/zvcWI54Z9//jF+dnV1zbE8sio4OJjz58+TN29e5s+fT758+dKN6927N/Xq1TPOuVvq33DDhg3veR974cKFsylrEZGcp6JbRETSlZKSwg8//MA333yT7kZoZ8+eNZYXd+rUCUdHx3T7sbGxoUePHsCdzZf27dtnHNu7dy+XLl0C7mysldGS0gIFChi7T//++++cO3funnn37duXjz/+GLizxHbBggXZsht36hcT6TGZTNSsWROAEydOWBy7ffs2v/76KwABAQEZFlomk4nAwMAMr5+63Do+Pp4VK1ZkOf/sYI3fWeqy7+yQWky7uLjQokWLNMdTC/G9e/fm2I78V65cMX52cHDIkRzuR+rfnI+Pz3/eotG0aVMAtm/fbtGe+je8atUqiy8fRESeZCq6RUSeYmPGjMFsNlu8rl27xoEDBxg2bBhXrlxhypQp+Pv7c/36dYtzDx06ZPxcv379e17n7uN3n5cdfdzt9u3bvPLKK8as8qhRo/jiiy8y3JU8q1Jn7DOSOjt3d1EFcPz4cePzq1279j37SL2nOj3t27enYMGCADz//PM8++yzfPbZZ+zduzfL97rfr+z+neXPn58yZcpkS26XLl1i5cqVwJ3759ObSb27Padmu+/+gioxMTFHcrgfe/bsAWDt2rXp7oJ+92vy5MnA/2a2U6Xe533s2DG8vLzo2bMn33//PadPn364gxEReYhUdIuIiAV7e3uqVq3KpEmT+PLLL4E7Gz+lzhynunjxovHzfy2RvXsTtrvPy44+7nbmzBl++OEHAFq3bs348ePv2WdWZbScNlWuXHf+s/rvAjg+Pt74+b9mCIsWLZrhMWdnZ1auXMkzzzyD2Wxm48aNvP3229SpU4fChQvzwgsvsHr16v8axgPJ7t9Z6pcI2eHuR6X9e2l5qrtnwLPjUXT34+6N7s6fP//Qr38/bt26ZaxwyIpr165ZvO/ZsyfvvvsuuXPnJiEhgeDgYDp37kzx4sXx8vJi6NChaVaKiIg87lR0i4hIhnr16mXM3s6ZMyfDuP+aSTabzf95rezow9XVlUaNGgHw888/M2XKlP8853HTpEkTjh07RmhoKJ07d6ZYsWIAXL58maVLl9KuXTsCAgLSFDvWkB2/s+zcpfrumet69eplOAu7Zs0aAE6fPs3GjRuz7fqZdff963ffbvEou/uLpE6dOqW7C3pGr3/76KOPOHbsGB999BHPPvus8WXW8ePHmTJlChUqVOCrr756aGMTEbE2Fd0iIpKhXLlyUbZsWeDOPdx3z1bevdHRv5eQ/tvds3l3n5cdfdwtb968rFmzBm9vbwCGDh3KtGnT7tnvw1CoUCHj59RNvjKSmUdZ5c2bly5durBgwQJOnTrF8ePHmT59OuXKlQPuLP8dNWrUgyWdgez+nWWXY8eOsW3btiyflxNLzFMfqQYYj+V71OXNm9coji9dukSVKlUy/UpPyZIleffdd/nll1+4dOkSW7Zs4a233iJv3rzcunWLfv36sX///oc5RBERq1HRLSIi93T79m3j51u3bhk/3/2P6Z07d96zj9RnU//7vOzo498cHR0JCwsz7icePHhwpnc8txZPT0/y5s0L/O++2Iz81/H0lClThgEDBrB7925j5jt1mX12s8bvLDvcXTzPnDmT77///p6vgIAAAJYuXfrQ76v29/c3drpfvHgxZ86cser1smtPg9SNArdu3ZqtKylsbW1p1KgR06ZN47vvvgPurJL48ccfs+0aIiI5SUW3iIhk6Nq1a/z+++/AnZmuu+9F9fDwoGLFisCdwuHfm4elSk5OZu7cucCdGd+7H4lVu3Zt457ekJCQDDcDu3LlilFEVqpUydgBOSMFChRg7dq1xuOhBgwYwMyZM/9jtNaTO3duYzfntWvXZngfr9lsZv78+fd9nQIFChhjttbO0Nb6nT0Is9lMaGgocKe479u3Ly+//PI9X/379wfg6tWrLF261Gq5pSdPnjwMHToUgBs3btCrV69Mb4R3+vRpNmzYkKXrpX7hc/fj+u5H+/btgTubv6U+LjC7NWvWzPhZu5uLyJNCRbeIiGRozJgxxq7bLVu2THP/bWrh8vfffzNgwIB07+EdN26cUbj37t0bOzs745idnR2vvfYaAIcPH2bcuHFpzjebzbz55pvGP8DffPPNTOXu5OREeHi4sVt4//79mT17dqbOtYY+ffoAd4qsPn36pFtkTZ069Z73+K5du/aej95KSEgwZpdLly79gBmnz5q/s/u1efNmYmJiAPi///u/TJ3j7+9PgQIFgJxZYv7WW2/h5+cH3Pm9Pv/88/e8tcBsNrNgwQJq167NgQMHsnSt1C884uLiMvxyLDP69u1rfPE2evRo4974jGzdutV4VF6q0NBQi9Uz/xYeHm78bK2/YRGRhy3tszREROSpERcXl+ZRTjdu3ODo0aPMmzePsLAw4M5M2Ycffpjm/L59+7JgwQK2b99OSEgIJ0+epH///pQpU4Zz587x7bffGrOInp6ejB49Ok0f77//PkuXLuXEiRN8+OGHHDp0iJ49e+Lh4UFMTAxBQUFEREQA4O3tzeuvv57p8RUsWJB169bRrFkz9u/fT58+fbCxsaFnz56Z7iO7dOzYEX9/f8LDw1mxYgVNmjRh0KBBeHl58ffffxMaGkpoaCj16tUzCud/Lwv+/vvvadeuHS1atMDf358qVapQuHBhrly5wqFDhwgKCjKWKr/xxhtWG4s1f2f3IyQkxPj5hRdeyNQ5efLkoW3btnz33Xds2LCBM2fO8Mwzz1grxTRy5crFDz/8QNu2bdm5cyerVq3C09OTLl268Oyzz1KsWDFsbW2JjY1lx44dLFmyhCNHjtzXtRo2bAj87xn2AwYMwNnZ2fj78vLyylQ/BQoU4Pvvv6dVq1YkJSXRtm1bXnjhBV544QU8PT0BOHfuHHv37mXZsmUcOHCAGTNmGKs8AAIDAxk6dCgdO3akYcOGxq0X58+fZ926dcaKlPz582e4A72IyGPHLCIiT5WNGzeagUy/ihYtal67dm2G/V24cMHcqFGje/ZRsWJF859//plhHzExMeYKFSrcs49GjRqZL1y4kO753bp1MwPmkiVLpnv8n3/+MVevXt0MmHPlymWeO3euxfExY8YY10lPyZIlzYC5W7duGY4hM3nEx8eb69Wrl+EYa9asad6zZ4/xfuHChen2/1+v/v37m5OTk++Za0Z8fHzMgNnHx+eecdb+nWXWtWvXzAUKFDAD5vLly2fp3KVLlxq5fvLJJ0Z7TEyM0R4cHJzmvODgYON4TEzMA+V//fp181tvvWXOkyfPf/5eTSaT+dVXXzWfOXMmS/kkJyebGzRokGG/d8vM7/+XX34xu7m5ZepvMSQkxOLczJxTsGDBe/5/jojI40bLy0VExEKePHlwc3OjWbNmTJkyhejoaPz9/TOML1y4ML/++ivz588nICAAV1dXbG1tcXZ2xtfXl6CgICIjIylZsmSGfZQqVYrffvuNoKAgfHx8cHZ2xtbWFldXVwICApg/fz6//vrrfe+A7ezszPr166latSopKSn07NnTuAf4YSpYsCBbtmxh2rRp1K5dm/z58+Po6EiNGjX4+OOP2bZtm8USficnJ4vzp02bxpIlS+jbty916tThmWeeIU+ePNjb21OuXDm6d+/Oli1bCAoKMp4Zbi3W/p1l1vLly7l8+TKQ+VnuVAEBATg4OAA80L30DyJv3rxMmzaNo0eP8sknn9C8eXNKlCiBvb09efPmxcPDA39/fz766CNiYmKYP3++sQlbZuXKlYvw8HDee+89qlevTv78+R9oc7Vnn32W48ePExQUREBAAO7u7uTJk4e8efNSvHhxI98jR47QtWtXi3OPHDnCjBkz6NChA5UqVcLZ2ZncuXNTqFAhGjRowNixY//z/3NERB43JrM5Ew/RFBERkYciNDSUwMBA4M5jsFKX7YqIiMjjSTPdIiIij5Dvv/8egKJFi1KmTJkczkZEREQelIpuERGRh+TMmTPGbvDpmTNnDj///DMAXbt2zbbnK4uIiEjO0fJyERGRh2Tu3LkMHz6cl19+GV9fX0qWLElKSgrHjx9n0aJFLF++HABXV1cOHTpk8Vx0EREReTyp6BYREXlI5s6dS48ePe4Z4+7uzk8//UTNmjUfUlYiIiJiTSq6RUREHpJ//vmHH3/8kbCwMKKiovj777+5cuUKBQsWpGLFirRr146+ffvi6OiY06mKiIhINlHRLSIiIiIiImIluXM6gSdJSkoKZ8+exdHRUZvfiIiIiIiIPMHMZjNXrlzBw8ODXLky3qNcRXc2Onv2LMWLF8/pNEREREREROQhOXXqFMWKFcvwuIrubJR6D96pU6coUKBADmcjIiIiIiIi1nL58mWKFy/+n3uxqOjORqlLygsUKKCiW0RERERE5CnwX7cWZ7zwXEREREREREQeiIpuEREREREREStR0S0iIiIiIiJiJbqnW0REREREsiw5OZlbt27ldBoiVmNra4uNjc0D96OiW0REREREMs1sNhMbG8ulS5dyOhURqytYsCBubm7/uVnavajoFhERERGRTEstuF1cXMiXL98DFSMijyqz2cy1a9eIi4sDwN3d/b77UtEtIiIi8hS6cuUKo0ePZtmyZcTFxVGzZk0+//xz6tatC8D58+cZMWIE4eHhXLp0iaZNmzJjxgzKli1r9HH8+HGGDh3Kli1bSEpKIiAggBkzZuDq6mrEtG/fnsjISOLi4ihUqBDNmzdn4sSJeHh4PPQxy4NLTk42Cm5nZ+ecTkfEquzt7QGIi4vDxcXlvpeaayM1ERERkafQa6+9xrp165g/fz4HDx7E39+f5s2bc+bMGcxmMx06dODEiROsWLGC/fv3U7JkSZo3b05iYiIAiYmJ+Pv7YzKZ2LBhA1u3buXmzZu0a9eOlJQU4zp+fn788MMPREdHs2TJEo4fP87//d//5dSw5QGl3sOdL1++HM5E5OFI/Vt/kP0LTGaz2ZxdCT3tLl++jJOTEwkJCRQoUCCn0xERERFJ1/Xr13F0dGTFihW0adPGaK9RowZt27ala9eulC9fnkOHDlG5cmXgzgyni4sLEydO5LXXXiM8PJxWrVoRHx9v/LsnPj6ewoULs27dOpo3b57utVeuXEmHDh1ISkrC1tbW+oOVbHXjxg1iYmIoXbo0efPmzel0RKzuXn/zma3/NNMtIiIi8pS5ffs2ycnJaf4BaW9vbywVByyO29jYkCdPHrZs2QJAUlISJpMJOzs7IyZv3rzkypXLiPm3ixcvsmDBAho2bKiCW0SeGiq6RURERJ4yjo6OeHt78+GHH3L27FmSk5MJDQ1l586dnDt3jgoVKlCyZEneeecd4uPjuXnzJp988gmxsbGcO3cOgAYNGuDg4MCIESO4du0aiYmJDBs2jJSUFCMm1YgRI3BwcMDZ2Zm//vqLFStW5MSwRXJEqVKlmDZtWpbO8fX1ZdCgQVbJ51HzX5/Pk/BZaCM1ERERkafQ/Pnz6dmzJ8888ww2NjbUqlWLzp07s2/fPmxtbVmyZAm9evWicOHC2NjY0Lx5c1q1amWcX7RoURYvXswbb7zB9OnTyZUrF6+88gq1atVKs9nQsGHD6NWrFydPnmTcuHF07dqV1atXa9frJ8ytcUMe6vVsx0zJdOxXX33FsGHDiI+PJ3fuOyXQ1atXKVSoEA0aNGDz5s1G7ObNm2natCnR0dGUK1cu2/N+HMydO5cePXoY7x0cHChfvjyjRo2iY8eODzWXpUuXPvYrY1R0i4iIiDyFPD092bRpE4mJiVy+fBl3d3deeuklSpcuDUDt2rWJjIwkISGBmzdvUrRoUerXr0+dOnWMPvz9/Tl+/Dj//PMPuXPnNp5nm9pHqiJFilCkSBHKlStHxYoVKV68ODt27MDb2/uhjlmeXn5+fly9epU9e/bQoEED4E5x7ebmxu7du7l27ZqxYVZERAQeHh5PbcGdqkCBAkRHRwN3nnYQHBxMp06dOHz4MOXLl39oeRQuXPihXctatLxcRERE5Cnm4OCAu7s78fHxrF27lueee87iuJOTE0WLFuXo0aPs2bMnzXG4U1QXLFiQDRs2EBcXR/v27TO8Xuoevqn3jYs8DOXLl8fDw4OIiAijLSIigueeew5PT0+2bdtm0e7n5wfAzZs3GT58OM888wwODg7Ur1/fog+Abdu20bRpU+zt7SlevDgDBw40dvlPT3BwME5OTqxbtw648ySArl27kj9/ftzd3ZkyJe0MfmhoKHXq1MHR0RE3Nzc6d+5sPD/abDbj5eXF5MmTLc45dOgQuXLl4vjx4wCMHTuWEiVKYGdnh4eHBwMHDrznZ2YymXBzc8PNzY2yZcsyfvx4cuXKxYEDB4yY+Ph4unbtSqFChciXLx+tWrXi6NGjFv0sWbKEypUrY2dnR6lSpdId370+n38vLy9VqhQTJkygZ8+eODo6UqJECb7++muLPrZt20aNGjXImzcvderUYfny5ZhMJiIjI428u3TpQtGiRbG3t6ds2bIEBwffM68HoaJbRERE5Cm0du1awsLCiImJYd26dfj5+VG+fHljSenixYuJiIgwHhvWokULOnTogL+/v9FHcHAwO3bs4Pjx44SGhvLiiy8yePBgYxZs165dBAUFERkZycmTJ9m4cSOdO3fG09NTs9zy0Pn6+rJx40bj/caNG/H19cXHx8dov3nzJtu3bzeK7h49erB161YWLlzIgQMHePHFFwkICDAKy4MHD9KyZUs6duzIgQMHWLRoEVu2bOHNN99MN4fJkyczdOhQ1q5dS4sWLYA7t19s3LiRZcuWER4eTkREBHv37rU47+bNm3z44Yf89ttvLF++nJiYGLp37w7cKY579uyZpmj89ttvadKkCZ6envz444989tlnzJo1i6NHj7J8+XKqVq2a6c8uOTmZkJAQAGrVqmW0d+/enT179rBy5Uq2b9+O2WymdevWxuO19u7dS6dOnXj55Zc5ePAgY8eOZfTo0cydOzfTn096pkyZQp06ddi/fz/9+vXjjTfe4MiRI8CdWfl27dpRtWpV9u3bx4cffsiIESMszh89ejS///47a9asISoqipkzZ1KkSJFMfx5ZlaNF96+//kq7du3w8PDAZDKxfPlyi+Nms5mxY8fi4eGBvb09vr6+HD582CImKSmJAQMGUKRIERwcHGjfvj2nT5+2iImPjycwMBAnJyecnJwIDAzk0qVLFjF//fUX7dq1w8HBgSJFijBw4EBu3rxpjWGLiIiI5LiEhAT69+9PhQoV6Nq1K40bNyY8PNy4d/LcuXMEBgZSoUIFBg4cSGBgIN9//71FH9HR0XTo0IGKFSvywQcfMGrUKIvZNnt7e5YuXUqzZs0oX748PXv2pEqVKmzatMli13ORh8HX15etW7dy+/Ztrly5wv79+2natCk+Pj7G7PWOHTu4fv06fn5+HD9+nO+//57FixcbxevQoUNp3LixUeB++umndO7cmUGDBlG2bFkaNmzI9OnTmTdvHjdu3LC4/jvvvMPUqVOJiIgwlrhfvXqVOXPmMHnyZFq0aEHVqlUJCQkhOTnZ4tyePXvSqlUrypQpQ4MGDZg+fTpr1qzh6tWrwJ0vB6Kjo9m1axdw55nSoaGh9OzZE7hT67i5udG8eXNKlChBvXr16N279z0/r4SEBPLnz0/+/PnJkycPb7zxBl9//TWenp4AHD16lJUrV/LNN9/QpEkTqlevzoIFCzhz5oxR102dOpVmzZoxevRoypUrR/fu3XnzzTf59NNP01wvvc8nI61bt6Zfv354eXkxYsQIihQpYvwOFyxYgMlkYvbs2VSqVIlWrVoxbNgwi/P/+usvatasSZ06dShVqhTNmzenXbt297zmg8jRe7oTExOpXr06PXr04IUXXkhzfNKkSUydOpW5c+dSrlw5xo8fT4sWLYiOjsbR0RGAQYMGsWrVKhYuXIizszNDhgyhbdu27N2719jEo3Pnzpw+fZqwsDAAXn/9dQIDA1m1ahVw55ubNm3aULRoUbZs2cKFCxfo1q0bZrOZGTNmPKRPQ0REROTh6dSpE506dcrw+MCBA/9z+eknn3zCJ598kuHxqlWrsmHDhvvOUSQ7+fn5kZiYyO7du4mPj6dcuXK4uLjg4+NDYGAgiYmJREREUKJECcqUKcPixYsxm81p7u1OSkrC2dkZuDOTe+zYMRYsWGAcN5vNpKSkEBMTQ8WKFYE7M7OJiYns2bOHMmXKGLHHjx/n5s2bFis/ChcunOae6f379zN27FgiIyO5ePEiKSkpwJ3isVKlSri7u9OmTRu+/fZb6tWrx+rVq7lx4wYvvvgiAC+++CLTpk2jTJkyBAQE0Lp1a9q1a2dsKpceR0dH9u3bB8C1a9dYv349ffr0wdnZmXbt2hEVFUXu3LmpX7++cY6zszPly5cnKioKgKioqDS3pDRq1Ihp06aRnJxs1GsZfT4ZqVatmvFz6jL41OX20dHRVKtWzeKRh/Xq1bM4/4033uCFF15g3759+Pv706FDBxo2bPif171fOTrT3apVK8aPH5/uDnhms5lp06YZO+RVqVKFkJAQrl27xnfffQfc+fZlzpw5TJkyhebNm1OzZk1CQ0M5ePAg69evB+78osPCwvjmm2/w9vbG29ub2bNns3r1amNjgPDwcH7//XdCQ0OpWbMmzZs3Z8qUKcyePZvLly8/vA9ERERERESswsvLi2LFirFx40Y2btyIj48PgLH539atW9m4cSPPPvssACkpKdjY2LB3714iIyONV1RUFJ9//rkR06dPH4vjv/32G0ePHjVmhAGaNGlCcnIyP/zwg0VOqXsc3EtiYiL+/v7kz5+f0NBQdu/ezbJlywAsVua+9tprLFy4kOvXrxMcHMxLL71kbA5XvHhxoqOj+eKLL7C3t6dfv340bdrUWAaenly5cuHl5YWXlxfVqlXj7bffxs/Pj4kTJ94zd7PZbDyZ4O6f7zXmjD6fjPx7N3OTyWR8EZGZa7Zq1YqTJ08yaNAgzp49S7NmzRg6dGimrn0/Htl7umNiYoiNjbW4b8jOzg4fHx9jo4O9e/dy69YtixgPDw+qVKlixGzfvh0nJyeLb2AaNGiAk5OTRUyVKlXw8PAwYlq2bElSUlKa+ynulpSUxOXLly1eIiIiIiLyaPLz8yMiIoKIiAh8fX2Ndh8fH9auXcuOHTuM+7lr1qxJcnIycXFxRvGZ+nJzcwPu3N98+PDhNMe9vLzIkyeP0X+9evUICwtjwoQJFkurvby8sLW1ZceOHUZbfHw8f/zxh/H+yJEj/PPPP3zyySc0adKEChUqGLO6d2vdujUODg7MnDmTNWvWGEvLU9nb29O+fXumT59OREQE27dv5+DBg1n6/GxsbLh+/ToAlSpV4vbt2+zcudM4fuHCBf744w9jhr9SpUps2bLFoo9t27ZRrlw5i0cLZvT53I8KFSpw4MABi80a9+zZkyauaNGidO/endDQUKZNm5ZmM7bs9Mg+Miw2NhYAV1dXi3ZXV1dOnjxpxOTJk4dChQqliUk9PzY2FhcXlzT9u7i4WMT8+zqFChUiT548Rkx6Pv74Y8aNG5fFkYmIiIjcP7+Tv+V0Co+MjSWr53QK8pjx8/Ojf//+3Lp1y5jphjtF9xtvvMGNGzeMortcuXJ06dKFrl27MmXKFGrWrMk///zDhg0bqFq1Kq1bt2bEiBE0aNCA/v3707t3bxwcHIiKimLdunVpblP19vZmzZo1BAQEkDt3bgYPHkz+/Pnp1asXw4YNw9nZGVdXV0aNGkWuXP+bGy1RogR58uRhxowZ9O3bl0OHDvHhhx+mGZuNjQ3du3fnnXfewcvLy2LJ+ty5c0lOTqZ+/frky5eP+fPnY29vT8mSJTP8rMxms1ELXb9+nXXr1rF27Vref/99AMqWLctzzz1H7969mTVrFo6OjowcOZJnnnnGWFI+ZMgQ6taty4cffshLL73E9u3bCQoK4ssvv0xzvfQ+n/vRuXNnRo0axeuvv87IkSP566+/jL0mUmfA33//fWrXrk3lypVJSkpi9erVxhcF1vDIznSnSm9pwL/b/u3fMenF30/Mv73zzjskJCQYr1OnTt0zLxERERERyTl+fn5cv34dLy8vi0k3Hx8frly5gqenJ8WLFzfag4OD6dq1K0OGDKF8+fK0b9+enTt3GjHVqlVj06ZNHD16lCZNmlCzZk1Gjx6Nu7t7utdv1KgRP/30E6NHj2b69OnAnc3YmjZtSvv27WnevDmNGzemdu3axjlFixZl7ty5LF68mEqVKvHJJ5+keTxYql69enHz5s00s9wFCxZk9uzZNGrUiGrVqvHLL7+watUq49709Fy+fBl3d3fc3d2pWLEiU6ZMMTZMvPvzqV27Nm3btsXb2xuz2czPP/9sLP+uVasWP/zwAwsXLqRKlSq8//77fPDBB8bO65n5fLKqQIECrFq1isjISGrUqMGoUaOMLwpS7/POkycP77zzDtWqVaNp06bY2NiwcOHC+7peZpjMmbmR4CEwmUwsW7aMDh06AHDixAk8PT3Zt28fNWvWNOKee+45ChYsSEhICBs2bKBZs2ZcvHjRYra7evXqdOjQgXHjxvHtt9/y9ttvp9mtvGDBgnz22Wf06NGD999/nxUrVvDbb//75jg+Pp7ChQuzYcMG49uu/3L58mWcnJxISEigQIEC9/9hiIiIiGRAM93/o5nuh+/GjRvExMRQunRpi42q5NGwdetWfH19OX36dJqVvE+zBQsW0KNHDxISErC3t8/Suff6m89s/ffIznSXLl0aNzc346HocGejgE2bNhk7y9WuXRtbW1uLmHPnznHo0CEjxtvbm4SEBGP7fICdO3eSkJBgEXPo0CHOnTtnxISHh2NnZ2fxLZOIiIiIiMijJikpiWPHjjF69Gg6der01Bfc8+bNY8uWLcTExLB8+XJGjBhBp06dslxwZ5ccvaf76tWrHDt2zHgfExNDZGQkhQsXpkSJEgwaNIgJEyZQtmxZypYty4QJE8iXLx+dO3cGwMnJiV69ejFkyBCcnZ0pXLgwQ4cOpWrVqjRv3hyAihUrEhAQYNxrAHceGda2bVtjK35/f38qVapEYGAgn376KRcvXmTo0KH07t1bM9YiIiIiIvJI+/777+nVqxc1atRg/vz5OZ1OjouNjeX9998nNjYWd3d3XnzxRT766KMcyydHl5dHRESku3S7W7duzJ07F7PZzLhx45g1axbx8fHUr1+fL774gipVqhixN27cYNiwYXz33Xdcv36dZs2a8eWXX1rci3Hx4kUGDhzIypUrAWjfvj1BQUEULFjQiPnrr7/o168fGzZswN7ens6dOzN58mTs7OwyPR4tLxcRERFr0/Ly/9Hy8odPy8vlaZMdy8sfmXu6nwQqukVERMTaVHT/j4ruh09Ftzxtnuh7ukVEREREREQedyq6RURERERERKxERbeIiIiIiIiIlajoFhEREREREbESFd0iIiIiIiIiVqKiW0RERERExEpKlSrFtGnTHvp1TSYTy5cvf+jX/bc///wTk8lEZGRkhjGPSq7WkjunExARERERkcffw36cXVYeGffVV18xbNgw4uPjyZ37Tgl09epVChUqRIMGDdi8ebMRu3nzZpo2bUp0dDTlypXL9rwfFd27dyckJMR4X7hwYerWrcukSZOoVq3aQ83l3LlzFCpU6KFe82HSTLeIiIiIiDzR/Pz8uHr1Knv27DHaNm/ejJubG7t37+batWtGe0REBB4eHk90wZ0qICCAc+fOce7cOX755Rdy585N27ZtH3oebm5u2NnZPfTrPiwqukVERERE5IlWvnx5PDw8iIiIMNoiIiJ47rnn8PT0ZNu2bRbtfn5+ANy8eZPhw4fzzDPP4ODgQP369S36ANi2bRtNmzbF3t6e4sWLM3DgQBITEzPMJTg4GCcnJ9atWwfA77//TuvWrcmfPz+urq4EBgbyzz//GPG+vr4MHDiQ4cOHU7hwYdzc3Bg7dqxFn0ePHqVp06bkzZuXSpUqGX3/Fzs7O9zc3HBzc6NGjRqMGDGCU6dO8ffffxsxBw8e5Nlnn8Xe3h5nZ2def/11rl69ahxPSUnhgw8+oFixYtjZ2VGjRg3CwsIyvGZKSgq9e/emXLlynDx5ErBcXp66HH3p0qX4+fmRL18+qlevzvbt2y36mT17NsWLFydfvnw8//zzTJ06lYIFCxrHf/vtN/z8/HB0dKRAgQLUrl3b4kuXh0lFt4iIiIiIPPF8fX3ZuHGj8X7jxo34+vri4+NjtN+8eZPt27cbRXePHj3YunUrCxcu5MCBA7z44osEBARw9OhR4E5B2rJlSzp27MiBAwdYtGgRW7Zs4c0330w3h8mTJzN06FDWrl1LixYtOHfuHD4+PtSoUYM9e/YQFhbG+fPn6dSpk8V5ISEhODg4sHPnTiZNmsQHH3xgFNYpKSl07NgRGxsbduzYwVdffcWIESOy/PlcvXqVBQsW4OXlhbOzMwDXrl0jICCAQoUKsXv3bhYvXsz69estxvf5558zZcoUJk+ezIEDB2jZsiXt27c3PqO73bx5k06dOrFnzx62bNlCyZIlM8xn1KhRDB06lMjISMqVK8crr7zC7du3Adi6dSt9+/blrbfeIjIykhYtWvDRRx9ZnN+lSxeKFSvG7t272bt3LyNHjsTW1jbLn0t20D3dIiIiIiLyxPP19WXw4MHcvn2b69evs3//fpo2bUpycjLTp08HYMeOHVy/fh0/Pz+OHz/O999/z+nTp/Hw8ABg6NChhIWFERwczIQJE/j000/p3LkzgwYNAqBs2bJMnz4dHx8fZs6cSd68eY3rv/POO4SEhBAREUHVqlUBmDlzJrVq1WLChAlG3Lfffkvx4sX5448/jCXu1apVY8yYMcY1goKC+OWXX2jRogXr168nKiqKP//8k2LFigEwYcIEWrVq9Z+fyerVq8mfPz8AiYmJuLu7s3r1anLlujM3u2DBAq5fv868efNwcHAAICgoiHbt2jFx4kRcXV2ZPHkyI0aM4OWXXwZg4sSJbNy4kWnTpvHFF18Y17p69Spt2rTh+vXrRERE4OTkdM/chg4dSps2bQAYN24clStX5tixY1SoUIEZM2bQqlUrhg4dCkC5cuXYtm0bq1evNs7/66+/GDZsGBUqVDA+t5yimW4REREREXni+fn5kZiYyO7du9m8eTPlypXDxcUFHx8fdu/eTWJiIhEREZQoUYIyZcqwb98+zGYz5cqVI3/+/MZr06ZNHD9+HIC9e/cyd+5ci+MtW7YkJSWFmJgY49pTpkxh1qxZbNmyxSi4U8/fuHGjxfmpRWLqNYA0G5u5u7sTFxcHQFRUFCVKlDAKbgBvb+9MfyaRkZFERkayc+dO/P39adWqlbHsOyoqiurVqxsFN0CjRo1ISUkhOjqay5cvc/bsWRo1amTRb6NGjYiKirJoe+WVV7h69Srh4eH/WXD/e8zu7u4Axpijo6OpV6+eRfy/37/99tu89tprNG/enE8++cTi83zYNNMtIiIiIiJPPC8vL4oVK8bGjRuJj4/Hx8cHuLOJV+nSpdm6dSsbN27k2WefBe4s27axsWHv3r3Y2NhY9JU6O5ySkkKfPn0YOHBgmuuVKFHC+LlJkyb89NNP/PDDD4wcOdJoT0lJMWaN/y210ATSLIs2mUykpKQAYDab05xrMpnu/WH8fw4ODnh5eRnva9eujZOTE7Nnz2b8+PGYzeYM+7q7/d8x6Z3XunVrQkND2bFjh/EZ38vdY07t6+4xp3fNu40dO5bOnTvz008/sWbNGsaMGcPChQt5/vnn//Pa2U1Ft4iIiIiIPBX8/PyIiIggPj6eYcOGGe0+Pj6sXbuWHTt20KNHDwBq1qxJcnIycXFxNGnSJN3+atWqxeHDhy0K1/TUq1ePAQMG0LJlS2xsbIxr16pViyVLllCqVCnjUWZZValSJf766y/Onj1rLIP/96ZjmWUymciVKxfXr183+g4JCSExMdGY7d66dSu5cuWiXLlyFChQAA8PD7Zs2ULTpk2NfrZt25Zm5vmNN96gSpUqtG/fnp9++sn40uN+VKhQgV27dlm0pbdJWrly5ShXrhyDBw/mlVdeITg4OEeKbi0vFxERERGRp4Kfnx9btmwhMjLSoujz8fFh9uzZ3Lhxw9hErVy5cnTp0oWuXbuydOlSYmJi2L17NxMnTuTnn38GYMSIEWzfvp3+/fsTGRnJ0aNHWblyJQMGDEhzbW9vb9asWcMHH3zAZ599BkD//v25ePEir7zyCrt27eLEiROEh4fTs2dPkpOTMzWm5s2bU758ebp27cpvv/3G5s2bGTVqVKbOTUpKIjY2ltjYWKKiohgwYABXr16lXbt2wJ3NyPLmzUu3bt04dOgQGzduZMCAAQQGBuLq6grAsGHDmDhxIosWLSI6OpqRI0cSGRnJW2+9leZ6AwYMYPz48bRt25YtW7ZkKsf0DBgwgJ9//pmpU6dy9OhRZs2axZo1a4zZ7+vXr/Pmm28SERHByZMn2bp1K7t376ZixYr3fc0HoZluERERERF5Kvj5+XH9+nUqVKhgFI1wp+i+cuUKnp6eFC9e3GgPDg5m/PjxDBkyhDNnzuDs7Iy3tzetW7cG7tx3vGnTJkaNGkWTJk0wm814enry0ksvpXv9Ro0a8dNPP9G6dWtsbGwYOHAgW7duZcSIEbRs2ZKkpCRKlixJQECAsZnZf8mVKxfLli2jV69e1KtXj1KlSjF9+nQCAgL+89ywsDBjGbujoyMVKlRg8eLF+Pr6ApAvXz7Wrl3LW2+9Rd26dcmXLx8vvPACU6dONfoYOHAgly9fZsiQIcTFxVGpUiVWrlyZ4cZlgwYNIiUlhdatWxMWFkbDhg0zNc67NWrUiK+++opx48bx3nvv0bJlSwYPHkxQUBAANjY2XLhwga5du3L+/HmKFClCx44dGTduXJavlR1M5vRuApD7cvnyZZycnEhISKBAgQI5nY6IiIg8gfxO/pbTKTwyNpasntMpPHVu3LhBTEwMpUuXttiZWySn9e7dmyNHjrB58+Zs7fdef/OZrf800y0iIiIiIiKPlcmTJ9OiRQscHBxYs2YNISEhfPnllzmdVrpUdIuIiIiIiMhjZdeuXUyaNIkrV65QpkwZpk+fzmuvvZbTaaVLRbeIiIiIiIg8Vn744YecTiHTtHu5iIiIiIiIiJWo6BYRERERERGxEhXdIiIiIiKSJSkpKTmdgshDkR1/67qnW0RERETkAVy5coXRo0ezbNky4uLiqFmzJp9//jl169YFwGw2M27cOL7++mvi4+OpX78+X3zxBZUrVwbg4sWLjBkzhvDwcE6dOkWRIkXo0KEDH374IU5OTgBERETg5+eX7vV37dplXMva8uTJQ65cuTh79ixFixYlT548mEymh3JtkYfJbDZz8+ZN/v77b3LlykWePHnuuy8V3SIiIiIiD+C1117j0KFDzJ8/Hw8PD0JDQ2nevDm///47zzzzDJMmTWLq1KnMnTuXcuXKMX78eFq0aEF0dDSOjo6cPXuWs2fPMnnyZCpVqsTJkyfp27cvZ8+e5ccffwSgYcOGnDt3zuK6o0ePZv369dSpU+ehjTVXrlyULl2ac+fOcfbs2Yd2XZGcki9fPkqUKEGuXPe/SNxkNpvN2ZjTUy2zD0cXERERuV9+J3/L6RQeGRtLVs/pFLh+/TqOjo6sWLGCNm3aGO01atSgbdu2fPjhh3h4eDBo0CBGjBgBQFJSEq6urkycOJE+ffqk2+/ixYt59dVXSUxMJHfutPNkt27dolixYrz55puMHj3aOoO7B7PZzO3bt0lOTn7o1xZ5WGxsbMidO3eGqzkyW/9ppltERERE5D6lFp558+a1aLe3t2fLli3ExMQQGxuLv7+/cczOzg4fHx+2bduWYdGd+o/49ApugJUrV/LPP//QvXv3bBtLVphMJmxtbbG1tc2R64s8TrSRmoiIiIjIfXJ0dMTb25sPP/yQs2fPkpycTGhoKDt37uTcuXPExsYC4OrqanGeq6urcezfLly4wIcffphhQQ4wZ84cWrZsSfHixbNvMCJiFSq6RUREREQewPz58zGbzTzzzDPY2dkxffp0OnfujI2NjRHz7+WpZrM53SWrly9fpk2bNlSqVIkxY8ake73Tp0+zdu1aevXqlb0DERGrUNEtIiIiIvIAPD092bRpE1evXuXUqVPs2rWLW7duUbp0adzc3ADSzGrHxcWlmf2+cuUKAQEB5M+fn2XLlmW4dDs4OBhnZ2fat29vnQGJSLZS0S0iIiIikg0cHBxwd3cnPj6etWvX8txzzxmF97p164y4mzdvsmnTJho2bGi0Xb58GX9/f/LkycPKlSvT3COeymw2ExwcTNeuXXU/tchjQhupiYiIiIg8gLVr12I2mylfvjzHjh1j2LBhlC9fnh49emAymRg0aBATJkygbNmylC1blgkTJpAvXz46d+4M3Jnh9vf359q1a4SGhnL58mUuX74MQNGiRS2WqW/YsIGYmBgtLRd5jKjoFhERERF5AAkJCbzzzjucPn2awoUL88ILL/DRRx8ZM9HDhw/n+vXr9OvXj/j4eOrXr094eDiOjo4A7N27l507dwLg5eVl0XdMTAylSpUy3s+ZM4eGDRtSsWLFhzM4EXlgek53NtJzukVERMTa9Jzu/3kUntMtIk+vzNZ/uqdbRERERERExEpUdIuIiIiIiIhYie7pFhEREZGnkpbq/4+W6otYj2a6RURERERERKxERbeIiIiIiIiIlajoFhEREREREbESFd0iIiIiIiIiVqKiW0RERERERMRKVHSLiIiIiIiIWImKbhERERERERErUdEtIiIiIiIiYiUqukVERERERESsREW3iIiIiIiIiJWo6BYRERERERGxEhXdIiIiIiIiIlaioltERERERETESlR0i4iIiIiIiFiJim4RERERERERK1HRLSIiIiIiImIlKrpFRERERERErERFt4iIiIiIiIiVqOgWERERERERsRIV3SIiIiIiIiJWoqJbRERERERExEpUdIuIiIiIiIhYiYpuEREREREREStR0S0iIiIiIiJiJSq6RURERERERKxERbeIiIiIiIiIlajoFhEREREREbESFd0iIiIiIiIiVqKiW0RERERERMRKVHSLiIiIiIiIWImKbhERERERERErUdEtIiIiIiIiYiUqukVERERERESsREW3iIiIiIiIiJWo6BYRERERERGxEhXdIiIiIiIiIlaioltERERERETESlR0i4iIiIiIiFiJim4RERERERERK1HRLSIiIiIiImIlj3TRffv2bd577z1Kly6Nvb09ZcqU4YMPPiAlJcWIMZvNjB07Fg8PD+zt7fH19eXw4cMW/SQlJTFgwACKFCmCg4MD7du35/Tp0xYx8fHxBAYG4uTkhJOTE4GBgVy6dOlhDFNERERERESeUI900T1x4kS++uorgoKCiIqKYtKkSXz66afMmDHDiJk0aRJTp04lKCiI3bt34+bmRosWLbhy5YoRM2jQIJYtW8bChQvZsmULV69epW3btiQnJxsxnTt3JjIykrCwMMLCwoiMjCQwMPChjldERERERESeLCaz2WzO6SQy0rZtW1xdXZkzZ47R9sILL5AvXz7mz5+P2WzGw8ODQYMGMWLECODOrLarqysTJ06kT58+JCQkULRoUebPn89LL70EwNmzZylevDg///wzLVu2JCoqikqVKrFjxw7q168PwI4dO/D29ubIkSOUL18+U/levnwZJycnEhISKFCgQDZ/GiIiIiLgd/K3nE7hkbGxZPUHOl+f5f886Gcp8jTKbP33SM90N27cmF9++YU//vgDgN9++40tW7bQunVrAGJiYoiNjcXf3984x87ODh8fH7Zt2wbA3r17uXXrlkWMh4cHVapUMWK2b9+Ok5OTUXADNGjQACcnJyMmPUlJSVy+fNniJSIiIiIiIpIqd04ncC8jRowgISGBChUqYGNjQ3JyMh999BGvvPIKALGxsQC4urpanOfq6srJkyeNmDx58lCoUKE0Mannx8bG4uLikub6Li4uRkx6Pv74Y8aNG3f/AxQREREREZEn2iM9071o0SJCQ0P57rvv2LdvHyEhIUyePJmQkBCLOJPJZPHebDanafu3f8ekF/9f/bzzzjskJCQYr1OnTmVmWCIiIiIiIvKUeKRnuocNG8bIkSN5+eWXAahatSonT57k448/plu3bri5uQF3Zqrd3d2N8+Li4ozZbzc3N27evEl8fLzFbHdcXBwNGzY0Ys6fP5/m+n///XeaWfS72dnZYWdn9+ADFRERERERkSfSIz3Tfe3aNXLlskzRxsbGeGRY6dKlcXNzY926dcbxmzdvsmnTJqOgrl27Nra2thYx586d49ChQ0aMt7c3CQkJ7Nq1y4jZuXMnCQkJRoyIiIiIiIhIVj3SM93t2rXjo48+okSJElSuXJn9+/czdepUevbsCdxZEj5o0CAmTJhA2bJlKVu2LBMmTCBfvnx07twZACcnJ3r16sWQIUNwdnamcOHCDB06lKpVq9K8eXMAKlasSEBAAL1792bWrFkAvP7667Rt2zbTO5eLiIiIiIiI/NsjXXTPmDGD0aNH069fP+Li4vDw8KBPnz68//77Rszw4cO5fv06/fr1Iz4+nvr16xMeHo6jo6MR89lnn5E7d246derE9evXadasGXPnzsXGxsaIWbBgAQMHDjR2OW/fvj1BQUEPb7AiIiIiIiLyxHmkn9P9uNFzukVERMTa9Gzp/9FzurOPntMtknVPxHO6RURERERERB5nKrpFRERERERErERFt4iIiIiIiIiVqOgWERERERERsRIV3SIiIiIiIiJWoqJbRERERERExEpUdIuIiIiIiIhYiYpuEREREREREStR0S0iIiIiIiJiJSq6RURERERERKxERbeIiIiIiIiIlajoFhEREREREbESFd0iIiIiIiIiVqKiW0RERERERMRKVHSLiIiIiIiIWImKbhERERERERErUdEtIiIiIiIiYiUqukVERERERESsREW3iIiIiIiIiJWo6BYRERERERGxEhXdIiIiIiIiIlaioltERERERETESlR0i4iIiIiIiFiJim4RERERERERK1HRLSIiIiIiImIlKrpFRERERERErERFt4iIiIiIiIiVqOgWERERERERsRIV3SIiIiIiIiJWoqJbRERERERExEpUdIuIiIiIiIhYiYpuEREREREREStR0S0iIiIiIiJiJSq6RURERERERKxERbeIiIiIiIiIlajoFhEREREREbESFd0iIiIiIiIiVqKiW0RERERERMRKVHSLiIiIiIg8Yc6cOcOrr76Ks7Mz+fLlo0aNGuzdu9ciJioqivbt2+Pk5ISjoyMNGjTgr7/+Mo7HxsYSGBiIm5sbDg4O1KpVix9//NGijz/++IPnnnuOIkWKUKBAARo1asTGjRsfyhgfFyq6RUREREREniDx8fE0atQIW1tb1qxZw++//86UKVMoWLCgEXP8+HEaN25MhQoViIiI4LfffmP06NHkzZvXiAkMDCQ6OpqVK1dy8OBBOnbsyEsvvcT+/fuNmDZt2nD79m02bNjA3r17qVGjBm3btiU2NvZhDvmRZjKbzeacTuJJcfnyZZycnEhISKBAgQI5nY6IiIg8gfxO/pbTKTwyNpas/kDn67P8nwf9LOXRMnLkSLZu3crmzZszjHn55ZextbVl/vz5Gcbkz5+fmTNnEhgYaLQ5OzszadIkevXqxT///EPRokX59ddfadKkCQBXrlyhQIECrF+/nmbNmmXfoB5Bma3/NNMtIiIiIiLyBFm5ciV16tThxRdfxMXFhZo1azJ79mzjeEpKCj/99BPlypWjZcuWuLi4UL9+fZYvX27RT+PGjVm0aBEXL14kJSWFhQsXkpSUhK+vL3CnAK9YsSLz5s0jMTGR27dvM2vWLFxdXaldu/ZDHPGjTUW3iIiIiIjIE+TEiRPMnDmTsmXLsnbtWvr27cvAgQOZN28eAHFxcVy9epVPPvmEgIAAwsPDef755+nYsSObNm0y+lm0aBG3b9/G2dkZOzs7+vTpw7Jly/D09ATAZDKxbt069u/fj6OjI3nz5uWzzz4jLCzMYin70y53TicgIiIiIiIi2SclJYU6deowYcIEAGrWrMnhw4eZOXMmXbt2JSUlBYDnnnuOwYMHA1CjRg22bdvGV199hY+PDwDvvfce8fHxrF+/niJFirB8+XJefPFFNm/eTNWqVTGbzfTr1w8XFxc2b96Mvb0933zzDW3btmX37t24u7vnzAfwiNFMt4iIiIiIyBPE3d2dSpUqWbRVrFjR2Jm8SJEi5M6d+54xx48fJygoiG+//ZZmzZpRvXp1xowZQ506dfjiiy8A2LBhA6tXr2bhwoU0atSIWrVq8eWXX2Jvb09ISMhDGOnjQUW3iIiIiIjIE6RRo0ZER0dbtP3xxx+ULFkSgDx58lC3bt17xly7dg2AXLksS0YbGxtjpjyjmFy5chkxch9F9759+zh48KDxfsWKFXTo0IF3332XmzdvZmtyIiIiIiIikjWDBw9mx44dTJgwgWPHjvHdd9/x9ddf079/fyNm2LBhLFq0iNmzZ3Ps2DGCgoJYtWoV/fr1A6BChQp4eXnRp08fdu3axfHjx5kyZQrr1q2jQ4cOAHh7e1OoUCG6devGb7/9xh9//MGwYcOIiYmhTZs2OTH0R1KWi+4+ffrwxx9/AHdu0H/55ZfJly8fixcvZvjw4dmeoIiIiIiIiGRe3bp1WbZsGd9//z1VqlThww8/ZNq0aXTp0sWIef755/nqq6+YNGkSVatW5ZtvvmHJkiU0btwYAFtbW37++WeKFi1Ku3btqFatGvPmzSMkJITWrVsDd5aph4WFcfXqVZ599lnq1KnDli1bWLFiBdWr6zF0qbL8nG4nJyf27duHp6cnEydOZMOGDaxdu5atW7fy8ssvc+rUKWvl+sjTc7pFRETE2vRs6f/Rc7qzj57TLZJ1VntOt9lsNtbnr1+/3viWo3jx4vzzzz/3ma6IiIiIiIjIkyfLRXedOnUYP3488+fPZ9OmTcZa/ZiYGFxdXbM9QREREREREZHHVZaf0516L8Dy5csZNWoUXl5eAPz44480bNgw2xMUERERERF5mujWhzuelNseslx0V6tWzWL38lSffvopNjY22ZKUiIiIiIiIyJMgy0V3RvLmzZtdXYmIiIiIiIg8EbJcdBcqVAiTyZSm3WQykTdvXry8vOjevTs9evTIlgRFREREREREHldZLrrff/99PvroI1q1akW9evUwm83s3r2bsLAw+vfvT0xMDG+88Qa3b9+md+/e1shZRERERERE5LGQ5aJ7y5YtjB8/nr59+1q0z5o1i/DwcJYsWUK1atWYPn26im4RERERERF5qmX5kWFr166lefPmadqbNWvG2rVrAWjdujUnTpx48OxEREREREREHmNZLroLFy7MqlWr0rSvWrWKwoULA5CYmIijo+ODZyciIiIiIiLyGMvy8vLRo0fzxhtvsHHjRurVq4fJZGLXrl38/PPPfPXVVwCsW7cOHx+fbE9WRERERERE5HGS5aK7d+/eVKpUiaCgIJYuXYrZbKZChQps2rSJhg0bAjBkyJBsT1RERERERETkcXNfz+lu1KgRjRo1yu5cRERERERERJ4o91V0p6SkcOzYMeLi4khJSbE41rRp02xJTERERERERORxl+Wie8eOHXTu3JmTJ09iNpstjplMJpKTk7MtOREREREREZHHWZaL7r59+1KnTh1++ukn3N3dMZlM1shLRERERERE5LGX5aL76NGj/Pjjj3h5eVkjHxEREREREZEnRpaf012/fn2OHTtmjVxEREREREREnihZnukeMGAAQ4YMITY2lqpVq2Jra2txvFq1atmWnIiIiIiIiMjjLMtF9wsvvABAz549jTaTyYTZbNZGaiIiIiIiIiJ3yXLRHRMTY408RERERERERJ44WS66S5YsaY08RERERERERJ44mSq6V65cSatWrbC1tWXlypX3jG3fvn22JCYiIiIiIiLyuMtU0d2hQwdiY2NxcXGhQ4cOGcbpnm4RERERERGR/8lU0Z2SkpLuzyIiIiIiIiKSsSw/p/vUqVMZHtuxY8cDJSMiIiIiIiLyJMly0d2iRQsuXLiQpn3r1q0EBARkS1IiIiIiIiIiT4IsF91NmjTB39+fK1euGG2//vorrVu3ZsyYMdmanIiIiIiIiMjjLMtF99dff03p0qVp06YNN27cYOPGjbRp04YPPviAwYMHZ3uCZ86c4dVXX8XZ2Zl8+fJRo0YN9u7daxw3m82MHTsWDw8P7O3t8fX15fDhwxZ9JCUlMWDAAIoUKYKDgwPt27fn9OnTFjHx8fEEBgbi5OSEk5MTgYGBXLp0KdvHIyIiIiIiIk+PLBfdJpOJ77//nrx589KsWTPat2/Pxx9/zFtvvZXtycXHx9OoUSNsbW1Zs2YNv//+O1OmTKFgwYJGzKRJk5g6dSpBQUHs3r0bNzc3WrRoYTETP2jQIJYtW8bChQvZsmULV69epW3bthY7rXfu3JnIyEjCwsIICwsjMjKSwMDAbB+TiIiIiIiIPD0yVXQfOHDA4hUVFcWYMWM4deoUr776Kk2bNjWOZaeJEydSvHhxgoODqVevHqVKlaJZs2Z4enoCd2a5p02bxqhRo+jYsSNVqlQhJCSEa9eu8d133wGQkJDAnDlzmDJlCs2bN6dmzZqEhoZy8OBB1q9fD0BUVBRhYWF88803eHt74+3tzezZs1m9ejXR0dHZOiYRERG5P2PHjsVkMlm83NzcjOP/Ppb6+vTTTy362b59O88++ywODg4ULFgQX19frl+/bhxv3749JUqUIG/evLi7uxMYGMjZs2cf2jhFROTJkqmiu0aNGtSsWZMaNWoYr6ZNm3L69GlmzZplHKtZs2a2Jrdy5Urq1KnDiy++iIuLCzVr1mT27NnG8ZiYGGJjY/H39zfa7Ozs8PHxYdu2bQDs3buXW7duWcR4eHhQpUoVI2b79u04OTlRv359I6ZBgwY4OTkZMSIiIpLzKleuzLlz54zXwYMHjWN3t587d45vv/0Wk8nECy+8YMRs376dgIAA/P392bVrF7t37+bNN98kV67//ZPIz8+PH374gejoaJYsWcLx48f5v//7v4c6ThEReXJk6jndMTEx1s4jXSdOnGDmzJm8/fbbvPvuu+zatYuBAwdiZ2dH165diY2NBcDV1dXiPFdXV06ePAlAbGwsefLkoVChQmliUs+PjY3FxcUlzfVdXFyMmPQkJSWRlJRkvL98+fL9DVREREQyJXfu3Baz23f7d/uKFSvw8/OjTJkyRtvgwYMZOHAgI0eONNrKli1rcd7de9SULFmSkSNH0qFDB27duoWtrW12DENERJ4imSq6S5Ysae080pWSkkKdOnWYMGECADVr1uTw4cPMnDmTrl27GnEmk8niPLPZnKbt3/4dk178f/Xz8ccfM27cuEyNRURERB7c0aNH8fDwwM7Ojvr16zNhwgSLojrV+fPn+emnnwgJCTHa4uLi2LlzJ126dKFhw4YcP36cChUq8NFHH9G4ceN0r3fx4kUWLFhAw4YNVXCLiMh9yfJGagDHjx9nwIABNG/enBYtWjBw4ECOHz+e3bnh7u5OpUqVLNoqVqzIX3/9BfzvG+1/z0bHxcUZs99ubm7cvHmT+Pj4e8acP38+zfX//vvvNLPod3vnnXdISEgwXqdOncriCEVERCSz6tevz7x581i7di2zZ88mNjaWhg0bcuHChTSxISEhODo60rFjR6PtxIkTwJ17w3v37k1YWBi1atWiWbNmHD161OL8ESNG4ODggLOzM3/99RcrVqyw7uBEROSJleWie+3atVSqVIldu3ZRrVo1qlSpws6dO6lcuTLr1q3L1uQaNWqUZiOzP/74w5h5L126NG5ubhbXvXnzJps2baJhw4YA1K5dG1tbW4uYc+fOcejQISPG29ubhIQEdu3aZcTs3LmThIQEIyY9dnZ2FChQwOIlIiIi1tGqVSteeOEFqlatSvPmzfnpp58ALGazU3377bd06dKFvHnzGm0pKSkA9OnThx49elCzZk0+++wzypcvz7fffmtx/rBhw9i/fz/h4eHY2NjQtWtXzGazFUcnIiJPqkwtL7/byJEjGTx4MJ988kma9hEjRtCiRYtsS27w4ME0bNiQCRMm0KlTJ3bt2sXXX3/N119/DdxZEj5o0CAmTJhA2bJlKVu2LBMmTCBfvnx07twZACcnJ3r16sWQIUNwdnamcOHCDB061PgPNtyZPQ8ICKB3797MmjULgNdff522bdtSvnz5bBuPiIiIZB8HBweqVq2aZpZ68+bNREdHs2jRIot2d3d3gHuuoktVpEgRihQpQrly5ahYsSLFixdnx44deHt7W2EkIiLyJMvyTHdUVBS9evVK096zZ09+//33bEkqVd26dVm2bBnff/89VapU4cMPP2TatGl06dLFiBk+fDiDBg2iX79+1KlThzNnzhAeHo6jo6MR89lnn9GhQwc6depEo0aNyJcvH6tWrcLGxsaIWbBgAVWrVsXf3x9/f3+qVavG/Pnzs3U8IiIikn2SkpKIiooyiulUc+bMoXbt2lSvXt2ivVSpUnh4eNxzFV16Ume47948VUREJLOyPNNdtGhRIiMj0+z0GRkZme4O4A+qbdu2tG3bNsPjJpOJsWPHMnbs2Axj8ubNy4wZM5gxY0aGMYULFyY0NPRBUhURERErGjp0KO3ataNEiRLExcUxfvx4Ll++TLdu3YyYy5cvs3jxYqZMmZLmfJPJxLBhwxgzZgzVq1enRo0ahISEcOTIEX788UcAdu3axa5du2jcuDGFChXixIkTvP/++3h6emqWW0RE7kuWi+7evXvz+uuvc+LECRo2bIjJZGLLli1MnDiRIUOGWCNHEREREU6fPs0rr7zCP//8Q9GiRWnQoAE7duywmKVeuHAhZrOZV155Jd0+Bg0axI0bNxg8eDAXL16kevXqrFu3Dk9PTwDs7e1ZunQpY8aMITExEXd3dwICAli4cCF2dnYPZZwiIvJkMZmzuCuI2Wxm2rRpTJkyhbNnzwLg4eHBsGHDGDhw4H8+qutJdvnyZZycnEhISNCmaiIiImIVfid/y+kUHhkbS1b/76B70Gf5Pw/6WUr20t/mHY/632Vm678sz3SbTCYGDx7M4MGDuXLlCoDF/dMiIiIiIiIickeWi+5Uf//9N9HR0ZhMJsqXL0+RIkWyMy8RERERERGRx16Wi+7ExEQGDBjAvHnzjOddpj6/csaMGeTLly/bkxQREZHHm5ZK/s+jvlxSRESyV5YfGfb222+zadMmVq1axaVLl7h06RIrVqxg06ZN2khNRERERERE5C5ZnulesmQJP/74I76+vkZb69atsbe3p1OnTsycOTM78xMRERERERF5bGV5pvvatWu4urqmaXdxceHatWvZkpSIiIiIiIjIkyDLRbe3tzdjxozhxo0bRtv169cZN24c3t7e2ZqciIiIiIiIyOMsy8vLP//8cwICAihWrBjVq1fHZDIRGRlJ3rx5Wbt2rTVyFBEREREREXksZbnorlKlCkePHiU0NJQjR45gNpt5+eWX6dKlC/b29tbIUUREREREROSxdF/P6ba3t6d3797ZnYuIiIiIiIjIEyXL93RfuHDB+PnUqVO8//77DBs2jF9//TVbExN5GowdOxaTyWTxcnNzA+DWrVuMGDGCqlWr4uDggIeHB127duXs2bMWfcTGxhIYGIibmxsODg7UqlWLH3/80SImPj6ewMBAnJyccHJyIjAwkEuXLj2sYYqIiIiIPLUyXXQfPHiQUqVK4eLiQoUKFYiMjKRu3bp89tlnfP311zz77LMsX77ciqmKPJkqV67MuXPnjNfBgweBO08K2LdvH6NHj2bfvn0sXbqUP/74g/bt21ucHxgYSHR0NCtXruTgwYN07NiRl156if379xsxnTt3JjIykrCwMMLCwoiMjCQwMPChjlNERERE5GmU6aJ7+PDhVK1alU2bNuHr60vbtm1p3bo1CQkJxMfH06dPHz755BNr5iryRMqdOzdubm7Gq2jRogA4OTmxbt06OnXqRPny5WnQoAEzZsxg7969/PXXX8b527dvZ8CAAdSrV48yZcrw3nvvUbBgQfbt2wdAVFQUYWFhfPPNN3h7e+Pt7c3s2bNZvXo10dHROTJmEREREZGnRaaL7t27d/PRRx/RuHFjJk+ezNmzZ+nXrx+5cuUiV65cDBgwgCNHjlgzV5En0tGjR/Hw8KB06dK8/PLLnDhxIsPYhIQETCYTBQsWNNoaN27MokWLuHjxIikpKSxcuJCkpCR8fX2BO0W5k5MT9evXN85p0KABTk5ObNu2zVrDEhERERERslB0X7x40bjXNH/+/Dg4OFC4cGHjeKFChbhy5Ur2ZyjyBKtfvz7z5s1j7dq1zJ49m9jYWBo2bGixd0KqGzduMHLkSDp37kyBAgWM9kWLFnH79m2cnZ2xs7OjT58+LFu2DE9PT+DOPd8uLi5p+nNxcSE2NtZ6gxMRERERkaztXm4yme75XkSyplWrVsbPVatWxdvbG09PT0JCQnj77beNY7du3eLll18mJSWFL7/80qKP9957j/j4eNavX0+RIkVYvnw5L774Ips3b6Zq1apA+v9bNZvN+t+wiIiIiIiVZano7t69O3Z2dsCdWbe+ffvi4OAAQFJSUvZnJ/KUcXBwoGrVqhw9etRou3XrFp06dSImJoYNGzZYzHIfP36coKAgDh06ROXKlQGoXr06mzdv5osvvuCrr77Czc2N8+fPp7nW33//jaurq/UHJSIiIiLyFMt00d2tWzeL96+++mqamK5duz54RiJPsaSkJKKiomjSpAnwv4L76NGjbNy4EWdnZ4v4a9euAZArl+WdIjY2NqSkpADg7e1NQkICu3btol69egDs3LmThIQEGjZsaO0hiYiIiIg81TJddAcHB1szD5Gn0tChQ2nXrh0lSpQgLi6O8ePHc/nyZbp168bt27f5v//7P/bt28fq1atJTk427sEuXLgwefLkoUKFCnh5edGnTx8mT56Ms7Mzy5cvZ926daxevRqAihUrEhAQQO/evZk1axYAr7/+Om3btqV8+fI5NnYRERERkadBlpaXi0j2On36NK+88gr//PMPRYsWpUGDBuzYsYOSJUvy559/snLlSgBq1Khhcd7GjRvx9fXF1taWn3/+mZEjR9KuXTuuXr2Kl5cXISEhtG7d2ohfsGABAwcOxN/fH4D27dsTFBT00MYpIiIiIvK0UtEtkoMWLlyY4bFSpUphNpv/s4+yZcuyZMmSe8YULlyY0NDQLOcnIiIiIiIPJtOPDBMRERERERGRrFHRLSIiIiIiImIlmVpeXqtWLX755RcKFSrEBx98wNChQ8mXL5+1cxN55Pmd/C2nU3gkbCxZPadTEBERERF5JGVqpjsqKorExEQAxo0bx9WrV62alIiIiIiIiMiTIFMz3TVq1KBHjx40btwYs9nM5MmTyZ8/f7qx77//frYmKCIiIiIiIvK4ylTRPXfuXMaMGcPq1asxmUysWbOG3LnTnmoymVR0i4iIiIiIiPx/mSq6y5cvbzzaKFeuXPzyyy+4uLhYNTERERERERGRx12Wn9OdkpJijTxEREREREREnjhZLroBjh8/zrRp04iKisJkMlGxYkXeeustPD09szs/ERERERERkcdWlp/TvXbtWipVqsSuXbuoVq0aVapUYefOnVSuXJl169ZZI0cRERERERGRx1KWZ7pHjhzJ4MGD+eSTT9K0jxgxghYtWmRbciIiIiIiIiKPsyzPdEdFRdGrV6807T179uT333/PlqREREREREREngRZLrqLFi1KZGRkmvbIyEjtaC4iIiIiIiJylywvL+/duzevv/46J06coGHDhphMJrZs2cLEiRMZMmSINXIUEREREREReSxluegePXo0jo6OTJkyhXfeeQcADw8Pxo4dy8CBA7M9QREREREREZHHVZaLbpPJxODBgxk8eDBXrlwBwNHRMdsTExEREREREXnc3ddzulOp2BYRERERERHJWJY3UhMRERERERGRzFHRLSIiIiIiImIlKrpFRERERERErCRLRfetW7fw8/Pjjz/+sFY+IiIiIiIiIk+MLBXdtra2HDp0CJPJZK18RERERERERJ4YWV5e3rVrV+bMmWONXERERERERESeKFl+ZNjNmzf55ptvWLduHXXq1MHBwcHi+NSpU7MtOREREREREZHHWZaL7kOHDlGrVi2ANPd2a9m5iIiIiIiIyP9kuejeuHGjNfIQEREREREReeLc9yPDjh07xtq1a7l+/ToAZrM525ISEREREREReRJkuei+cOECzZo1o1y5crRu3Zpz584B8NprrzFkyJBsT1BERERERETkcZXlonvw4MHY2try119/kS9fPqP9pZdeIiwsLFuTExEREREREXmcZfme7vDwcNauXUuxYsUs2suWLcvJkyezLTERERERERGRx12WZ7oTExMtZrhT/fPPP9jZ2WVLUiIiIiIiIiJPgiwX3U2bNmXevHnGe5PJREpKCp9++il+fn7ZmpyIiIiIiIjI4yzLy8s//fRTfH192bNnDzdv3mT48OEcPnyYixcvsnXrVmvkKCIiIiL/X/jcef8d9LQYMyWnMxAR+U9ZnumuVKkSBw4coF69erRo0YLExEQ6duzI/v378fT0tEaOIiIiIiIiIo+lLM90A7i5uTFu3LjszkVERERERETkiXJfRXd8fDxz5swhKioKk8lExYoV6dGjB4ULF87u/EREREREREQeW1leXr5p0yZKly7N9OnTiY+P5+LFi0yfPp3SpUuzadMma+QoIiIiIiIi8ljK8kx3//796dSpEzNnzsTGxgaA5ORk+vXrR//+/Tl06FC2JykiIiIikt20Kd1dtCmdiNVkeab7+PHjDBkyxCi4AWxsbHj77bc5fvx4tiYnIiIiIiIi8jjLctFdq1YtoqKi0rRHRUVRo0aN7MhJRERERERE5ImQqeXlBw4cMH4eOHAgb731FseOHaNBgwYA7Nixgy+++IJPPvnEOlmKiIiIiIiIPIYyVXTXqFEDk8mE2Ww22oYPH54mrnPnzrz00kvZl52IiIiIiIjIYyxTRXdMTIy18xARERERERF54mSq6C5ZsqS18xARERERERF54mT5kWEAZ86cYevWrcTFxZGSkmJxbODAgdmSmIiIiIiIiMjjLsu7lwcHB1OmTBl69erF5MmT+eyzz4zXtGnTrJCiiIjIk+Hjjz/GZDIxaNAgo81sNjN27Fg8PDywt7fH19eXw4cPG8cvXrzIgAEDKF++PPny5aNEiRIMHDiQhIQEI+bPP/+kV69elC5dGnt7ezw9PRkzZgw3b958mMMTERGRdGR5pvv999/n/fff55133iFXrizX7CIiIk+l3bt38/XXX1OtWjWL9kmTJjF16lTmzp1LuXLlGD9+PC1atCA6OhpHR0fOnj3L2bNnmTx5MpUqVeLkyZP07duXs2fP8uOPPwJw5MgRUlJSmDVrFl5eXhw6dIjevXuTmJjI5MmTc2K4IiIi8v9luei+du0aL7/8sgpuERGRTLp69SpdunRh9uzZjB8/3mg3m81MmzaNUaNG0bFjRwBCQkJwdXXlu+++o0+fPlSpUoUlS5YY53h6evLRRx/x6quvcvv2bXLnzk1AQAABAQFGTJkyZYiOjmbmzJkqukVERHJYlivnXr16sXjxYmvkIiIi8kTq378/bdq0oXnz5hbtMTExxMbG4u/vb7TZ2dnh4+PDtm3bMuwvISGBAgUKkDt3xt+dJyQkULhw4QdPXkRERB5Ilme6P/74Y9q2bUtYWBhVq1bF1tbW4vjUqVOzLTkREZHH3cKFC9m3bx+7d+9Ocyw2NhYAV1dXi3ZXV1dOnjyZbn8XLlzgww8/pE+fPhle8/jx48yYMYMpU6Y8QOYiIiKSHbJcdE+YMIG1a9dSvnx5AEwmk3Hs7p9FRESedqdOneKtt94iPDycvHnzZhj37/9+ms3mdP+bevnyZdq0aUOlSpUYM2ZMun2dPXuWgIAAXnzxRV577bUHG4CIiIg8sCwX3VOnTuXbb7+le/fuVkhHRETkybF3717i4uKoXbu20ZacnMyvv/5KUFAQ0dHRwJ0Zb3d3dyMmLi4uzez3lStXCAgIIH/+/CxbtizNSjO4U3D7+fnh7e3N119/baVRiYiISFZk+Z5uOzs7GjVqZI1cREREnijNmjXj4MGDREZGGq86derQpUsXIiMjKVOmDG5ubqxbt8445+bNm2zatImGDRsabZcvX8bf3588efKwcuXKdGfNz5w5g6+vL7Vq1SI4OFgbnoqIiDwisjzT/dZbbzFjxgymT59ujXxERESeGI6OjlSpUsWizcHBAWdnZ6N90KBBTJgwgbJly1K2bFkmTJhAvnz56Ny5M3Bnhtvf359r164RGhrK5cuXuXz5MgBFixbFxsaGs2fP4uvrS4kSJZg8eTJ///23cT03N7eHNFoRERFJT5a/Bt+1axchISGUKVOGdu3a0bFjR4uXNX388ceYTCYGDRpktJnNZsaOHYuHhwf29vb4+vpy+PBhi/OSkpIYMGAARYoUwcHBgfbt23P69GmLmPj4eAIDA3FycsLJyYnAwEAuXbpk1fGIiIgMHz6cQYMG0a9fP+rUqcOZM2cIDw/H0dERuLNEfefOnRw8eBAvLy/c3d2N16lTpwAIDw/n2LFjbNiwgWLFilnEiIiISM7KctFdsGBBOnbsiI+PD0WKFDGK1NSXtezevZuvv/6aatWqWbRPmjSJqVOnEhQUxO7du3Fzc6NFixZcuXLFiBk0aBDLli1j4cKFbNmyhatXr9K2bVuSk5ONmM6dOxMZGUlYWBhhYWFERkYSGBhotfGIiMjTKSIigmnTphnvTSYTY8eO5dy5c9y4cYNNmzZZzI77+vpiNpvTfZUqVQqA7t27ZxgjIiIiOSvLy8uDg4Otkcc9Xb16lS5dujB79mzGjx9vtJvNZqZNm8aoUaOMWfaQkBBcXV357rvv6NOnDwkJCcyZM4f58+cbz0cNDQ2lePHirF+/npYtWxIVFUVYWBg7duygfv36AMyePRtvb2+io6ONndpFREREREREsuKx2GWlf//+tGnTxiiaU8XExBAbG4u/v7/RZmdnh4+PD9u2bQPuLMu7deuWRYyHhwdVqlQxYrZv346Tk5NRcAM0aNAAJycnI0ZEREREREQkq7I80126dOl7Po/7xIkTD5TQvy1cuJB9+/axe/fuNMdiY2MB0jxWxdXVlZMnTxoxefLkoVChQmliUs+PjY3FxcUlTf8uLi5GTHqSkpJISkoy3qdubCMiIk8Gv5O/5XQKj4yNJavndAoiIiKPpSwX3XdvYgZw69Yt9u/fT1hYGMOGDcuuvAA4deoUb731FuHh4ek+HiXVv78EMJvN9/xiIL2Y9OL/q5+PP/6YcePG3fM6IiIiIiIi8vS6r0eGpeeLL75gz549D5zQ3fbu3UtcXBy1a9c22pKTk/n1118JCgoiOjoauDNTffcOrXFxccbst5ubGzdv3iQ+Pt5itjsuLs54Bqqbmxvnz59Pc/2///47zSz63d555x3efvtt4/3ly5cpXrz4fY5WREREREREnjTZdk93q1atWLJkSXZ1B0CzZs04ePAgkZGRxqtOnTp06dKFyMhIypQpg5ubG+vWrTPOuXnzJps2bTIK6tq1a2Nra2sRc+7cOQ4dOmTEeHt7k5CQwK5du4yYnTt3kpCQYMSkx87OjgIFCli8RERERERERFJleaY7Iz/++COFCxfOru4AcHR0tHhsCoCDgwPOzs5G+6BBg5gwYQJly5albNmyTJgwgXz58tG5c2cAnJyc6NWrF0OGDMHZ2ZnChQszdOhQqlatamzMVrFiRQICAujduzezZs0C4PXXX6dt27bauVxERERERETuW5aL7po1a1rc52w2m4mNjeXvv//myy+/zNbkMmP48OFcv36dfv36ER8fT/369QkPD8fR0dGI+eyzz8idOzedOnXi+vXrNGvWjLlz52JjY2PELFiwgIEDBxq7nLdv356goKCHPh4RERERERF5cmS56O7QoYPF+1y5clG0aFF8fX2pUKFCduWVoYiICIv3JpOJsWPHMnbs2AzPyZs3LzNmzGDGjBkZxhQuXJjQ0NBsylJERERERETkPoruMWPGWCMPERERERERkSdOtm2kJiIiIiIicr9mzpxJtWrVjA2Kvb29WbNmjXG8e/fumEwmi1eDBg0s+ujTpw+enp7Y29tTtGhRnnvuOY4cOWIcj4iISNNH6mv37t0PbazydMl00Z0rVy5sbGzu+cqdO9v2ZRMRERERkadIsWLF+OSTT9izZw979uzh2Wef5bnnnuPw4cNGTEBAAOfOnTNeP//8s0UftWvXJjg4mKioKNauXYvZbMbf35/k5GQAGjZsaHH+uXPneO211yhVqhR16tR5qOOVp0emq+Rly5ZleGzbtm3MmDEDs9mcLUmJiIiIiMjTpV27dhbvP/roI2bOnMmOHTuoXLkycOeRvW5ubhn28frrrxs/lypVivHjx1O9enX+/PNPPD09yZMnj8X5t27dYuXKlbz55psWm0WLZKdMF93PPfdcmrYjR47wzjvvsGrVKrp06cKHH36YrcmJiIiIiMjTJzk5mcWLF5OYmIi3t7fRHhERgYuLCwULFsTHx4ePPvoIFxeXdPtITEwkODiY0qVLU7x48XRjVq5cyT///EP37t2tMQwR4D7v6T579iy9e/emWrVq3L59m8jISEJCQihRokR25yciIiIiIk+JgwcPkj9/fuzs7Ojbty/Lli2jUqVKALRq1YoFCxawYcMGpkyZwu7du3n22WdJSkqy6OPLL78kf/785M+fn7CwMNatW0eePHnSvd6cOXNo2bJlhkW5SHbIUtGdkJDAiBEj8PLy4vDhw/zyyy+sWrWKKlWqWCs/ERERERF5SpQvX57IyEh27NjBG2+8Qbdu3fj9998BeOmll2jTpg1VqlShXbt2rFmzhj/++IOffvrJoo8uXbqwf/9+Nm3aRNmyZenUqRM3btxIc63Tp0+zdu1aevXq9VDGJk+vTC8vnzRpEhMnTsTNzY3vv/8+3eXmIiIiIiIi9ytPnjx4eXkBUKdOHXbv3s3nn3/OrFmz0sS6u7tTsmRJjh49atHu5OSEk5MTZcuWpUGDBhQqVIhly5bxyiuvWMQFBwfj7OxM+/btrTcgEbJQdI8cORJ7e3u8vLwICQkhJCQk3bilS5dmW3IiIiIiIvL0MpvNaZaPp7pw4QKnTp3C3d09y32YzWaCg4Pp2rUrtra22ZavSHoyXXR37dpVO/qJiIiIiIhVvPvuu7Rq1YrixYtz5coVFi5cSEREBGFhYVy9epWxY8fywgsv4O7uzp9//sm7775LkSJFeP755wE4ceIEixYtwt/fn6JFi3LmzBkmTpyIvb09rVu3trjWhg0biImJ0dJyeSgyXXTPnTvXimmIiIiIiMjT7Pz58wQGBnLu3DmcnJyoVq0aYWFhtGjRguvXr3Pw4EHmzZvHpUuXcHd3x8/Pj0WLFuHo6AhA3rx52bx5M9OmTSM+Ph5XV1eaNm3Ktm3b0uxwPmfOHBo2bEjFihVzYqjylMl00S0iIiIiImItc+bMyfCYvb09a9euvef5Hh4e/Pzzz5m61nfffZel3EQexH09MkxERERERERE/puKbhEREREREREr0fJyERERERF5YH4nf8vpFB4JG0tWz+kU5BGjmW4RERERERERK1HRLSIiIiIiImIlKrpFRERERERErERFt4iIiIiIiIiVqOgWERERERERsRIV3SIiIiIiIiJWoqJbRERERERExEpUdIuIiIiIiIhYiYpuEREREREREStR0S0iIiIiIiJiJSq6RURERERERKxERbeIiIiIiIiIlajoFhEREREREbESFd0iIiIiIiIiVqKiW0RERERERMRKVHSLiIiIiIiIWImKbhEREREREREryZ3TCYiIyKPl448/ZunSpRw5cgR7e3saNmzIxIkTKV++vBFz9epVRo4cyfLly7lw4QKlSpVi4MCBvPHGG0ZMnz59WL9+PWfPniV//vxGPxUqVDBi2rdvT2RkJHFxcRQqVIjmzZszceJEPDw8HuqYRUREHiXhc+fldAqPhjFTcjqDbKGZbhERsbBp0yb69+/Pjh07WLduHbdv38bf35/ExEQjZvDgwYSFhREaGkpUVBSDBw9mwIABrFixwoipXbs2wcHBREVFsXbtWsxmM/7+/iQnJxsxfn5+/PDDD0RHR7NkyRKOHz/O//3f/z3U8YqIiIhYk2a6RUTEQlhYmMX74OBgXFxc2Lt3L02bNgVg+/btdOvWDV9fXwBef/11Zs2axZ49e3juueeMtlSlSpVi/PjxVK9enT///BNPT0/gTvGeqmTJkowcOZIOHTpw69YtbG1trTlMERERkYdCM90iInJPCQkJABQuXNhoa9y4MStXruTMmTOYzWY2btzIH3/8QcuWLdPtIzExkeDgYEqXLk3x4sXTjbl48SILFiygYcOGKrhFRETkiaGiW0REMmQ2m3n77bdp3LgxVapUMdqnT59OpUqVKFasGHny5CEgIIAvv/ySxo0bW5z/5Zdfkj9/fvLnz09YWBjr1q0jT548FjEjRozAwcEBZ2dn/vrrL4sl6iIiIiKPOxXdIiKSoTfffJMDBw7w/fffW7RPnz6dHTt2sHLlSvbu3cuUKVPo168f69evt4jr0qUL+/fvZ9OmTZQtW5ZOnTpx48YNi5hhw4axf/9+wsPDsbGxoWvXrpjNZquPTURERORh0D3dIiKSrgEDBrBy5Up+/fVXihUrZrRfv36dd999l2XLltGmTRsAqlWrRmRkJJMnT6Z58+ZGrJOTE05OTpQtW5YGDRpQqFAhli1bxiuvvGLEFClShCJFilCuXDkqVqxI8eLF2bFjB97e3g9vsCIiIiJWoqJbREQsmM1mBgwYwLJly4iIiKB06dIWx2/dusWtW7fIlctysZSNjQ0pKSn/2XdSUtI9jwP3jBERERF5nKjoFhERC/379+e7775jxYoVODo6EhsbC9yZtba3t6dAgQL4+PgwbNgw7O3tKVmyJJs2bWLevHlMnToVgBMnTrBo0SL8/f0pWrQoZ86cYeLEidjb29O6dWsAdu3axa5du2jcuDGFChXixIkTvP/++3h6emqWW0RERJ4YKrpFRMTCzJkzAYzHgaUKDg6me/fuACxcuJB33nmHLl26cPHiRUqWLMlHH31E3759AcibNy+bN29m2rRpxMfH4+rqStOmTdm2bRsuLi4A2Nvbs3TpUsaMGUNiYiLu7u4EBASwcOFC7OzsHtp4RURERKxJRbeIiFjIzCZmbm5uBAcHZ3jcw8ODn3/++Z59VK1alQ0bNmQ5PxEREZHHiXYvFxEREREREbESzXSLiIiI1YXPnZfTKTw6xkzJ6QxEROQhUtEtIvKE8Tv5W06n8EjYWLJ6TqcgIiIiouXlIiIiIiIiItaioltERERERETESlR0i8gT4eOPP6Zu3bo4Ojri4uJChw4diI6OzjC+T58+mEwmpk2bZtEeGxtLYGAgbm5uODg4UKtWLX788cd0+0hKSqJGjRqYTCYiIyOzcTQiIiIi8qRQ0S0iT4RNmzbRv39/duzYwbp167h9+zb+/v4kJiamiV2+fDk7d+7Ew8MjzbHAwECio6NZuXIlBw8epGPHjrz00kvs378/Tezw4cPT7UNEREREJJWKbhF5IoSFhdG9e3cqV65M9erVCQ4O5q+//mLv3r0WcWfOnOHNN99kwYIF2Nrapuln+/btDBgwgHr16lGmTBnee+89ChYsyL59+yzi1qxZQ3h4OJMnT7bquERERETk8aaiW0SeSAkJCQAULlzYaEtJSSEwMJBhw4ZRuXLldM9r3LgxixYt4uLFi6SkpLBw4UKSkpLw9fU1Ys6fP0/v3r2ZP38++fLls+o4REREROTxpqJbRJ44ZrOZt99+m8aNG1OlShWjfeLEieTOnZuBAwdmeO6iRYu4ffs2zs7O2NnZ0adPH5YtW4anp6fRd/fu3enbty916tSx+lhERERE5PGm53SLPIDwufNyOoVHw5gpOZ2BhTfffJMDBw6wZcsWo23v3r18/vnn7Nu3D5PJlOG57733HvHx8axfv54iRYqwfPlyXnzxRTZv3kzVqlWZMWMGly9f5p133nkYQxERERGRx5xmukXkiTJgwABWrlzJxo0bKVasmNG+efNm4uLiKFGiBLlz5yZ37tycPHmSIUOGUKpUKQCOHz9OUFAQ3377Lc2aNaN69eqMGTOGOnXq8MUXXwCwYcMGduzYgZ2dHblz58bLywuAOnXq0K1bt4c+XhERERF5tGmmW0SeCGazmQEDBrBs2TIiIiIoXbq0xfHAwECaN29u0dayZUsCAwPp0aMHANeuXQMgVy7L7yNtbGxISUkBYPr06YwfP944dvbsWVq2bMmiRYuoX79+to9LRERERB5vKrpF5InQv39/vvvuO1asWIGjoyOxsbEAODk5YW9vj7OzM87Ozhbn2Nra4ubmRvny5QGoUKECXl5e9OnTh8mTJ+Ps7Mzy5ctZt24dq1evBqBEiRIWfeTPnx8AT09Pi5l1ERERERHQ8nIReULMnDmThIQEfH19cXd3N16LFi3KdB+2trb8/PPPFC1alHbt2lGtWjXmzZtHSEgIrVu3tmL2IiIiIvKk0ky3iDwRzGZzls/5888/07SVLVuWJUuWZLqPUqVK3de1RUREROTpoJluEREREREREStR0S0iIiIiIiJiJVpeLiKPBL+Tv+V0Co+EjSWr53QKIiIiIpKNNNMtIiIiIiIiYiUqukVERERERESsREW3iIiIiIiIiJWo6BYRERERERGxEhXdkmUff/wxdevWxdHRERcXFzp06EB0dLRFjNlsZuzYsXh4eGBvb4+vry+HDx+2iImNjSUwMBA3NzccHByoVasWP/74o0VMfHw8gYGBODk54eTkRGBgIJcuXbL2EEVERERERLKFim7Jsk2bNtG/f3927NjBunXruH37Nv7+/iQmJhoxkyZNYurUqQQFBbF7927c3Nxo0aIFV65cMWICAwOJjo5m5cqVHDx4kI4dO/LSSy+xf/9+I6Zz585ERkYSFhZGWFgYkZGRBAYGPtTxioiIiIiI3C89MkyyLCwszOJ9cHAwLi4u7N27l6ZNm2I2m5k2bRqjRo2iY8eOAISEhODq6sp3331Hnz59ANi+fTszZ86kXr16ALz33nt89tln7Nu3j5o1axIVFUVYWBg7duygfv36AMyePRtvb2+io6MpX778Qxy1iIiIiIhI1mmmWx5YQkICAIULFwYgJiaG2NhY/P39jRg7Ozt8fHzYtm2b0da4cWMWLVrExYsXSUlJYeHChSQlJeHr6wvcKcqdnJyMghugQYMGODk5WfQjIiIiIiLyqNJMtzwQs9nM22+/TePGjalSpQpw515tAFdXV4tYV1dXTp48abxftGgRL730Es7OzuTOnZt8+fKxbNkyPD09jX5cXFzSXNPFxcW4hoiIiIiIyKNMRbc8kDfffJMDBw6wZcuWNMdMJpPFe7PZbNH23nvvER8fz/r16ylSpAjLly/nxRdfZPPmzVStWjXdPtLrR0RERERE5FGlolvu24ABA1i5ciW//vorxYoVM9rd3NyAOzPV7u7uRntcXJwx+338+HGCgoI4dOgQlStXBqB69eps3ryZL774gq+++go3NzfOnz+f5rp///13mll0ERERERGRR5Hu6ZYsM5vNvPnmmyxdupQNGzZQunRpi+OlS5fGzc2NdevWGW03b95k06ZNNGzYEIBr164BkCuX5Z+gjY0NKSkpAHh7e5OQkMCuXbuM4zt37iQhIcHoR0RERERE5FGmmW7Jsv79+/Pdd9+xYsUKHB0djfurnZycsLe3x2QyMWjQICZMmEDZsmUpW7YsEyZMIF++fHTu3BmAChUq4OXlRZ8+fZg8eTLOzs4sX76cdevWsXr1agAqVqxIQEAAvXv3ZtasWQC8/vrrtG3bVjuXi4iIiIjIY0FFt2TZzJkzAYxdxlMFBwfTvXt3AIYPH87169fp168f8fHx1K9fn/DwcBwdHQGwtbXl559/ZuTIkbRr146rV6/i5eVFSEgIrVu3NvpcsGABAwcONHZCb9++PUFBQdYfpIiIiIiISDZQ0S1ZZjab/zPGZDIxduxYxo4dm2FM2bJlWbJkyT37KVy4MKGhoVlNUURERERE5JGge7pFRERERERErOSRLro//vhj6tati6OjIy4uLnTo0IHo6GiLGLPZzNixY/Hw8MDe3h5fX18OHz5sEZOUlMSAAQMoUqQIDg4OtG/fntOnT1vExMfHExgYiJOTE05OTgQGBnLp0iVrD1FERERERESeYI/08vJNmzbRv39/6taty+3btxk1ahT+/v78/vvvODg4ADBp0iSmTp3K3LlzKVeuHOPHj6dFixZER0cb9w8PGjSIVatWsXDhQpydnRkyZAht27Zl79692NjYANC5c2dOnz5NWFgYcGfDrsDAQFatWpUzg7cSv5O/5XQKj4yNJavndAoi8ogLnzsvp1N4dIyZktMZiIiIPJYe6aI7tQBOFRwcjIuLC3v37qVp06aYzWamTZvGqFGj6NixIwAhISG4urry3Xff0adPHxISEpgzZw7z58+nefPmAIT+v/buOyyK4/8D+PuQDoKCKIhIUQQLYFdEEUXFgi1qsPeu0dgVu7HGrrHXWGPvimJv2FvsvUWxYMECKPD+/cHv9st5qKjgoXxez+OTsDd3Nzu3OzOf3dmZJUvg4OCAnTt3IiAgAJcuXUJISAiOHDmCEiVKAADmzJkDb29vXLlyRWbKFkIIIYQQQgjxVdL08PIPvXz5EkDC5FoAcOvWLYSHhyszWwOAkZERypYti8OHDwMATp48iffv32ukyZ49OwoUKKCkCQsLg6WlpRJwA0DJkiVhaWmppElKTEwMIiMjNf4JIYQQQgghhBBqP0zQTRLdu3dH6dKlUaBAAQBQ1ofOli2bRtps2bIpr4WHh8PQ0BCZM2f+ZJqsWbNqfWfWrFmVNEkZNWqU8gy4paUlHBwcvn4HhRBCCCGEEEL8dH6YoLtz5844d+4cli9frvWaSqXS+Juk1rYPfZgmqfSf+5x+/frh5cuXyr979+59bjeEEEIIIYQQQqQjP0TQ/dtvv2Hjxo3Ys2cPcuTIoWy3tbUFAK270Y8fP1buftva2uLdu3d4/vz5J9M8evRI63ufPHmidRc9MSMjI1hYWGj8E0IIIYQQQggh1NJ00E0SnTt3xtq1a7F79244OztrvO7s7AxbW1uEhoYq2969e4d9+/ahVKlSAIAiRYrAwMBAI83Dhw9x/vx5JY23tzdevnyJY8eOKWmOHj2Kly9fKmmEEEIIIYQQQogvlaZnL+/UqROWLVuGDRs2IGPGjModbUtLS5iYmEClUuH333/HyJEj4erqCldXV4wcORKmpqZo2LChkrZVq1bo0aMHrK2tYWVlhZ49e8LDw0OZzTxv3ryoXLky2rRpg1mzZgFIWDIsMDBQZi4XQgghhBBCCPHV0nTQPWPGDACAn5+fxvYFCxagefPmAIDevXsjKioKHTt2xPPnz1GiRAns2LFDWaMbACZOnAh9fX38+uuviIqKgr+/PxYuXKis0Q0AS5cuRZcuXZRZzmvUqIG//vordXdQCCGEEEIIIcRPLU0H3SQ/m0alUmHIkCEYMmTIR9MYGxtj6tSpmDp16kfTWFlZYcmSJV+TTSGEEEIIIYQQIklp+pluIYQQQgghhBDiRyZBtxBCCCGEEEIIkUok6BZCCCGEEEIIIVKJBN1CCCGEEEIIIUQqkaBbCCGEEEIIIYRIJWl69nIhhBBCCCHEj2HHwkW6zkLaMHi8rnMg0hi50y2EEEIIIYQQQqQSCbqFEEIIIYQQQohUIkG3EEIIIYQQQgiRSiToFkIIIYQQQgghUokE3UIIIYQQQgghRCqRoFsIIYQQQgghhEglEnQLIYQQQgghhBCpRNbpFkKIn4ysk/r/ZJ1UIYQQQqQBcqdbCCGEEEIIIYRIJRJ0CyGEEEIIIYQQqUSCbiGEEEIIIYQQIpVI0C2EEEIIIYQQQqQSCbqFEEIIIYQQQohUIkG3EEIIIYQQQgiRSiToFkIIIYQQQgghUokE3UIIIYQQQgghRCqRoFsIIYQQQgghhEglEnQLIYQQQgghhBCpRIJuIYQQQgghhBAilejrOgNCCAEAOxYu0nUW0obB43WdAyGEEEIIkYLkTrcQQgghhBBCCJFKJOgWQgghhBBCCCFSiQTdQgghhBBCCCFEKpGgWwghhBBCCCGESCUSdAshhBBCCCGEEKlEgm4hhBBCCCGEECKVSNAthBBCCCGEEEKkElmnO52RtZATkfWQhRBCCCGEEKlM7nQLIYQQQgghhBCpRIJuIYQQQgghhBAilUjQLYQQQgghhBBCpBIJuoUQQgghhBBCiFQiQbcQQgghhBBCCJFKJOgWQgghhBBCCCFSiQTdQgghhBBCCCFEKpGgWwghhBBCCCGESCUSdAshhBBCCCGEEKlEgm4hhBBCCCGEECKVSNAthBBCCCGEEEKkEgm6hRBCCCGEEEKIVCJBtxBCCCGEEEIIkUok6BZCCCGEEEIIIVKJBN1CCCGEEEIIIUQqkaBbCCGEEEIIIYRIJRJ0CyGEEEIIIYQQqUSCbiGEEEIIIYQQIpVI0C2EEEIIIYQQQqQSCbqFEEIIIYQQQohUIkG3EEIIIYQQQgiRSiToFkIIIYQQQgghUokE3UIIIYQQQgghRCqRoFsIIYQQQgghhEglEnQLIYQQQgghhBCpRIJuIYQQQgghhBAilUjQLYQQQgghhBBCpBIJuoUQQgghhBBCiFQiQbcQQgghhBBCCJFKJOgWQgghhBBCCCFSiQTdQgghhBBCCCFEKpGgWwghhBBCCCGESCUSdAshhBBCCCGEEKlEgm4hhBBCCCGEECKVSNAthBBCCCGEEEKkEgm6hRBCCCGEEEKIVCJBtxBCCCGEEEIIkUok6BZCCCGEEEIIIVKJBN1CCCGEEEIIIUQqkaBbCCGEEEIIIYRIJRJ0CyGEEEIIIYQQqUSCbiGEEEIIIYQQIpVI0C2EEEIIIYQQQqQSCbo/MH36dDg7O8PY2BhFihTBgQMHdJ0lIYQQQgghhBA/KAm6E1mxYgV+//139O/fH6dPn0aZMmVQpUoV3L17V9dZE0IIIYQQQgjxA5KgO5EJEyagVatWaN26NfLmzYtJkybBwcEBM2bM0HXWhBBCCCGEEEL8gPR1nYG04t27dzh58iT69u2rsb1SpUo4fPhwku+JiYlBTEyM8vfLly8BAJGRkamX0W/0Pjrm84nSCYMU+J2kPBNIWaYcKcuUI2WZsr61PKUs/0fKMuVIWaYcqTNTjpRlykmJskxN6riP5CfTqfi5FOnEgwcPYG9vj0OHDqFUqVLK9pEjR+Lvv//GlStXtN4zZMgQDB069HtmUwghhBBCCCFEGnLv3j3kyJHjo6/Lne4PqFQqjb9Jam1T69evH7p37678HR8fj2fPnsHa2vqj7xEJV4QcHBxw7949WFhY6Do7PzQpy5QjZZlypCxTjpRlypGyTFlSnilHyjLlSFmmHCnL5CGJV69eIXv27J9MJ0H3/8uSJQsyZMiA8PBwje2PHz9GtmzZknyPkZERjIyMNLZlypQptbL407GwsJCTOIVIWaYcKcuUI2WZcqQsU46UZcqS8kw5UpYpR8oy5UhZfp6lpeVn08hEav/P0NAQRYoUQWhoqMb20NBQjeHmQgghhBBCCCFEcsmd7kS6d++OJk2aoGjRovD29sbs2bNx9+5dtG/fXtdZE0IIIYQQQgjxA5KgO5GgoCBERERg2LBhePjwIQoUKICtW7fC0dFR11n7qRgZGWHw4MFaQ/PFl5OyTDlSlilHyjLlSFmmHCnLlCXlmXKkLFOOlGXKkbJMWTJ7uRBCCCGEEEIIkUrkmW4hhBBCCCGEECKVSNAthBBCCCGEEEKkEgm6hRBCCCGEEEKIVCJBtxBCCCGEEEIIkUok6BZCCCGEEEIIIVKJBN1CCCGEEEIIIUQqkaBb/JRkJbzPkzISIv2Ii4vT+FvOfyGEEOL7kaBb/BTUHch3794BAFQqlS6zk+aoy+fEiRPYsWMHACmjL5VUkCKBy/cnZf7lSCJDhgwAgMOHDyMqKkrO/2SQYy31SNl+OynDlCXlmTzqcjp16hQuXryI+Ph4HefoxyFBt/jhkYRKpcK2bdvQtm1b1KtXD0ePHsWbN290nbU0QV0+a9asQe3atREaGorbt29rvC4+TV2Ge/bswfDhwxEcHIynT59K4JLK1MfmixcvEBkZCUAuFn2prVu3omLFigCA7t27o0ePHoiKitJxrtI29XEXHR2d5Hbx5dRl9/DhQ7x48QJv377VcY5+HInL7vr167h//z6AhLrwwxEsInnUZXrz5k2cO3cOly5dkrYlGdR9oXXr1qFKlSpYvXo1nj9/ruts/TAk6BY/PJVKhf3796Nu3bpQqVS4efMmatWqhfnz5yMiIkLX2dM5lUqF0NBQNGnSBAMHDsTIkSPh5OSk8br4NJVKhc2bN6Nq1arYtWsXFi9ejEKFCmHfvn3SEU8l6sZ9y5YtqFatGnx9fVGoUCEcO3ZMGdEiPi0uLg6xsbG4ceMG3N3dMX/+fCxevBhWVla6zlqapT7uQkJC0KBBAzRo0ADz5s1DTEwMVCqV3NX5SuqOeuXKlVGoUCF07doVu3fv1nW20rzEQU6NGjVQvnx5NGvWDA0bNkR8fLwygkUkn7pM169fD39/fwQFBaFgwYIIDg7GlStXdJ29NEld76nrxiZNmmDEiBHo1KkTrK2tdZy7H4cE3eKncOvWLfTv3x8LFizAyZMn0bBhQ0ycOBGLFy9O14E3Sbx79w7Lly9Hx44d0bZtW7x9+xYnT55Enz590L9/fzx+/FhJKzSpy+TNmzcICQnB9OnTsWvXLly9ehXFixdHvXr1sGfPHim7VKBSqbBp0yY0aNAAlSpVwsyZM2Fra4vGjRtj06ZNiImJ0XUW07wMGTKgRo0aKF68OK5evQpPT0/kzp0bABAbG6vj3KVNKpUKBw8eRI0aNeDg4IB79+5h7ty56NKlC6Kjo6GnpyeB91e4fPky2rVrh+bNm6NNmzYIDw/HgAEDsGnTJl1nLU1TqVTYuXMnGjVqhObNmyMsLAyBgYH4559/sHTpUl1n74ekUqmwfft2tGjRAr169cL58+cxdepUTJgwARMnTsSlS5d0ncU0Y9q0aXj48CH09BLCxdjYWCxfvhytWrVC69atYWpqisuXL2PgwIGYP38+Lly4oOMcp3EU4gcUHx9Pkjxz5gy3b9/Ovn37cu7cuRppunfvTicnJ06ZMoVPnjzRRTbTjBYtWrBEiRK8dOkSmzVrRn9/f5YsWZLZs2dnYGCgrrOXpmzbto3Pnz9X/g4LC6OLiwt9fX154MABjbS//PILs2TJwt27dyvHpEgZd+7cobe3N8ePH0+SDA8Pp4uLCx0cHGhhYcFVq1bx7du3Os5l2hQXF6f8f1RUFJcsWcKpU6fSzc2NlStXVl6LiYnReJ8cw+S1a9c4duxYTpw4kSQZHR3N8ePHs0SJEmzVqhWjoqJIapax+LRz587xjz/+YHBwsLItLCyMDRo0YPHixblx40Yd5i7tio+PZ1xcHLt3786+ffuSTKgHHRwc+Ntvv+k4dz+uFy9esFGjRhw8eDBJ8tatW8ydOzfLly9PS0tLNmnShBcuXNBtJtOAs2fPskqVKrx+/bqy7c2bNyxbtiybNGnCy5cvs127dixfvjydnZ2ZP39+durUiVFRUdKWfIQE3eKHtXr1apqamtLFxYUqlYqBgYF8+PChRppevXoxY8aMnDFjRrrpJCVV2W3atIk+Pj7U19dnvXr1uHbtWpLk8uXLWaxYMb548eJ7ZzPNiYuL46FDh2hubs7w8HBl+/Pnz+nr60uVSqV0DhMfS7/++itVKhX37dv33fP8M7t58ybHjx/Ply9f8uHDh3R1dWW7du1IkuXLl2eePHm4dOlSRkdH6zinaUviY3PWrFlcsWKFchFp/fr1dHV1ZUBAgMZ7tm7dqgST6dnly5fp6+vLnDlzcvHixcr2t2/fcsKECSxevDjbtm0rF3u+wKNHj1ilShVaW1uzTZs2Gq8dPnyY9evXZ6lSpbh69Wod5TDtq1mzJseOHcv//vuP9vb2bNu2rdLOr1mzhv/884+Oc/hjefv2LdeuXcubN28yIiKCnp6ebNWqFUnyr7/+opmZmQTe/0/dNzxy5Ajv3btHkly7di3NzMyYOXNm1qlTh8uWLSNJDh48mL6+vummr/01JOgWP6T79++zXr16nDlzJsPDwzlgwADmz5+f/fr144MHDzTSDhgwgNeuXdNRTr8vdUO8f/9+BgcHc8qUKcq+v379mkeOHNFI36lTJ1atWlU6kYk8fvyYZMIdr4iICJL/C7xdXFx48eJFkpoXN5o2bcorV658/8z+5G7cuEGS7NatG2vVqsXIyEiSZLt27WhgYEBHR0dlm9DUu3dvZs2albNnz+ajR49IJty13bhxI3Pnzk0/Pz9euXKFFStWZJUqVeTOBMlnz56xS5cuzJYtGxs1aqTxWlRUFCdPnsw8efLIXcZkSHw8rVu3jn5+fnR0dOShQ4c00h05coRVq1alv78/X716JcdhIvHx8Xz37h07derE2rVr08nJia1bt1Zee/36NVu1asURI0bw3bt3Os5t2pXUMaVu22fPns0yZcooF9rnzp3LvHnz0tPTU6svmZ7ExsYq///gwQP6+fmxePHivHv3Lkny4sWLyrmsDrJ///13/vLLL3zz5s33z/APQoJu8cM5ceIE69aty6pVq2rckRw6dCgLFSrEPn36pOvKcsuWLdTX12elSpWYMWNGVqpUiUuXLtVIc+7cOXbr1o2ZMmXi2bNndZTTtGPx4sVcv3690jjfvn2bKpWKffr04bNnz0gmXPEtVaoUXV1dkwy8xddTl+PVq1d56dIlrYtkderU4W+//aak69atG0+ePKk1skUkmDp1KrNmzcozZ84o2969e6d0pHbv3k13d3fmzJmTpUqVUjrs6e14Tmp/nz9/zr59+9LT05MDBw7USBMVFcXp06fz1q1b3zGXPxZ1eX14t2vr1q309/dn1apVefjwYY3Xjh07xvv373+3PKZV6rJ78OABIyMj+fLlS5LkqVOnmClTJjo7Oyt1XmxsLIODg+ng4MCrV6/qLM9pnbpMjx49yqVLl3L16tUa5/TIkSPp7e2t9Bn79u3LefPmycXc/xcaGsq9e/dy8eLFrFixIsuVK8c7d+5opDl79iyDg4NpYWHBc+fO6SinPwYJusUPZ/LkyXRzc6ONjY1WQz1s2DAWK1aMnTt31gjIf3bqRuT+/fvs0KEDZ82aRZI8f/48a9euTT8/Py5atIgkefLkSXbo0IGFChXS6JSnV69fv2aePHno4+PDHTt2KGU5efJkGhgYcPDgwcpVcXXgnS9fPv7777+6zPZPZ9WqVcyRIwdtbW1ZsmRJTp48WXmtadOmzJEjB6dMmcLWrVvTwsKCN2/e1GFu07aOHTuya9euJBNGCyxdupTFixdn/fr1uWLFCpIJAeSxY8eU4Oj9+/e6yq5OJO6MT5s2jZMnT1aCwZcvX7J3794sVqwYBwwYkO4uRnwtdTmFhoayRYsWbNiwIXv27Kk8urBlyxZWqlSJlStXZlhYmC6zmmatW7eOuXLloqenJ2vWrKkEMVu3bqWJiQnLlSvH8uXLs06dOrSysuKpU6d0nOO0b9WqVbSwsGCuXLmYM2dOlitXTqn3Vq1aRVNTU1avXp0BAQE0MzOTtv3/hYWFUaVScf369Xz//j3XrFlDPz8/litXTul7nz17lrVr16aHh4f0J5NBgm7xQ5o7dy7d3d1Zt25dZbiLWp8+fVi2bFllSGV6cezYMdatW5fe3t4ald/FixdZp04d+vn5ceXKlSQT7nTLXcL/dRIfPnxIb29vlilThlu2bFEa5BkzZlClUmkF3vny5WORIkW0JqISXyZx+bu5uXHevHnctGkTe/XqRUdHRw4ZMkRJW61aNXp6erJYsWI8ffq0jnKc9iQOCOPj4xkbG8t69eqxaNGi/PPPP+nr68tq1aqxefPmrF27NitWrKgxUSCZficFW7VqFS0tLVmsWDEWKFCAKpWKw4cPJ5lwnvfq1Ys+Pj7s3r27BN7JtH79ehoZGbF58+Zs1KgRHRwcmC9fPmVE1YYNG1itWjWWKlWKx44d03Fu05arV68yR44cnDx5MkeNGsUaNWowR44cSn137tw5DhgwgC1btuS4cePkDvcnqM/Xt2/fsn79+ly0aBEfP37MkJAQ5s+fn56ensrIn/nz57NJkyZs2rSpBNz/7+LFiwwJCeGIESM0tqsD7/Lly/O///4jKSNVvoQE3SJNU1ecL1++5Js3bzSeFZk6dSpLly7NJk2aaJ3w6XG28gMHDrBQoUI0MTHh33//rfHapUuXGBQURE9PT5mw5gPqobURERH09fX9ZOCtHmr+8uVLGWKaQg4fPsyePXuyQ4cOyt3WBw8ecPjw4cyRIweHDh2qpH306BFfvXqlq6ymOYmD5djYWGU4anh4OCtUqMACBQpwzJgxPHnyJMmEzqWvr6/M4cCESdNsbW05d+5cvnv3jlFRUZw1axb19fU5evRokgl1QseOHVmhQgVlrgfxPx+Ojnj69CkLFizIUaNGKdsiIyNZokQJFihQQEm/cuVK1qlTR+uCeXqU+GLO1atX2b17d+Xvs2fPslatWrSzs1POYXl2O/n279/P0qVL85dfflHa6/j4eB45coT58uVjgQIFlMA7JiZG4znm9OzJkye0sLCgSqVijx49SGq2NWvWrGGFChVYuHBhJfAWySNBt0iz1I3R5s2bGRgYSDc3N7Zv357r169X0kyZMoU+Pj5s0aKFNOAkjx8/ztKlS7NChQoMCQnReO38+fNs2rQpb9++raPcpV2LFi3itGnT+OzZMxYvXpy+vr5agbeBgQF79eqldZdQfL03b96wc+fOzJw5M319fTVeUwfezs7O7N27t45ymHYl7gSNGTOGtWvXprOzM4ODg3np0iWS1FiV4P3796xatSrr168vd22ZMHTSzc2Nd+7c0SiP6dOnU19fnydOnCCZUIbpbdRUcowePZrTpk3TuBAeHh7OXLlycevWrST/FyA+f/6c9vb2yhJNZMJjPeld4uH4/fv3Z4sWLVijRg2NNOrAO2fOnMoxKT4vPj6ea9euZZ48eWhlZaU8ox0fH68E3p6ennRwcEi3I30+JjY2lhs3bqSrqyv9/f2TfARp2bJlDAwMlP7kF5KgW6RpGzZsoImJCYcNG8bZs2ezXr16dHV11ZgY7K+//mL+/PnZvn37dHOlUt1YnzhxgsuWLePEiROViw7Hjx9nmTJlWL16da3AW66Sa7ty5Qrt7Ow4btw4kgkdxxIlSmgF3pMmTWKmTJnS5SiKlJY4yDl37hy7dOlCIyMjZS4CtYcPHzI4OJj58+fnkydPJFhMQnBwMLNly8a//vqLK1asoLW1NatWrapMDPTy5UsuWLCA1apVY4ECBdLtpGkf2r9/P1UqFc+fP0/yf3Xj06dPmTt3bo0lw4S2du3aUaVSccGCBcrIibi4ODo7O7Nnz55Kuvfv3zMuLo5Vq1aVWd+TsGXLFpqYmLBkyZL08vKiiYmJ1gzv//77L8uXL093d3fGxMSk+3M3uV6/fs0NGzbQ3t6elSpV0ngtPj6eBw8eZMmSJZVVMsT/REVFccuWLcyUKRMbN26sbE8ceMtkc19Ogm6RZny4VvTly5fp5eXFmTNnKq9ny5aN+fPn1wq8Z82ale6G+65evZrZs2enj48Py5QpQ2NjY6WjGBYWxjJlyrB27drK2tJC29mzZzlgwAB26dKFJJVntBMH3tu2bVMCb7nL/W3UncU3b95oXAC6efMmO3bsSDc3N86dO1fjPeHh4Xz69Ol3zeeP4ty5c8yfPz8PHDhAMuHZOgMDAy5cuFBJExERwcaNGzMoKEjpMKWnSdPi4uKSDFLi4+NZsWJFBgQEaHS6X79+TQ8PD2XtWfFxvXr1ooGBAefPn6/UjWPHjqWHh4fSbqvVqFFDGaoqQWOC58+fc/DgwZwzZw7JhGUqg4KCaGFhofW8+4ULF5R1koW2xCtgnDp1SrkDGxMTww0bNtDFxYXVqlXTeo96kr/0Sl1uJ0+e5PLlyzlnzhzlEa64uDhu3ryZFhYWbNq0qfKe9NR+pDQJukWaMHfuXDo4OGh0fh48eMCOHTvy0aNHvHfvHl1dXdmhQweePn2ahQsXpqOjo1YHPb04deoUbWxsOG/ePJIJd2dUKhVHjBihBIiHDx+mh4cHGzRoIEP5kvD06VMGBgbSysqK9erVU7YnDrx9fHzo6enJHTt2kJTO4rdI/LhIxYoVWbJkSfr7+/PgwYMkyVu3brFTp050c3Pj/PnzdZnVH8aZM2dYsGBBkgnPyZqbm3PGjBkkyVevXnHr1q2Mj49nZGSkUv7pZTTQhxdxDx48yMmTJ3PChAnKRJMhISH08/Ojv78/jx8/znPnzrF///7Mli2bDJv8hMQXzBo3bsxs2bJx4cKFjI+P571799ihQwfmy5ePnTp14uLFi9mxY0dmzJhReexBJNy9NjExYb58+bh27Vple3h4OIOCgpgxY0YeP35chzn88axZs4ZWVlZ0cXGhmZmZcvHx/fv3XL9+PXPlyqU1fD89U7cJa9asob29Pb28vOjh4aExeV98fDw3b95Ma2tr1q5dW4e5/TlI0C3ShIcPH9LDw4OFChXi9evXle3qq+e//fYbg4KClOEsLVq0YI4cOejt7c3nz5+nu2Bo8+bNrFmzJsmEK7sODg5s27at8ro6yA4LC5PO4yds2bKFFStWpLW1Nbdv365sV3cqHzx4wAoVKkgZppDNmzfTwMCAffv25ejRoxkQEMBs2bIpF4+uXLnCrl270sbGRob3fiCpOu7YsWPMkiWL8ujDtGnTlNf279/P6tWrK7NGf+wzfkZjx46ln5+f0pZs2rSJGTJkYNmyZZkpUyZ6enqyR48ejI+P5/bt21m1alWqVCq6u7szV65cyqRV4uOWL1/OkiVLsn79+rS0tKSZmZlyEfz+/fucOnUq3dzcWLBgQfr6+spyQh+Ij49Xhuj/9ddfGq+Fh4ezUaNGVKlUsiTYZ6jrtLt379LNzY2zZs3i0aNHOXjwYKpUKo4fP55kQuC9ceNGZs6cmb/++qsus6wzST27vnfvXlpaWirn7oULF6hSqejk5KSMoFI/H58zZ06ZOO0bSdAtdE5dEURERLBYsWIsWLAgr127pvF62bJllSHAJNmhQwdOnjw53Q47HT9+PIsVK8b79+/T0dGRbdu2VcpxzZo1bN26dbofNvWhxEObE0/+c+jQIVaqVIn+/v7ctWuXsl19xzu93BlMaeqZ3smEc/jt27esVKmSxvOeZMK5bGNjo9zVOXv2LHv37q1x8S29S9xZ+nCZusaNG1OlUrFfv37KtujoaAYGBrJWrVrpcpKgc+fO0cTERFnnOCAgQBnu/ObNG44cOZLFixdnr169lPecPHmSly5dkknTkuHUqVPMmDEj582bx/DwcIaHh7N9+/Y0MDDg3LlzNY65V69eadS3QlOrVq1oZmbGbdu2aWx/8OABW7ZsycuXL+soZz+OnTt3cvr06ezcubPG9nHjxmkE3u/evePWrVs1+pfphfqcvHv3LufMmcNJkyZx/fr1nDVrFocNG6a8ljNnTrZp04aBgYG0s7Pj4cOHSSb0n2TE5LeToFvonLoyuHDhAtetW0eVSsVy5copne64uDh26dKF3t7enDZtGrt37047OzveuXNHl9n+Lj7WYT5//jy9vb1pbm7OFi1aaKTt1asXq1evLs8fJ6IOuLds2cJKlSqxaNGiLFu2LHfu3EmS3LNnD6tVq8YKFSpwz549Sb5XJN+UKVPYokULXrlyRdkWHR3NYsWKcezYscrfan5+fhrD/mTCv/9JfPxNnDiR9evXZ6NGjThz5kxGR0fz/PnzDAgIoJ2dHadOncqRI0eyYsWKzJ8/v1KO6SnwVj9veOnSJWbMmJHVq1dnxYoVlQnTyITJ5f744w8WLFhQ4xgVybN161bmzp1b665Xu3btaG5uzkWLFmlcdEvv1Ofw6dOnuWbNGq5YsULjomLTpk1pbm6uFXjLBd/k6dKlC1UqFQsWLKj1WMm4ceNoaGjI4cOH6yh3uqeu/8+ePUsnJycWKlSIFhYWyqN19+/f58uXL1myZEllxGRYWBhVKhUtLCwYFhamy+z/VCToFmnC2rVraWlpyV69erFatWq0t7dnwYIFlWe89+/fz6CgIDo7O7NgwYI//ZCrD+9Snzlzhhs2bFBmNY2KimKXLl3o5OTEIUOG8N27d7x+/Tr79etHKysrjQ6mSLB582aamZlxyJAhPHLkCMuWLaux/mloaChr1KjBYsWKcf/+/TrO7Y9t3rx5zJYtG7t27cqrV68q2ytXrkw/Pz/lb3Xg3atXL1auXPm75zOtSxxwDx8+nObm5uzatSvLlStHT09PBgQEMDo6mnfv3mW3bt2YK1cuVqpUie3bt0+Xk6apqcvt33//pY2NDVUqFdetW6eR5vnz5zQ2Nubs2bN1kMMf25o1a2hiYqKs5KCevfzGjRs0MzOjSqXikiVLdJnFNGf16tXMlCkTixUrRkNDQxYvXpxDhgxRXm/WrBmtrKy4YcMGHebyxzV48GDq6ekledwNHz6cVlZWjIiI0EHOdCtxwG1qaso+ffrw2bNnDAsLY4sWLWhnZ8fz588zLCyMRYsW5b///ksyYWWcoKAgNmnSREZbpCAJuoXOPXz4kC4uLhw5ciTJhKu7ly5doqenJz09PXnz5k2SCXcnnjx58tNXnCNGjGCXLl2UofPr1q2jsbEx8+bNS5VKxd9++40RERF89eoVO3fuzLx589LU1JRFihShm5vbT39B4kvFxsbyzZs3rFy5MocOHUoyYeizi4sLO3TooJF2y5YtDAoKShejKFLbsmXLaG9vz99++40XL14kmfD8WO7cuTXmHyATOpy//vor3717JyMLknD+/HnWrl2boaGhyrb169ezePHi/OWXX5Qh5y9fvtR4X3oLuNXHzq1btxgeHk4yYUZoKysrlitXTmMir6ioKBYtWlRjpnehLanzMS4ujoUKFWJAQIDG4w537txh69atNc55kfC4g42NDWfNmsU3b97w3r177N27N4sWLapxB7ZevXp0cHCQYbyfoD4eHz58yBs3bvD+/fvKa507d6aRkRFXrlyp9b6fvd/4KXfv3mWWLFk0JowlE/qW5ubmPHr0KNetW0dDQ0Pevn2b8fHxHDhwIOvWrSujzlKYBN1CJxI35K9evWKOHDmUNaXVr124cIHZsmVjhQoV0tUQwFmzZlGlUjE4OJhXrlyhr68v586dy4iICG7YsIEWFhZs3rw5nz59ynfv3vHu3btcunQpjx8/rqzNm16pr+rGx8drHGNv375lkSJFePHiRT5+/Jh2dnYagd/q1auVRlk6PN8mcbkvXbqU9vb27Ny5M2/evMnY2FjOmjWLuXLlYqlSpdi3b182btyYZmZmyhV2oWnu3LksUKAA8+XLpxE0xsTEcPHixfTw8ODRo0dJagbZ6e3ihXp/169fTx8fH/7111/KUNNLly7RwsKCvr6+XLZsGY8dO8bg4GCamZnJ3AGfoC7TAwcOcNCgQZw1a5YSTG/evJmFCxemv78/79y5w6tXr7J///4sXbq01rwD6d0///xDd3d3jUe+Hjx4wN9//52lSpXiw4cPNbaLpKmPx3Xr1rF48eJ0cHCgv7+/xnJW3bp1o5GREVevXq2rbKY5t27dYrFixVijRg1lcjQyYT4bS0tLnjp1ivHx8SxVqhRNTExYvHhxZsyYUZnBXKQcCbqFzixdupTNmjUjSbq6uvK3337TeD0qKoply5alSqVi6dKl08UVN3WjsmjRIqpUKvbs2ZNNmjTReD5u27ZtzJQpE1u0aKGMAhD/C7ivXLnCzp07s3bt2hw3bpzyesmSJdmhQwe6uLiwffv2SscwIiKCVatWlTteqWThwoW0t7dnp06deO/ePcbFxTEsLIy//PILAwICGBQUJAH3J9y5c4clSpSgSqXi9OnTNV57+vQpM2XKJEOk/9/69etpbGzMSZMmaa1pfP78eVpZWVGlUjEwMJA1a9aUGbWTQb3iQPny5WlmZsYqVaooQ6C3bdvGYsWK0djYmM7OzsyWLRtPnDih4xzr1q1btzhx4kQOHz6c69evJ5lQTjlz5lQe+1K3VdeuXaNKpeLWrVt1lt+07MOL5yS5Y8cOmpiYcOrUqbx58ybHjh1LlUrFpUuXKmm6d+9OlUqllL9IWOWmcuXKrFSpEi9evMjIyEhmzZpVY2LTyMhI/vnnn5wwYUK6utH1PUnQLXTi5s2bdHd354QJE0iSkyZNopeXF6dMmaKRrmPHjty1a9dPvWRT4kmOEk8utXz5cqpUKmbKlEl5pkbdAIWEhNDGxoZBQUESePN/ZXjmzBna2NiwVq1arF+/Pg0MDDhq1CiS5LRp05g1a1YWK1ZM473BwcF0d3f/qY+x70F9bF68eJF79+7lpk2blN9lyZIlzJ49Ozt16qTM06CW3oZAf8rHJjx78OABixcvzpIlS3Lz5s3K9ufPnzNfvnzpcnm1c+fOaVyIffDgAYsUKcKpU6eSTKhLnz17xrVr1yp3bK5cuUKVSsVmzZrJiJZPUJ/L9+/fZ7t27Thr1iySCbOW16hRg35+fhprS4eEhPDQoUO8e/euTvKbVpw9e5YODg4sXbo0XVxcaGpqyvnz5zMiIoJZsmRhz549NeZrefz4MQsVKqQ1eadIkPhmQ3x8PGNjY9m1a1cGBweTTFhazcHBQeuGDUn269dP1oX/wNWrV1mlShWWLVuWmTNn5u+//668JpP2fR8SdIvv7vTp0+zRowdbtmypdJru3r3Lzp07M3/+/GzdujWXLVvG9u3b09raWuuOxc/o7t27StC3Zs0aZd3OVatWUaVSsUePHlrLo23cuJFOTk7pfjha4olCTExMlAY5NjaWnTt3ZteuXUkmPAPWtm1bFixYkI0bN+bIkSPZtGlTWlpayjCqb6TupK9Zs4a5c+dm/vz56eXlRScnJ164cIHk/4aa//7773JnOwmJA+5///2X+/fvZ0REhDJJ1Z07d1ikSBHmz5+fv//+O+fOncsaNWrQzc0tXV24iI+P56JFi5g9e3aNZ9ifPXtGDw8Pzp8/nzExMRw0aBB9fHyYNWtWGhoaKs/DX7p0STrjyXD06FH++uuvLF26tMb5evbsWdasWZN+fn5cvny5DnOYtqgnqurbty9jYmJ45swZ5s+fn/ny5SNJrlixgiqVil27duXRo0f54MED9u3bl3Z2dumij/Olpk+fzsqVK/P9+/cadWO1atU4adIk/vfff7S3t2fbtm2V9mf16tVctWqVrrL8Q7h69SrLly9PR0dH7tu3T9me3h5H0hUJusV3FRkZyQYNGjBLliwsW7asxmv37t3jzJkzlYaqYMGC6SIYevXqFWvVqsXixYtz2rRpWkOl1EPN+/XrpzUZiNytSfCxiUKCgoLo5eXFPHnyMCgoiH/88Qdnz57NMmXKsGzZsmzevLkSFIpvc/DgQVpYWHDOnDkkyWPHjlGlUnHSpElKmqVLl9LY2Jh9+vRJF4+LJFfiDk9wcDBz5cpFGxsb5s2bl3/++afSKb979y69vb2pUqlYr149Dhw4UHlfertTob5IGR4ezqioKEZGRrJhw4bKcjg1a9bkpEmT+ODBA/r7+7NVq1bp6uLEt9q9ezc9PDxoamqqFVyfO3eOderUYeHChblmzRod5TDt+Fj7U758edrZ2SlLq+3Zs4f29vZ0dnZmrly5mDNnTmX1DJFAXRfOnz9faZvV67xHR0ezXbt2DAoKopOTE1u3bq2859WrV2zVqhVHjx4tbctnXLt2jZUrV2ZAQAAPHjyo6+ykKxJ0i+/u5MmTbNSokUYH/UPPnj3jq1evvnPOdGfHjh3Mnz8/9fX1OX78eJIJEyWpG6C///6bKpWKAwYMUJZpIeXqpFriiULUjcioUaNoamrKYcOGcc6cOXRzc6OHh4dGkJ3eApXUNGvWLKUTdPPmTebMmVNjdnj1sfrPP/9oLCOW3iW+izN8+HDa2dlx+/btJMm6devS3t6evXv3Vobu/vfffyxWrBhr1qypMZt5eqkL1OdsXFwcz5w5Q3Nzc65YsYIkefnyZa5atYpz587VaD9q1aqlrFwgku/QoUMsWbIkK1euzJ07d2q8durUKTZq1Egey2HS7c/IkSOpUqno5eXFihUrsnz58pwxYwZXrlzJbdu28cCBA1rrnIuEeuzt27e0trbmmjVrePv2bfr4+CgTHoaFhdHMzIyurq589OgRyYQ6ITg4mDlz5uS1a9d0mf0fxtWrVxkYGMiSJUvKOtzfkQTdIlWpO4LPnj3j8+fPlWeWr127xvr167NUqVIazyOmh1lPk3pu886dO3R1daWrqyvLly+vPKedeAmlxYsXU6VScejQoR999jM9U08UUqNGDbZu3ZpZs2ZVghcy4c6YSqXitGnTlG3pJVD5Htq3b8+6devy0aNHdHBw0Bj2t2zZMo01aQU1JvmJj4/n5cuXWbZsWWU96ZCQEGbMmJFVqlRhjhw52KdPHyXwvn37NosUKcIKFSpoPOOdHtWqVYtWVlZcu3at1kW0iIgIBgcH08bGRtaa/QT1eXrlyhUePHiQYWFhSlu8Z88elipVirVq1eKuXbs03pce2uvk+rD9sbGx4Zo1a/jo0SPu27ePM2fOpKurKx0cHOjr6ytt+Ce8f/+ev/zyC2vVqsX58+ezePHiLF++vBJ4q5e3qlixIgMCAlivXj1aWVnJcqlf6NKlS6xbt64skfodSdAtUo26Id+0aRO9vb3p5eVFV1dXLly4kDExMbx48SIbNmxIHx8fjeHU6cGlS5fYt29f3rhxg7GxsYyPj+fNmze5bds2+vn50dfXVyPwVlu7dq0Mh/6EK1eusGLFijQxMVFmLo+Pj+e7d+94//59enl5yTNfKUB9bt+9e1e5W7N+/Xr6+fnRxsZGueMdFxfH+Ph4dunSha1atZLHIf7f6tWrqVKpOHbsWGXbs2fPuGbNGkZGRvLgwYO0tbXljBkzSJI1a9ZUnl9Ul/f9+/fp4uLCGjVqKMMvf0bq4CTxBFSk5iiVhg0b0sLCgmvXrlUu7K5Zs4bNmzdnzpw5pTP+CYmfh3V0dGSOHDno6OhINzc35ULF7t276ePjw7p163Lbtm26zG6alrj9SXxuq0VGRvLw4cOyTF0yTJs2jXZ2drx+/Tr37t3LsmXLavSLjh8/zr59+7Jp06YcPXq0zLb9leTC2fclQbdIVdu2baOZmRnHjh3LGzdusGXLljQ2NlZm6zx79iybNGnC/PnzK0MEf3YxMTEsVqwYVSoVc+fOzS5dumjs+44dO+jr60s/Pz+lgRk7dqzSARefdv36dVaqVIlVqlTh/v37le0DBw6ks7Nzup9h91slXiu1aNGinD17NiMjI3nv3j2WLVuWDg4OynOeT58+ZXBwMLNmzaqs7ysSZtoeOXIkM2XKxNGjRyvb1etKd+zYkW3atFGeQe7cuTMLFCjADh06KBcyyISh5ulh9YL79++zXr163L17t8b2DwNvS0tLZVbtS5cucfr06Vqz5Qtthw8fprm5OefMmcNLly7x8OHDrFSpEm1tbZUAcffu3cyfPz8bN278U1/k+VaJ25/EayLLfAIfl3jEWeL/9/LyYuPGjUkm3LwpX748fX19lWNSnt0WPxoJukWqiI+P5/v37xkUFMQ+ffqQTOhourq6sl27dhppT548yTZt2vDWrVs6yKluqNdCDA0N5aBBg2hpacmgoCDOnj2bcXFx3LJlC2vUqMEcOXKwadOmVKlUPHv2rK6z/cNQD/ULCAjgqVOnOGbMGBobG8sdrxSyZcsWGhsbc+LEibx//76y/dq1a/Tx8WGBAgWYI0cO+vn50cHBQco9EfWd21evXnHChAnMmDGj1vrb9evXZ4MGDZSRAb/++is3b96sdEjj4uLS1XwEN27coLe3N6tVq6Y18c+Hgbe1tbUy8ZcM4U2emTNn0t/fX6MsIyMj6e/vTy8vLyW4OXToULpqp79W4vZHJqr6OPX5mXipVPJ/FyjGjRtHT09P5Zhbs2YN/f39NYaak/KYmPhxSNAtvlniCk9dWaq3lSxZknv37mVkZCSzZ8/Otm3bKmmXLFmiTHrxYaX7s9uzZw8tLS15/PhxkgkXJIYMGUIDAwOWKVOGM2bM4Jw5czh8+HD++uuvPH/+vI5z/ONRTxSSNWtWGhgY8MSJE7rO0g8vLi6OkZGRDAgI4IABAzReUw9Te/DgAXfv3s0//viDGzZskImWEklcV86aNYtdunShqamp1izvwcHBzJs3L6tVq8ZixYrR3d1dYwKx9OhjgYx6/V61/PnzM3/+/OlqIs5vNXToUGbLlk35W92Ob9++nc7OztL+fAWZqCp5bt68ycDAQM6ZM0frnL137x6trKzYv39/ZduGDRtYpEgRVqtWTUYPiB+OHoT4BiShUqkQEREBANDX18eBAwdw+fJlAECOHDkwfvx4eHh4oFatWpg6dSoA4O3bt1i1ahU2bdoEkjA0NNTZPuiCn58f2rRpg0mTJiE6Ohp2dna4dOkScuXKBRcXF6xduxbt27dHlixZsGjRIuTPn1/XWf7huLq6Yty4cShZsiROnz6NIkWK6DpLPyySAAA9PT1kzJgRd+7cgb29PQAgPj4eAJRz2NDQEOXKlcOAAQNQo0YNODo66ibTaZBKpQIADBgwAAMGDECxYsUwceJEBAUFYcCAARgzZgwAYMSIEahXrx4cHBxQpEgR/Pvvv8iQIQPi4uKgp5c+m21XV1dMmTIFKpUKf/zxBw4dOgQgoUwzZMiAt2/fon///ihZsiTWrl0Lc3NzHec47VCfo9HR0Um+XqNGDVhZWWHs2LF4//499PX1AQDW1taIj49HXFzcd8vrz8LV1RVjx45Fjhw5kD17dl1nJ81SH5MdOnRAlSpV0KdPH7x69QrR0dHIkSMHevfujbVr1+L8+fMAEo7VYcOGYfr06cpxKsQPQ8dBv/gJPHr0iBUrVuS4ceO4atUqqlQqhoSEkCRXrFjBXLly0dPTU+M96rVo0/PzdqtWraK3tzdjY2PZqlUrZsuWTbmjcO3aNU6dOlXuMKQAee4rZSxYsIAdOnRgfHw8c+XKxZ49eyqvqe++Xr9+ndOnT1eWchHaHj9+zOLFi3PevHnKtnv37nHQoEE0MTHhxIkTk3yf3NVJkNQd75iYGHbu3JkqlYpnzpzRcQ7TpqSei1ePvIiMjGT79u1Zrlw5ZY6BV69esX///sybN6+cz99AJqpKnnPnzrFt27Z0dnZmzpw52aNHD547d44nTpxgjhw5NFZ7EOJHJUG3+Gbh4eHs0qUL8+TJQyMjI/7999/Ka5GRkQwODmaBAgVYtmxZduvWjXXr1mXmzJnlOU+Svr6+1NPTY/bs2aWzKNIcdaf8/v37dHZ25vDhw0kmzCxrY2PDWbNmaaTv0aMHfX19+fz58++d1TTrw+HgT58+ZZYsWTQmUCMTlg1UT7Aoy6t9WuLAe8+ePezduzdNTEykTfmEjz0Xrx6a/+jRI7Zv357u7u40Nzent7e3LMMkvqvo6Gg+f/6cPXv2pI+PD/X19Tlo0CBmyZKFXl5e8siI+OGpyP8fNyjEV+D/Dy/fsWMHatSoAVtbW3Tt2hXdunVT0rx69Qq7d+/G8uXL8fr1a7i6uqJdu3Zwd3fXYc51S11uW7duRbdu3TBmzBjUqlVL2S5EWhEWFoaNGzfi+fPn+Ouvv6Cvr487d+5gypQpWLRoEerWrYvs2bPj1q1bWLt2Lfbt2wcvLy9dZzvNiYqKgomJCQCgTZs2eP78OUaNGgVXV1clTbt27XD27FlYWVlhy5YtUhd8wrVr19C9e3ccOnQIb968QVhYGAoXLqzrbKVp165dQ5cuXUASAwcOhI+PDwDg/fv3MDAwwOvXrxEdHY1JkyahTJkyyJMnD5ydnXWca5EePX36FJs3b8bChQtx/PhxGBgY4Nq1a7CxsdF11oT4ahJ0i6+mDhCjoqJw7949XL16Ffv27cP+/ftRq1Yt9OvXT9dZTPMePXqE0qVLo379+vjjjz90nR0hNLx69Qrdu3fHypUrUahQIezdu1d5LTw8HDt37sTkyZNhYmKCrFmzYsiQIShQoIDuMpxGzZkzB6NHj8aRI0dgY2ODFStWYPDgwahZsyZatmwJNzc3REZGolmzZvjll1/QpEkTAJCLcJ9x5coV9O7dGyNHjpR5L5LpY4F3XFwc4uLiMHjwYFy9ehVLlixRLhIJ8b18WOc9fvwYt2/fRpYsWeDi4qLDnAnx7SToFl8l8Z3auXPnYsyYMXB1dUV4eDhGjhyJo0eP4pdffkGfPn0AAEuWLEGRIkWQN29e6Uh+YMmSJWjfvj12796N4sWL6zo7QmicoydOnMCsWbOwYMECLF68GA0aNNBIGx8fDz09PcTExMDIyEgX2U3zrly5gpo1a8LCwgIhISGwsrLCjBkzMH36dBgYGMDe3h4PHjxAXFwcTp48iQwZMkg9mUzqu7Qi+ZIKvN+9e4cePXpg+vTpOHHiBAoVKqTrbAohxE9Fgm7x1dauXYsWLVqgQ4cO+PXXX5WhfQ8fPlTu6nh5ecHGxgajRo3CtWvXkCtXLh3nOu3577//0LhxYyxevBg5cuTQdXZEOqYO9D4M+M6ePYtJkyYhLCwMw4cPR926dQEAsbGxygyyEiQmUF+EUFOXy40bN1CrVi3o6+tj165dsLKywr59+3Du3DkcPXoUDg4OGDZsGAwMDBAXF4cMGTLocC/Ezy5x4N23b19s27YNU6dOxaFDhyTgFkKIVCBBt/gqly9fhr+/PwYOHIj27dsr22/dugVnZ2dERkZiypQpCA0NRVRUFGbPno2CBQvqLsNpXHR0NIyNjXWdDZGOqYPD/fv3Y8OGDYiNjYW7uzs6dOgAADh58iRmzJiBw4cPY/jw4fjll190nOO0bcWKFQgKCgLwv7K9fv06atWqBSMjI+zYsQPW1tZa70t8IUOI1CTPxQshxPcjQbf4Krt370aPHj1w+vRpPHv2DKtXr8bKlStx7Ngx1K9fH3/++SfMzMxAElFRUbC0tNR1loUQn7Fu3Tq0aNEC1atXx/v373HhwgWUKFECc+fOBZAw1HzOnDnYsGEDZs2ahZo1a+o4x2nHu3fvEBsbC1NTU9y/fx8uLi4oV64ctm/fDuB/gfeZM2dQrlw5eHt7Y/78+bC1tdVxzkV6Js/FCyHE9yFBt/gqV69ehbu7Oxo3bowzZ87AxcUFefPmRYECBdC0aVNs3LgR1apV03U2hRDJdOLECdSrVw99+/ZFu3btcPnyZfj6+uLly5cIDAzEmjVrAABHjhzBsmXL0LVrV3lc5P+tWbMGy5Ytw61bt1CnTh30798fBw4cQMOGDeHh4YGtW7cqaZ89e4YqVarg+PHjaNasGRYsWKDDnAshz8ULIcT3oPf5JCK9U1+XCQ8PR1RUFF69eoU8efJg06ZNePbsGapXr44///wTI0aMQKNGjeDj44Po6Ggd51oIkZT4+HgACee1+v8B4NKlS6hUqRLatWuHu3fvomrVqggMDMT06dOxdetWtG7dGgBQsmRJjB07VgLu/zdr1iy0bNkSjo6O8PX1xaBBgzB37lyUKVMGy5cvx5kzZ1C5cmUlvampKQoUKIAzZ84oIwiE0CUJuIUQIvXJnW6RLOvXr0f//v2hUqng4+ODjh07wsvLS+v5w/79+2PRokU4dOgQcubMqcMcCyE+pJ7k6+rVq5g6dSr+++8/lCpVCj179gQAHD9+HIULF0ZgYCCyZs2Kv//+G0+fPkWpUqVw/fp11K9fH8uWLZNJ0/7f3Llz0bFjR6xcuRK1atUCADRo0ADe3t5o2LAhMmfOjMOHD6N169YwMTFBzZo1sXfvXrx//x4HDx6Enp6eTJomhBBCpANyp1t81pUrV9CxY0e0adMGNWvWxP3799GmTRscOXJECbg3bNiAhg0bYt68edi4caME3EKkMeqA++zZsyhdujTu378PIyMjBAcHY8yYMQCAYsWK4cGDB7h//z5atmwJANDT00OJEiWwaNEijBgxAgAk4Aawd+9etG3bFgMGDFACbiBhxMDcuXPh4uKC8uXL49q1awgJCUGOHDkQFhYGa2tr7Nu3D3p6eoiPj5eAWwghhEgHZIpUkaTEd7Lev3+POnXq4PfffweQ0NmcMmUKOnXqhOnTp6NEiRLIkCEDMmbMiD179iBv3rw6zLkQ4kPqgPvcuXPw9vZGt27dMGLECMTFxSFLliwIDw9XZtA3MjJCdHQ0Vq9ejYIFC2Ls2LG4cuUKJkyYABsbG13vSpphb2+P0qVL4+TJkzhx4gSKFi2KOnXq4M2bNxg+fDgsLS3Rs2dPjBs3DtWqVcPmzZs1VimQWcqFEEKI9EOGlwst6oB79+7d2L9/P16+fInw8HAsX75cSaMOvP/77z9MmTIFJUqUQExMDIyMjHSYcyHEx9y7dw+FCxdGuXLlsHLlSmV7/fr1cfnyZcTExMDJyQl16tTB69evMXbsWGTIkAHv3r3Dtm3bZO3eJKjXOs6QIQNevHiBqKgorFmzBk5OTgCAU6dOoWjRoli7dq3G3XAZni+EEEKkLzK8XGhRqVTYtGkTqlWrhi1btmDTpk1Yu3Ytjh8/rqTx8/PD77//DnNzc/Tp0wfR0dEwNDTUYa6FEJ8SFxcHZ2dnxMTE4NChQwCA0aNHY9OmTahTpw569uyJ27dv46+//kKRIkUQGhqKadOm4fjx4xJwf4SrqyumTJmCmJgYnD9/Hn379oWTkxPi4+OVCSjz5s2rNUJAAm4hhBAifZE73ULLy5cvMXv2bGTOnBmtW7fG8ePHMXr0aBw8eBCbN29GsWLFlLQHDx6Ek5MTcuTIocMcCyGSQ31n1tDQEFmzZsXGjRuxePFiVKpUCQBw584dODs7Y9asWWjTpo2Oc/vjuHHjBjp16gQ9PT3069cPZcqUAQBUr14dr1+/xq5du6CnJ9e4hRBCiPRKegFCw7lz55A1a1YsWbIE2bNnB5AwudKwYcNQtmxZBAYG4uTJk0r60qVLS8AtxA/C1dUVkydPRlRUFJYuXYrevXujUqVKIIn3799DX18fHh4eyJw5M4D/LRcoPi1XrlyYOnUqSCoXKOvUqYOrV69ix44dyqRpQgghhEifJOhOpz7sAKr/zpo1Kxo3box///0Xz58/V17Pnz8/Bg8eDH9/f5QoUQKnT5/+rvkVQqSMPHnyYMaMGShTpgx27dqFAwcOQKVSwcDAALNmzcKrV69QokQJADIM+kuoh5qrVCqUL18eFy5cwPnz52FgYIDY2Fi50y2EEEKkYzK8PB27fPky/v77b7Rp0wY5c+ZUZtINDw9Hnz59sHr1aoSGhqJUqVLKe86dO4dJkyahb9++yJMnj66yLoT4Ruqh5iQxatQohIaGYvDgwTh8+LA8w/0NLl++jOnTp2PChAnQ19eXWcqFEEIIIUF3evXu3TuULl0aJ06cQK5cuRAYGIgSJUqgfv36AIA3b96gdevW2LhxI3bs2AEfHx+N98qkaUL8+K5du4bu3bvj2LFjeP78OcLCwlCkSBFdZ+unIQG3EEIIIQAJutO1sWPHKs9wHjx4EJMmTUKVKlVQpkwZtG/fHpGRkejduzf++ecfbNy4EX5+frrOshAihV25cgW9e/fGyJEjkT9/fl1nRwghhBDipyNBdzq2d+9e1KpVCzt37kTRokXx8OFDzJ49GyNHjkThwoXRtGlTFChQAHPmzMHu3btx/fp1GBsb6zrbQogU9v79exgYGOg6G0IIIYQQPyWZ2SUd8/PzQ5s2bTBp0iRER0fDzs4Oly5dgouLC9zd3bF69WqUK1cOtra2OHLkiATcQvykJOAWQgghhEg98rBZOleiRAlMmDABBgYGaN26Nfbu3Ytdu3Yhf/78uHbtGnbu3ImyZcvKsmBCCCGEEEII8RVkeLlA2bJlcfDgQdja2mLr1q3w8vLSdZaEEEIIIYQQ4qcgw8vTMfX1lj59+iB37tyYNm0avLy8INdhhBBCCCGEECJlSNCdjqlUKgBAkSJFEB8fj5MnT2psF0IIIYQQQgjxbSToFsiWLRsGDx6MiRMn4tixY7rOjhBCCCGEEEL8NCToFgCAcuXKoVixYsiePbuusyKEEEIIIYQQPw2ZSE0ooqOjZVkwIYQQQgghhEhBEnQLIYQQQgghhBCpRIaXCyGEEEIIIYQQqUSCbiGEEEIIIYQQIpVI0C2EEEIIIYQQQqQSCbqFEEIIIYQQQohUIkG3EEIIIYQQQgiRSiToFkIIIYQQQgghUokE3UIIIYQQQgghRCqRoFsIIYQQQgghhEglEnQLIYQQQgghhBCpRIJuIYQQQgghhBAilUjQLYQQQgghhBBCpBIJuoUQQgghhBBCiFQiQbcQQgghhBBCCJFKJOgWQgghhBBCCCFSiQTdQgghhBBCCCFEKkl3QffChQuhUqmS/NezZ0/cvn0bKpUKCxcu1HVWv8qrV6/Qu3dvVKpUCTY2NlCpVBgyZMg3f66fn59STnp6esiYMSNy586NevXqYfXq1YiPj9d6j5OTE5o3b/7N3/2pPPn5+aXa5wOpvw+fMnLkSKxfv/6r3//gwQMMGTIEZ86c+erP2Lt3L1QqFfbu3fvVn5HYkCFDoFKp8PTp0xT5vC/RvHlzmJubfzbd9ziu0uJ3pyQ/Pz8UKFAg1b8jcVm9ffsWQ4YMSbFjNTUkdT5t3br1o3W0SqVC586dv0/mkulrj9GvrUt0dU6o87t69eoU+8yLFy9iyJAhuH37dop9pkjat9ZBKdV3SqvUfeEf5VjUZd8hKc2bN4eTk9Nn0zk5OSEwMDD1M5SE5LQfP3rM86PR13UGdGXBggVwd3fX2JY9e3Zky5YNYWFhyJUrl45y9m0iIiIwe/ZseHl5oVatWpg7d26KfbaLiwuWLl0KAHjz5g1u3bqF9evXo169eihTpgw2bdoES0tLJf26detgYWGRYt+vC7rch5EjR6Ju3bqoVavWV73/wYMHGDp0KJycnFCwYMEUzdvPbPr06enyu380H5bV27dvMXToUABIsxcuChcujLCwMOTLl0/ZtnXrVkybNu2n7uADSe97cvxM58TFixcxdOhQ+Pn5JavDLoQQqcnOzu6Hjnl+NOk26C5QoACKFi2a5GslS5b8zrlJ8PbtW5iamn7TZzg6OuL58+fKFcGUDLpNTEy0yqZ169ZYsGABWrZsibZt22LFihXKa4UKFUqx79aVn2EfxJf50qDgZ/nuH82PWFYWFhY6a1907Wv3/Uf8nYUQ4kdgZGSUbtskXUh3w8s/52NDLTZs2ABPT08YGRnBxcUFkydPVoa7fO69gPZQJfV7T506hbp16yJz5szKlSaSmD59OgoWLAgTExNkzpwZdevWxc2bNz+bf/UQ8O+pRYsWqFq1KlatWoU7d+4o2z8cmh0fH4/hw4fDzc0NJiYmyJQpEzw9PTF58mQljbpcTp8+jV9++QUWFhawtLRE48aN8eTJk8/mZejQoShRogSsrKxgYWGBwoULY968eSCppGnVqhWsrKzw9u1brfeXL18e+fPn/+g+qIccLl++HP3790f27NlhYWGBChUq4MqVKxqfRRIjR46Eo6MjjI2NUbRoUYSGhiZruKRKpcKbN2/w999/K79p4vecP38eNWvWRObMmWFsbIyCBQvi77//1shnsWLFACT8PurPUB+DJ06cQP369eHk5AQTExM4OTmhQYMGGr9fUhYvXgyVSoWwsDCt14YNGwYDAwM8ePDgk58BAPfu3fvs7xsfH48///wT7u7uMDIyQtasWdG0aVPcv39f6/Pmz58PLy8vGBsbw8rKCrVr18alS5c+m49Dhw4hS5YsCAwMxJs3bwBoD2dVn9fjxo3DhAkT4OzsDHNzc3h7e+PIkSNanzlnzhzkyZMHRkZGyJcvH5YtW5bsoWjf+t1JCQ8PR7t27ZAjRw4YGhrC2dkZQ4cORWxsrEa65Jw7asuWLYO3tzfMzc1hbm6OggULYt68eVrpjh8/jjJlysDU1BQuLi4YPXp0ko+ifCg+Ph5Tp05V6sBMmTKhZMmS2LhxY5Jldfv2bdjY2Cj7oT7emzdvjgMHDijn7IcWLVoElUqF48ePfzZPidWrV0+jngCA6tWrQ6VSYdWqVcq2U6dOQaVSYdOmTQC0h1g3b94c06ZNA/C/ujupIZ+LFy9G3rx5YWpqCi8vL2zevPmzeYyOjkaPHj1QsGBBWFpawsrKCt7e3tiwYUOy9pEk/vzzT6X+Kly4MLZt26aR5smTJzA0NMTAgQO13n/58mWoVCpMmTIlyX0HgJs3b6J+/frInj07jIyMkC1bNvj7+2s8EpNUffns2TN07NgR9vb2MDQ0hIuLC/r374+YmBiNdOrhlV9TfmrR0dHo3r07bG1tYWJigrJly+L06dNa6U6cOIEaNWrAysoKxsbGKFSoEFauXKm8vnDhQtSrVw8AUK5cOeW3XrhwIaZNmwY9PT08fvxYST9+/HioVCp06tRJ2RYfH4/MmTOjR48eyrZ3795h+PDhSj1pY2ODFi1aJNlerlixAt7e3jAzM4O5uTkCAgK09kX9GM7169dRtWpVmJubw8HBAT169NAq3w/16tULlpaWiIuLU7b99ttvUKlUGDt2rLItIiICenp6mDp1qrItMjISPXv2hLOzMwwNDWFvb4/ff/9dqZfVvqV/tG7dOpiamqJ169ZK/RcZGYk2bdrA2toa5ubmqFy5Mq5evar13uvXr6NFixZwdXWFqakp7O3tUb16dfz7779KmtevXyNTpkxo166d1vtv376NDBkyaJRDUpJbD6uHLYeEhKBw4cIwMTGBu7s75s+fr/WZR44cgY+PD4yNjZE9e3b069cP79+//2x5bdmyRat+XLNmDVQqFapVq6aR1tPTE3Xq1FH+/pLfaefOnfD394eFhQVMTU3h4+ODXbt2fTZ/ly9fhouLC0qUKKGcO8lp7760XV24cCHc3NxgZGSEvHnzYtGiRZ/N24fWrVsHT09PGBsbw8XFRakXE7t79y4aN26MrFmzKt81fvx4rTYzufXfh0giODgYBgYGmDNnjkZZJI5b1P3wCxcuoEGDBrC0tES2bNnQsmVLvHz5UuMzX7x4ofSpzc3NUa1aNdy8eVMr5nny5Anatm0LBwcHpZ7y8fHBzp07v7Akf3BMZxYsWEAAPHLkCN+/f6/xjyRv3bpFAFywYIHynm3btlFPT49+fn5ct24dV61axRIlStDJyYmJizCp96oB4ODBg5W/Bw8eTAB0dHRknz59GBoayvXr15Mk27RpQwMDA/bo0YMhISFctmwZ3d3dmS1bNoaHhyd7X588eaL1vUmVRVL5/VDZsmWZP3/+j74+c+ZMAuDixYuVbY6OjmzWrJny96hRo5ghQwYOHjyYu3btYkhICCdNmsQhQ4YoaRKXS69evbh9+3ZOmDCBZmZmLFSoEN+9e6eRp7Jly2rko3nz5pw3bx5DQ0MZGhrKP/74gyYmJhw6dKiS5uzZswTAOXPmaLz3woULBMBp06Z9dB/27NlDAHRycmKjRo24ZcsWLl++nDlz5qSrqytjY2OVtP369SMAtm3bliEhIZwzZw5z5sxJOzs7rXx/KCwsjCYmJqxatSrDwsIYFhbGCxcukCQvX77MjBkzMleuXFy0aBG3bNnCBg0aEADHjBlDknz58qXy+w4YMED5jHv37pEkV61axUGDBnHdunXct28f//nnH5YtW5Y2NjZ88uSJ1v7u2bOHJBkTE0NbW1s2atRII7/v379n9uzZWa9evU/u15f8vm3btiUAdu7cmSEhIZw5cyZtbGzo4OCgkceRI0cSABs0aMAtW7Zw0aJFdHFxoaWlJa9evaqka9asGc3MzJS/V6xYQSMjI3bo0EHjd/vwuFKf105OTqxcuTLXr1/P9evX08PDg5kzZ+aLFy+UtLNmzSIA1qlTh5s3b+bSpUuZJ08eOjo60tHR8ZNl863fnZSHDx/SwcGBjo6OnDVrFnfu3Mk//viDRkZGbN68uUba5Jw7JDlw4EAC4C+//MJVq1Zxx44dnDBhAgcOHKixH9bW1nR1deXMmTMZGhrKjh07EgD//vvvz5ZDkyZNqFKp2Lp1a27YsIHbtm3jiBEjOHny5CTLKjo6miEhIQTAVq1aKcf79evXSZKFChWij4+P1vcUK1aMxYoV+2x+PqSu7x48eEAy4fjPmDEjTUxM2KZNGyXdmDFjqK+vz8jISJLa59P169dZt25dAlDyHBYWxujoaJJUfvvixYtz5cqV3Lp1K/38/Kivr88bN258Mo8vXrxg8+bNuXjxYu7evZshISHs2bMn9fT0kvUbqM/VVq1acdu2bZw9ezbt7e1pa2urcYzWrl2bDg4OjIuL03h/7969aWhoyKdPnya57yTp5ubG3Llzc/Hixdy3bx/XrFnDHj16aKT58JyIioqip6cnzczMOG7cOO7YsYMDBw6kvr4+q1atqpGHbyk/dX4dHBxYs2ZNbtq0iUuWLGHu3LlpYWGh8f7du3fT0NCQZcqU4YoVKxgSEsLmzZtrtK+PHz9W6qpp06Ypv/Xjx495+fJlAuCyZcuUz6xcuTJNTEzo6uqqbDt69CgBcOvWrSTJuLg4Vq5cmWZmZhw6dChDQ0M5d+5c2tvbM1++fHz79q3y3hEjRlClUrFly5bcvHkz165dS29vb5qZmSltC5lQTxoaGjJv3rwcN24cd+7cyUGDBlGlUmnVBR9Sn4OHDx9Wtrm7u9PExIQVK1ZUtq1YsYIAePHiRZLkmzdvWLBgQWbJkoUTJkzgzp07OXnyZFpaWrJ8+fKMj49X3pvc/tGHfZYJEyYwQ4YM/OOPP5Rt8fHxLFeuHI2MjDhixAju2LGDgwcPpouLi1bfad++fezRowdXr17Nffv2cd26daxVqxZNTEx4+fJlJV23bt1oZmamVTf36tWLxsbGyvnwMcmthx0dHZkjRw7my5ePixYt4vbt21mvXj0C4L59+5R0Fy5coKmpKfPly8fly5dzw4YNDAgIYM6cOQmAt27d+mheXr16RQMDA44cOVLZ1r59e5qYmNDMzExprx89ekSVSsXp06cr6ZL7Oy1evJgqlYq1atXi2rVruWnTJgYGBjJDhgzcuXOnkk5dH6nb/r179zJz5sysWbMm37x5QzL57d2XtKvqftSHdYD6ez7H0dGR9vb2zJkzJ+fPn8+tW7eyUaNGBMCxY8cq6R4/fkx7e3va2Nhw5syZDAkJYefOnQmAHTp0UNJ9af3XqVMnkgltZP369ZkxY0Zu27ZNqywSxwHqsnZzc+OgQYMYGhrKCRMm0MjIiC1atFDSxcXFsXTp0jQ2Nubo0aO5Y8cODh06lK6urlrnT0BAAG1sbDh79mzu3buX69ev56BBg/jPP/98tgx/Juk26E7q3/v375M8AIsVK0YHBwfGxMQo2169ekVra+tvDroHDRqkkS4sLIwAOH78eI3t9+7do4mJCXv37p3sff1c0P33338zQ4YMyeqAfS7o3rZtm0bQR2oHrIGBgSxYsOAnv0ddLt26ddPYvnTpUgLgkiVLNPL0qeA1Li6O79+/57Bhw2htba3RcJctW1YrLx06dKCFhQVfvXr10X1Qd8Q+rNxWrlypdJxJ8tmzZzQyMmJQUJBGOvXv+7mgmyTNzMw0vlutfv36NDIy4t27dzW2V6lShaampkqDcfz48WRfVImNjeXr169pZmamEdgk1VEePHgwDQ0N+ejRI2WbuhOVuLFPSnJ/30uXLhEAO3bsqJFO3ekMDg4mST5//ly5OJHY3bt3aWRkxIYNGyrbEgfdo0ePZoYMGTSOV7WPBb4eHh4awfmxY8cIgMuXLyeZcLzZ2tqyRIkSGp93584dGhgYfFPQ/bnv/ph27drR3Nycd+7c0dg+btw4AtDobCf2sXPn5s2bzJAhg9ZFl6T2AwCPHj2qsT1fvnwMCAj45Hv3799PAOzfv/9nvyNxWX2qvlPX+6dPn1a2qcswOfXfh65fv04AXLRoEUny4MGDBMDevXvT2dlZSVexYkWWKlVK+Tup86lTp04a7UhiAJgtWzYlaCfJ8PBw6unpcdSoUV+U59jYWL5//56tWrVioUKFPpn2+fPnNDY2Zu3atTW2Hzp0SKv+2rhxIwFwx44dGt+VPXt21qlTR9n24b4/ffqUADhp0qRP5uXD31l9wWPlypUa6caMGaOVj28pP3V+CxcurNF23L59mwYGBmzdurWyzd3dnYUKFVIu3qsFBgbSzs5OuSCxatUqrd9fLUeOHGzZsiXJhIubZmZm7NOnDwEo5++IESNoYGDA169fkySXL19OAFyzZo3GZ6nrfnUQdPfuXerr6/O3337TSPfq1Sva2try119/VbY1a9YsyfKtWrUq3dzcPllmb968oaGhIYcNG0aSvH//PgGwT58+NDExUS4mtWnThtmzZ1feN2rUKOrp6fH48eMan7d69WqNiwxf0j9S91ni4uLYuXNnGhoaavQfyP/1WxK3eWRCOX+q70QmHOPv3r2jq6urRnt248YN6unpceLEicq2qKgoWltbawQsyfGpPoyjoyONjY016vaoqChaWVmxXbt2yragoCCamJhoBLqxsbF0d3f/bNBNkqVLl2b58uWVv3Pnzs1evXpRT09Pae/V7bf6Indyf6c3b97QysqK1atX19pvLy8vFi9eXNmWOOhevHgxDQ0N2aVLF42Lfclt776kTc+ePftH64DkBt0qlYpnzpzR2F6xYkVaWFgoFwz69u2bZJvZoUMHqlQqXrlyheSX13+dOnViREQES5cuTXt7e618fCro/vPPPzXSduzYkcbGxkpZbNmyhQA4Y8YMjXSjRo3SOn/Mzc35+++/f664fnrpdnj5okWLcPz4cY1/+vraj7i/efMGJ06cQK1atWBoaKhsNzc3R/Xq1b85H4mH4wDA5s2boVKp0LhxY8TGxir/bG1t4eXllaIz8zZt2hSxsbFo2rTpN38WkxiC+qHixYvj7Nmz6NixI7Zv347IyMiPpm3UqJHG37/++iv09fWxZ8+eT37H7t27UaFCBVhaWiJDhgwwMDDAoEGDEBERoTF0r2vXrjhz5gwOHToEIGGI2eLFi9GsWbNkzXBdo0YNjb89PT0BQBmefeTIEcTExODXX3/VSFeyZMlvnkBn9+7d8Pf3h4ODg8b25s2b4+3bt0kO/f7Q69ev0adPH+TOnRv6+vrQ19eHubk53rx589lh2R06dAAAZXgSAPz111/w8PCAr69vsvbhc7+v+r8fzhxfvHhx5M2bVxl6FhYWhqioKK10Dg4OKF++vNYQNZJo164dBg8ejGXLlqF3797Jyi8AVKtWDRkyZFD+/vA3v3LlCsLDw7V+85w5c8LHxyfZ3/M13/0xmzdvRrly5ZA9e3aN+qRKlSoAgH379ilpk3PuhIaGIi4uTmPI68fY2tqiePHiGts8PT0/m2f1EObkfEdyNWjQAFmzZlWGcgPA1KlTYWNjg6CgoC/+vFy5csHJyUkZGhcaGgoPDw80btwYt27dwo0bNxATE4ODBw+iQoUK35T3cuXKIWPGjMrf2bJlQ9asWT9bjgCwatUq+Pj4wNzcHPr6+jAwMMC8efM+e46HhYUhOjpa6zwtVaoUHB0dNbZVqVIFtra2WLBggbJt+/btePDgAVq2bPnR77CyskKuXLkwduxYTJgwAadPn07Wowe7d++GmZkZ6tatq7FdXQd8eM5/S/kBQMOGDTUe2XJ0dESpUqWUOur69eu4fPmyUlaJz7OqVavi4cOHWo8eJcXf3185ng4fPoy3b9+ie/fuyJIlC0JDQwEkDMNVDw8HEs7vTJkyoXr16hrfW7BgQdja2ir9he3btyttfeJ0xsbGKFu2rFa/QqVSafVvknPumpqawtvbW+O8yJQpE3r16oV3797h4MGDyn4kPi82b96MAgUKoGDBghr5CwgI0Hgk4Uv7R9HR0ahVqxaWLl2KHTt2aB3P6t/ww+0NGzbU2rfY2FiMHDkS+fLlg6GhIfT19WFoaIhr165pnE8uLi4IDAzE9OnTlX7RsmXLEBERkayVCJLbhwGAggULImfOnMrfxsbGyJMnj8bvtGfPHvj7+yNbtmzKtgwZMiS73vP398ehQ4cQFRWFO3fu4Pr166hfvz4KFiyocVzmzJkTrq6uAJL/Ox0+fBjPnj1Ds2bNNNLFx8ejcuXKOH78uNbjBSNGjEDz5s0xevRoTJ48GXp6/wtjvqS9A5LXpj948OCjdUBy5c+fH15eXhrbGjZsiMjISJw6dQpAwu+eL18+rTazefPmIIndu3cr6b6k/rt16xa8vb0RGRmJI0eOaOXjU5Lq50ZHRyvHobo8P+zzNGjQQOuzihcvjoULF2L48OE4cuRIsh5v+Bml26A7b968KFq0qMa/pDx//hwkNSostaS2fSk7OzuNvx89eqR8n4GBgca/I0eOpJnlEj6krqSyZ8/+0TT9+vXDuHHjcOTIEVSpUgXW1tbw9/fHiRMntNLa2tpq/K2vrw9ra2tERER89POPHTuGSpUqAUgICA8dOoTjx4+jf//+AICoqCglbc2aNeHk5KR0whcuXIg3b94ku6NvbW2t8beRkZHGd6jzmRrHTUREhNZxA/yv7D9VRmoNGzbEX3/9hdatW2P79u04duwYjh8/DhsbG41ySkq2bNkQFBSEWbNmIS4uDufOncOBAwe+aGmjz/2+6v9+bD+/NJ3au3fvsGLFCuTPn19piJNLl7/55777Yx49eoRNmzZp1SXq55HV9Ulyzx31c6I5cuT44jyr8/25PD958gQZMmTQOka+hZGREdq1a4dly5bhxYsXePLkCVauXInWrVsrZfml/P39lQ7Ozp07UbFiRXh4eCBbtmzYuXOn0lH91qD7a8tx7dq1+PXXX2Fvb48lS5YgLCwMx48fR8uWLREdHf3J96qP5aR+g6TO3SZNmmDdunV48eIFgIT61M7ODgEBAR/9DpVKhV27diEgIAB//vknChcuDBsbG3Tp0gWvXr36ZN5sbW215i7JmjUr9PX1tc75ry0/tY+Vgfp7Hj16BADo2bOn1nnWsWNHAEhWu12hQgXcvXsX165dw86dO1GoUCFkzZoV5cuXx86dOxEVFYXDhw9rHE+PHj3CixcvYGhoqPXd4eHhyveq81isWDGtdCtWrNDKn6mpKYyNjbXK7HPHjXo/jhw5gjdv3mDnzp0oX748rK2tUaRIEezcuRO3bt3CrVu3tPbj3LlzWnnLmDEjSGrsx5f0jx4/fozt27fD29s7ySApIiJCaXsSS+o37969OwYOHIhatWph06ZNOHr0KI4fPw4vLy+tY6lr1664du2aEpROmzYN3t7eKFy48CfL7kv6MEDyjm31+fKh5NavFSpUUC4ghoaGIkuWLChUqBAqVKigXFzZtWuX1u+ZnN9JfVzWrVtXK92YMWNAEs+ePdPIz5IlS2Bvb4/69etr5TW57d3Hyu9jbfq3lN/n3p+4L5Ocft2X1n/Hjh3D1atXERQUlKx2O7HklI++vj6srKw00iXV31mxYgWaNWuGuXPnwtvbG1ZWVmjatCnCw8O/KE8/unQ7e3lyZc6cGSqVSqkcEvvwYFE3Uh9OZvCpIOjDEydLlixQqVQ4cOBAkp3Br+0gpraNGzdCpVJ98k6nvr4+unfvju7du+PFixfYuXMngoODERAQgHv37mnM3B4eHg57e3vl79jYWERERCTZyKj9888/MDAwwObNmzU6DEmtda2np4dOnTohODgY48ePx/Tp0+Hv7w83N7cv3POkqfP5sePmW+52W1tb4+HDh1rb1ROYZcmS5ZPvf/nyJTZv3ozBgwejb9++yvaYmBitBu5junbtisWLF2PDhg0ICQlBpkyZtO4WfMrnfl/1fx8+fKjVUDx48EDZx8TpPpQ4nZqRkRH27NmDgIAAVKhQASEhIcicOXOy8/0pn/vNdSFLlizw9PTEiBEjknxd3aAn99xRT1Z2//59rZEWKcXGxgZxcXEIDw9PshPytTp06IDRo0dj/vz5iI6ORmxsLNq3b//Vn+fv74958+bh2LFjOHr0KAYMGAAgYTLG0NBQ3LlzB+bm5jqbGXbJkiVwdnbGihUrNNqZz022A/zvWE7quE2q/mrRogXGjh2Lf/75B0FBQdi4cSN+//13jbtISXF0dFQm4Lt69SpWrlyJIUOG4N27d5g5c+ZH83b06FGQ1Nivx48fIzY29rP135f6WBmoy0j9ff369cMvv/yS5Gckp13x9/cHkHABJzQ0FBUrVlS2DxgwAPv370dMTIxGcJMlSxZYW1sjJCQkyc9U3+FX53H16tVaIxVSmr+/PwYOHIj9+/dj165dGDx4sLJ9x44dcHZ2Vv5Wy5IlC0xMTJKcBCxx/r+0f5QzZ05MmDABtWvXxi+//IJVq1Zp1G/W1tZJ9i2S+s2XLFmCpk2bYuTIkRrbnz59ikyZMmlsK1++PAoUKIC//voL5ubmOHXqFJYsWZLkviX2JX2Y5LK2tv7oMZwcJUqUgLm5OXbu3Inbt2/D398fKpUK/v7+GD9+PI4fP467d+9qHZfJ+Z3Uv+vUqVM/Wk9+GMCFhIQgKCgIZcqUwa5duzSO5+S2d8n1uXowuT71/sR9nuT06760/gsKCoKtrS369++P+Ph4pZ1KCerz59mzZxqBd1L7myVLFkyaNAmTJk3C3bt3sXHjRvTt2xePHz/+aP31M0q3d7qTy8zMDEWLFsX69evx7t07Zfvr16+1ZkDNli0bjI2Nce7cOY3tyZ0tFgACAwNBEv/995/WnfiiRYvCw8Pj23YoFSxYsADbtm1DgwYNNIY6fUqmTJlQt25ddOrUCc+ePdOarVe9HrjaypUrERsb+8lZv1UqFfT19TU6elFRUVi8eHGS6Vu3bg1DQ0M0atQIV65c+aI7tZ9TokQJGBkZaSyhBiQMO0/usMaP3Y3x9/fH7t27tWYJX7RoEUxNTZXG62N3Q1UqFUhqNYZz587VmHX2U4oUKYJSpUphzJgxWLp0KZo3b64MeUyOz/2+5cuXBwCtjsrx48dx6dIlpcPm7e0NExMTrXT3799XhuF/qFChQti3bx/u378PPz8/rSF7X8vNzQ22trYaMxYDCTOSHj58OEW+40sFBgbi/PnzyJUrV5L1iboTktxzp1KlSsiQIQNmzJiRanlWj0D40u/43N1/Ozs71KtXD9OnT8fMmTNRvXr1ZNdXSVF3PgcOHAg9PT3lgmOFChWwZ88ehIaGwtfXFwYGBt+U76+lUqlgaGio0TELDw9PVntUsmRJGBsba52nhw8fTrL+yps3L0qUKIEFCxZg2bJliImJQYsWLb4ov3ny5MGAAQPg4eGhDLlMir+/P16/fq0ViKhnFE7qnP8Wy5cv13h86s6dOzh8+LBSV7m5ucHV1RVnz55N8hwrWrSoEvx+6re2s7NDvnz5sGbNGpw8eVIJuitWrIgnT55gwoQJsLCwUFalABLO74iICMTFxSX5vepgPyAgAPr6+rhx48ZH85hSihcvDgsLC0yaNAnh4eHKflSoUAGnT5/GypUrkS9fPo0AKDAwEDdu3IC1tXWSeVNf5Pma/lGlSpWwfft27N+/X2OVCiDh0QNAuz1atmyZ1ueoVCqtNnPLli3477//kiyHLl26YMuWLejXrx+yZcumzFz/KV/ah0mOcuXKYdeuXRoXg+Pi4rT6Jh9jYGAAX19fhIaGYvfu3crvWaZMGejr62PAgAFKEK6W3N/Jx8cHmTJlwsWLFz96XCZ+rBNIuFCnDubLlCmDa9euaXxvctq75HJzc4Odnd1H64DkunDhAs6ePauxbdmyZciYMaMy+sHf3x8XL17UqvvUK2yoj9Wvqf8GDBiASZMmYdCgQejXr1+y8/05ZcuWBQCtY+mff/755Pty5syJzp07o2LFip+s639Gcqc7GYYNG4Zq1aohICAAXbt2RVxcHMaOHQtzc3ONO4PqZ1jmz5+PXLlywcvLC8eOHUuyAv8YHx8ftG3bFi1atMCJEyfg6+sLMzMzPHz4EAcPHoSHh4fyTO3HbNu2DW/evFGG6F28eBGrV68GAFStWlW5o7xo0SK0bNkS8+fPT9Zz3VFRUcpyClFRUbh58ybWr1+PzZs3o2zZsh+9M6FWvXp1ZX10Gxsb3LlzB5MmTYKjo6PyLJDa2rVroa+vj4oVK+LChQsYOHAgvLy8tJ4dSaxatWqYMGECGjZsiLZt2yIiIgLjxo376OiATJkyoWnTppgxYwYcHR1T5Bl9NSsrK3Tv3h2jRo1C5syZUbt2bdy/fx9Dhw6FnZ2dxnNIH+Ph4YG9e/di06ZNsLOzQ8aMGeHm5obBgwcrzy4NGjQIVlZWWLp0KbZs2YI///wTlpaWABKeOzUxMcHSpUuRN29emJubI3v27MiePTt8fX0xduxYZMmSBU5OTti3bx/mzZundcX+U7p27YqgoCCoVCplGGVyfe73dXNzQ9u2bTF16lTo6emhSpUquH37NgYOHAgHBwd069YNQMJvOHDgQAQHB6Np06Zo0KABIiIiMHToUBgbGyt3WT6UN29eHDhwABUqVICvry927tz5xUOvPqSnp4ehQ4eiXbt2qFu3Llq2bIkXL1580W+e0oYNG4bQ0FCUKlUKXbp0gZubG6Kjo3H79m1s3boVM2fORI4cOZJ97jg5OSE4OBh//PEHoqKilOVELl68iKdPn2Lo0KHfnOcyZcqgSZMmGD58OB49eoTAwEAYGRnh9OnTMDU1xW+//Zbk+zJmzAhHR0ds2LAB/v7+sLKyUo5vta5du6JEiRIAoPEMstrt27fh7OyMZs2aJbn0Y2JZs2ZFgQIFsGPHDpQrV06pVytUqIBnz57h2bNnmDBhwmf3V90BHTNmDKpUqYIMGTLA09NTq7P5pQIDA7F27Vp07NgRdevWxb179/DHH3/Azs5Oo6OalMyZM6Nnz54YPnw4WrdujXr16uHevXsYMmTIR4dVtmzZEu3atcODBw9QqlSpz97dPXfuHDp37ox69erB1dUVhoaG2L17N86dO6cxAudDTZs2xbRp09CsWTPcvn0bHh4eOHjwIEaOHImqVat+83D+Dz1+/Bi1a9dGmzZt8PLlSwwePBjGxsYanddZs2ahSpUqCAgIQPPmzWFvb49nz57h0qVLOHXqlLKMXIECBQAAs2fPRsaMGWFsbAxnZ2flbpe/vz+mTp0KExMTZR4IZ2dnODs7Y8eOHahRo4bG3DP169fH0qVLUbVqVXTt2hXFixeHgYEB7t+/jz179qBmzZqoXbs2nJycMGzYMPTv3x83b95E5cqVkTlzZjx69AjHjh2DmZlZipy7QMLzwmXLlsWmTZvg7OysLIXq4+MDIyMj7Nq1C126dNF4z++//441a9bA19cX3bp1g6enJ+Lj43H37l3s2LEDPXr0QIkSJb66f1S6dGns2rULlStXRqVKlbB161ZYWlqiUqVK8PX1Re/evfHmzRsULVoUhw4dSjLIDQwMxMKFC+Hu7g5PT0+cPHkSY8eO/Wi70bhxY/Tr1w/79+/HgAEDknU+f2kfJjkGDBiAjRs3onz58hg0aBBMTU0xbdo0rWelP8Xf319Zpk59fpmYmKBUqVLYsWMHPD09kTVrViV9cn8nc3NzTJ06Fc2aNcOzZ89Qt25dZM2aFU+ePMHZs2fx5MmTJC++2tnZYd++fQgICFAuCBQoUCDZ7V1y6enp4Y8//kDr1q2VOuDFixefrAeTkj17dtSoUQNDhgyBnZ0dlixZgtDQUIwZM0ZpN7p164ZFixahWrVqGDZsGBwdHbFlyxZMnz4dHTp0QJ48eQB8ff3XtWtXmJubo23btnj9+jWmTJnyzcsLV65cGT4+PujRowciIyNRpEgRhIWFKRcA1H2ely9foly5cmjYsCHc3d2RMWNGHD9+HCEhIR8dHfTT+t4zt+maehbbD2fJVPvYDOTr1q2jh4cHDQ0NmTNnTo4ePZpdunRh5syZNdK9fPmSrVu3ZrZs2WhmZsbq1avz9u3bH529PPHSR4nNnz+fJUqUoJmZGU1MTJgrVy42bdqUJ06c+Ow+Ojo6fnSG9sQzVX7pkmGJP8fMzIwuLi6sW7cuV61apbVcjDofiWffHj9+PEuVKsUsWbIo5diqVSvevn1bq1xOnjzJ6tWr09zcnBkzZmSDBg00ZstW5+nDWcDnz59PNzc3GhkZ0cXFhaNGjeK8efM+Okvn3r17CYCjR4/+aFkmNXv5qlWrNNIlddzEx8dz+PDhzJEjBw0NDenp6cnNmzfTy8tLa1bgpJw5c4Y+Pj40NTXVmjH433//ZfXq1WlpaUlDQ0N6eXkl+TsuX76c7u7uNDAw0DgG79+/zzp16jBz5szMmDEjK1euzPPnz390f5OabTcmJoZGRkasXLnyZ/dF7Ut+37i4OI4ZM4Z58uShgYEBs2TJwsaNGyvLniU2d+5cenp60tDQkJaWlqxZs6bWzNwfLhmmLgd3d3c6OTkpSwB9bAbxxMt7qH14XpPk7NmzmTt3bhoaGjJPnjycP38+a9as+dkZo1Piu5Py5MkTdunShc7OzjQwMKCVlRWLFCnC/v37K7Mgk1927ixatIjFihWjsbExzc3NWahQIY3j72OrHTRr1ixZM77GxcVx4sSJLFCggPKbent7c9OmTRrf8eH5v3PnThYqVIhGRkYEkOTs/05OTsybN2+S3/vvv/8SAPv27fvZPJIJywMB4IgRIzS2q5dMOXfunMb2pM6nmJgYtm7dmjY2NlSpVBrljURLviT24Xn6MaNHj6aTkxONjIyYN29ezpkzRzkHPyc+Pp6jRo2ig4ODUn9t2rTpo6tGvHz5kiYmJgS0l2NMat8fPXrE5s2b093dnWZmZjQ3N6enpycnTpz4ySX8SDIiIoLt27ennZ0d9fX16ejoyH79+imzY6t9S/mp87t48WJ26dKFNjY2NDIyYpkyZZJsh8+ePctff/2VWbNmpYGBAW1tbVm+fHnOnDlTI92kSZPo7OzMDBkyaLUZGzZsIACN5bXIhNm+AXDKlCla3/v+/XuOGzeOXl5eyvno7u7Odu3a8dq1axpp169fz3LlytHCwoJGRkZ0dHRk3bp1NZZmSqqeJJns44YkJ0+eTAAay+eRCTM2A+DGjRu13vP69WsOGDCAbm5uyjnv4eHBbt26aS2Vmpz+UVJ10Pnz52lra8vChQsrfa8XL16wZcuWzJQpE01NTVmxYkVlCbfE9evz58/ZqlUrZs2alaampixdujQPHDjwyVVUmjdvTn19fd6/fz9Z5abet+TUw46OjqxWrZrW+5PKz6FDh1iyZEkaGRnR1taWvXr14uzZs5M1ezn5v2VWEy9fR/5vlvfu3bt/dF+S04/dt28fq1WrRisrKxoYGNDe3p7VqlXT6Gcl1Wd+8eIFfXx8aGVlpfTpk9PefWm7OnfuXLq6umq06clty9S/0+rVq5k/f34aGhrSycmJEyZM0Ep7584dNmzYkNbW1jQwMKCbmxvHjh2r1b/+lvpv+fLl1NfXZ4sWLRgXF/fJ2cs/jE/UMUPiY+bZs2ds0aKFxvlz5MgRjVUBoqOj2b59e3p6etLCwoImJiZ0c3Pj4MGDldnb0wsVmYxpp4WW9+/fo2DBgrC3t8eOHTt0nZ2fxpAhQzB06FA8efIkxZ/NS0qPHj0wY8YM3Lt375PPi6eUW7duwd3dHYMHD0ZwcHCqf19q2rRpE2rUqIEtW7agatWqus5OmvXixQvkyZMHtWrVwuzZs3WdnXTt3Llz8PLywrRp05IcnTF9+nT07t0bN27cSJGJMoUQ6dO7d+/g5OSE0qVLaz1yJMTPbNmyZWjUqBEOHTr0RbO8pwcyvDyZWrVqhYoVK8LOzg7h4eGYOXMmLl26hMmTJ+s6a+IrHDlyBFevXsX06dPRrl27VAm4z549i+XLl6NUqVKwsLDAlStX8Oeff8LCwgKtWrVK8e/7Xi5evIg7d+6gR48eKFiw4BfPAv4zCw8Px4gRI1CuXDlYW1vjzp07mDhxIl69eoWuXbvqOnvp1o0bN3Dnzh0EBwfDzs5Oa4k5tT179qBLly4ScAshvsqTJ09w5coVLFiwAI8ePfrkoxJC/OiWL1+O//77Dx4eHtDT08ORI0cwduxY+Pr6SsCdBAm6k+nVq1fo2bMnnjx5AgMDAxQuXBhbt25N8efHxPfh7e0NU1NTBAYGYvjw4anyHWZmZjhx4gTmzZuHFy9ewNLSEn5+fhgxYsQP3anv2LEjDh06hMKFC+Pvv//+5ueCfiZGRka4ffs2OnbsiGfPnikT282cOVNZtkR8f3/88QcWL16MvHnzYtWqVRorJSSmfvZWCCG+xpYtW9CiRQvY2dlh+vTpn10mTIgfWcaMGfHPP/9g+PDhePPmjXJRO7X61T86GV4uhBBCCCGEEEKkElkyTAghhBBCCCGESCUSdAshhBBCCCGEEKlEgm4hhBBCCCGEECKVSNAthBBCCCGEEEKkEgm6hRBCCCGEEEKIVCJBtxBCCCGEEEIIkUok6BZCCCGEEEIIIVKJBN1CCCGEEEIIIUQqkaBbCCGEEEIIIYRIJf8HbWfGSaVaALcAAAAASUVORK5CYII=",
      "text/plain": [
       "<Figure size 1000x600 with 1 Axes>"
      ]
     },
     "metadata": {},
     "output_type": "display_data"
    }
   ],
   "source": [
    "import matplotlib.pyplot as plt\n",
    "\n",
    "cities = [city.capitalize() for city in countrys.keys()]\n",
    "weekdays_data = [countrys[city]['weekdays_bookings'] for city in countrys.keys()]  \n",
    "weekends_data = [countrys[city]['weekend_bookings'] for city in countrys.keys()] \n",
    "total_data = [countrys[city]['total_bookings'] for city in countrys.keys()]\n",
    "\n",
    "\n",
    "fig, ax = plt.subplots(figsize=(10, 6))  \n",
    "\n",
    "\n",
    "bars_weekdays = ax.bar(cities, weekdays_data, color='salmon', label='Weekdays Bookings')\n",
    "\n",
    "\n",
    "bars_weekends = ax.bar(cities, weekends_data, bottom=weekdays_data, color='turquoise', label='Weekend Bookings')\n",
    "\n",
    "ax.set_ylabel('Number of Bookings')\n",
    "ax.set_title('Bookings for All Cities', fontdict = {'fontsize' : 20})\n",
    "\n",
    "\n",
    "plt.xticks(rotation=45)\n",
    "\n",
    "txt=\"Figure 1: Displaying totaly booking in each city, with a dvision between weekday and weekend bookings\"\n",
    "plt.figtext(0.5, -0.02, txt, wrap=True, horizontalalignment='center', fontsize=12)\n",
    "\n",
    "\n",
    "ax.legend()\n",
    "\n",
    "for i, bar in enumerate(bars_weekdays):\n",
    "    total_height = bar.get_height() + bars_weekends[i].get_height()\n",
    "    ax.text(bar.get_x() + bar.get_width() / 2, total_height, str(total_data[i]),\n",
    "            ha='center', va='bottom', fontsize=10, color='black')\n",
    "\n",
    "plt.tight_layout() \n",
    "plt.show()\n",
    "\n"
   ]
  },
  {
   "cell_type": "markdown",
   "id": "17cd8601-5046-44b9-b96a-a14faa0e1fe5",
   "metadata": {},
   "source": [
    "### 2. Which city has the biggest proportion of superhosts?"
   ]
  },
  {
   "cell_type": "code",
   "execution_count": 39,
   "id": "6a5c8722-9c71-49b8-930a-175c710fbd96",
   "metadata": {},
   "outputs": [
    {
     "name": "stdout",
     "output_type": "stream",
     "text": [
      "The proporiton of superhosts in amsterdam is 0.2841346153846154\n",
      "The proporiton of superhosts in athens is 0.42859848484848484\n",
      "The proporiton of superhosts in berlin is 0.2572463768115942\n",
      "The proporiton of superhosts in barcelona is 0.1814331097776209\n",
      "The proporiton of superhosts in budapest is 0.3789159622078568\n",
      "The proporiton of superhosts in lisbon is 0.21395106715252474\n",
      "The proporiton of superhosts in london is 0.1574101871309917\n",
      "The proporiton of superhosts in rome is 0.32668660684612827\n",
      "The proporiton of superhosts in vienna is 0.28413910093299405\n",
      "The proporiton of superhosts in paris is 0.14069976076555024\n"
     ]
    }
   ],
   "source": [
    "def proportion_superhosts(place):\n",
    "    number_of_hosts = countrys[place]['total_bookings']\n",
    "    number_of_superhosts = compiled_data.query(\"host_is_superhost == True and city == @place\").shape[0]\n",
    "    proportion_of_superhosts = number_of_superhosts / number_of_hosts \n",
    "    return proportion_of_superhosts\n",
    "\n",
    "for place in countrys: \n",
    "    proportion_of_superhosts = proportion_superhosts(place)\n",
    "    print (f'The proporiton of superhosts in {place} is {proportion_of_superhosts}')\n",
    "    countrys[place]['superhosts_proportion'] = proportion_of_superhosts"
   ]
  },
  {
   "cell_type": "code",
   "execution_count": 40,
   "id": "910e4869-00d6-4df5-b245-112f96a2ca3d",
   "metadata": {},
   "outputs": [
    {
     "name": "stdout",
     "output_type": "stream",
     "text": [
      "The city with the maximum superhosts proportion is athens with a value of 0.42859848484848484.\n"
     ]
    }
   ],
   "source": [
    "#### Finding the max value \n",
    "\n",
    "countries_df = pd.DataFrame(countrys)\n",
    "countries_df = countries_df.transpose()\n",
    "\n",
    "max_proporiton = countries_df['superhosts_proportion'].max()\n",
    "city_with_max_value = countries_df['superhosts_proportion'].idxmax()\n",
    "print(f\"The city with the maximum superhosts proportion is {city_with_max_value} with a value of {max_proporiton}.\")"
   ]
  },
  {
   "cell_type": "code",
   "execution_count": 41,
   "id": "0240f453-c0e1-4e12-a8f6-b1245e7a5206",
   "metadata": {},
   "outputs": [
    {
     "data": {
      "image/png": "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",
      "text/plain": [
       "<Figure size 800x600 with 1 Axes>"
      ]
     },
     "metadata": {},
     "output_type": "display_data"
    }
   ],
   "source": [
    "# Displaying this visually \n",
    "\n",
    "superhost_data = [countrys[city]['superhosts_proportion'] for city in countrys.keys()]  \n",
    "\n",
    "sorted_superhost_data = sorted(\n",
    "    [(city, countrys[city]['superhosts_proportion']) for city in countrys.keys()],\n",
    "    key=lambda x: x[1], reverse=True\n",
    ")\n",
    "\n",
    "# Unzip the sorted data\n",
    "sorted_cities, sorted_data = zip(*sorted_superhost_data)\n",
    "fig, ax = plt.subplots(figsize=(8, 6))  \n",
    "\n",
    "sorted_cities = [city.capitalize() for city in sorted_cities]\n",
    "\n",
    "colors = ['salmon' if city != 'Athens' else 'darkorange' for city in sorted_cities]\n",
    "\n",
    "ax.barh(sorted_cities, sorted_data, height=0.5, color=colors, align='center')\n",
    "\n",
    "\n",
    "ax.set_xlabel('Proportion of Superhosts')\n",
    "ax.set_title('Proportion of Superhosts per City', fontdict = {'fontsize' : 20})\n",
    "\n",
    "ax.set_xlim(left=0)\n",
    "\n",
    "ax.spines['top'].set_visible(False)\n",
    "ax.spines['right'].set_visible(False)\n",
    "ax.spines['bottom'].set_visible(True)\n",
    "ax.spines['left'].set_visible(True)\n",
    "\n",
    "plt.tight_layout() \n",
    "plt.show()\n"
   ]
  },
  {
   "cell_type": "markdown",
   "id": "dbf2e9e2-f303-416e-ab83-9752ac96e4ab",
   "metadata": {},
   "source": [
    "### 3. Which cities have listings with more than four rooms?\n",
    "\n",
    "In the data set we are only given the number of bedrooms, rahter than the total number of rooms in a let. Therefore, I will assume this question refers to the number of bedrooms in a given property."
   ]
  },
  {
   "cell_type": "code",
   "execution_count": 42,
   "id": "91379526-fae2-4a7c-b779-d3e4e42aefa3",
   "metadata": {},
   "outputs": [
    {
     "name": "stdout",
     "output_type": "stream",
     "text": [
      "['price', 'room_type', 'room_shared', 'room_private', 'person_capacity', 'host_is_superhost', 'multi', 'biz', 'cleanliness_rating', 'guest_satisfaction_overall', 'bedrooms', 'dist', 'metro_dist', 'attr_index', 'attr_index_norm', 'rest_index', 'rest_index_norm', 'lng', 'lat', 'city', 'week_period', 'country']\n",
      "The number of lets with more than 4 bedrooms in amsterdam is 4\n",
      "The number of lets with more than 4 bedrooms in athens is 0\n",
      "The number of lets with more than 4 bedrooms in berlin is 2\n",
      "The number of lets with more than 4 bedrooms in barcelona is 2\n",
      "The number of lets with more than 4 bedrooms in budapest is 0\n",
      "The number of lets with more than 4 bedrooms in lisbon is 10\n",
      "The number of lets with more than 4 bedrooms in london is 5\n",
      "The number of lets with more than 4 bedrooms in rome is 1\n",
      "The number of lets with more than 4 bedrooms in vienna is 0\n",
      "The number of lets with more than 4 bedrooms in paris is 2\n"
     ]
    },
    {
     "data": {
      "image/png": "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",
      "text/plain": [
       "<Figure size 800x500 with 1 Axes>"
      ]
     },
     "metadata": {},
     "output_type": "display_data"
    }
   ],
   "source": [
    "print(list(compiled_data))\n",
    "\n",
    "\n",
    "for place in countrys: \n",
    "    more_than_four_rooms = compiled_data.query(\"bedrooms > 4 and city == @place\").shape[0]\n",
    "    \n",
    "    print (f'The number of lets with more than 4 bedrooms in {place} is { more_than_four_rooms}')\n",
    "    countrys[place]['more_than_four_rooms'] =  more_than_four_rooms\n",
    "\n",
    "\n",
    "# Displaying this visually \n",
    "\n",
    "room_data = [countrys[city]['more_than_four_rooms'] for city in countrys.keys()]  \n",
    "\n",
    "sorted_room_data = sorted(\n",
    "    [(city, countrys[city]['more_than_four_rooms']) for city in countrys.keys()],\n",
    "    key=lambda x: x[1], reverse=True\n",
    ")\n",
    "\n",
    "sorted_room_data = [item for item in sorted_room_data if item[1] > 0]\n",
    "\n",
    "# Unzip the sorted data\n",
    "sorted_cities, sorted_room_data = zip(*sorted_room_data)\n",
    "fig, ax = plt.subplots(figsize=(8, 5))  \n",
    "\n",
    "sorted_cities = [city.capitalize() for city in sorted_cities]\n",
    "\n",
    "\n",
    "ax.barh(sorted_cities, sorted_room_data, height=0.5, color='r', align='center')\n",
    "\n",
    "\n",
    "ax.set_xlabel('Number of properties with more than 4 rooms.')\n",
    "ax.set_title('Properties with over 4 rooms per city', fontdict = {'fontsize' : 20})\n",
    "\n",
    "ax.set_xlim(left=0)\n",
    "\n",
    "ax.spines['top'].set_visible(False)\n",
    "ax.spines['right'].set_visible(False)\n",
    "ax.spines['bottom'].set_visible(True)\n",
    "ax.spines['left'].set_visible(True)\n",
    "\n",
    "plt.tight_layout() \n",
    "plt.show()\n"
   ]
  },
  {
   "cell_type": "markdown",
   "id": "dce2536b-b886-4050-9a0f-7bcca5422e41",
   "metadata": {},
   "source": [
    "### 4. Which city has the most entire home/apt type listings?"
   ]
  },
  {
   "cell_type": "code",
   "execution_count": 43,
   "id": "2c6cb121-d150-4e4c-887d-bd69613bea07",
   "metadata": {},
   "outputs": [
    {
     "data": {
      "image/png": "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",
      "text/plain": [
       "<Figure size 800x500 with 1 Axes>"
      ]
     },
     "metadata": {},
     "output_type": "display_data"
    }
   ],
   "source": [
    "for place in countrys: \n",
    "    home_listings = compiled_data.query(\"room_type == 'Entire home/apt' and city == @place\").shape[0]\n",
    "    \n",
    "    # print (f'The number of entire home/apt lets {place} is {home_listings}')\n",
    "    countrys[place]['home_listings'] =  home_listings\n",
    "\n",
    "\n",
    "# Displaying this visually \n",
    "\n",
    "home_data = [countrys[city]['home_listings'] for city in countrys.keys()]  \n",
    "\n",
    "sorted_home_data = sorted(\n",
    "    [(city, countrys[city]['home_listings']) for city in countrys.keys()],\n",
    "    key=lambda x: x[1], reverse=True\n",
    ")\n",
    "\n",
    "# Unzip the sorted data\n",
    "sorted_cities, sorted_home_data = zip(*sorted_home_data)\n",
    "fig, ax = plt.subplots(figsize=(8, 5))  \n",
    "\n",
    "sorted_cities = [city.capitalize() for city in sorted_cities]\n",
    "\n",
    "\n",
    "bars_homes = ax.bar(sorted_cities, sorted_home_data, color='r')\n",
    "\n",
    "\n",
    "ax.set_xlabel('Number of entire home/apt lets')\n",
    "ax.set_title('Number of entire home/apt lets per city', fontdict = {'fontsize' : 16})\n",
    "\n",
    "\n",
    "ax.spines['top'].set_visible(False)\n",
    "ax.spines['right'].set_visible(False)\n",
    "ax.spines['bottom'].set_visible(True)\n",
    "ax.spines['left'].set_visible(True) \n",
    "\n",
    "plt.xticks(rotation=45) \n",
    "plt.tight_layout() \n",
    "plt.show()\n"
   ]
  },
  {
   "cell_type": "markdown",
   "id": "5fb7ffbb-43c2-418c-891b-664f50bd8eaf",
   "metadata": {},
   "source": [
    "Rome has the most entire home/apt listings with 5561 individual listitngs. "
   ]
  },
  {
   "cell_type": "markdown",
   "id": "23e47234-276f-43c3-baad-69cecd662b6b",
   "metadata": {},
   "source": [
    "### 5. Are ratings typically high across listings, or is there a wide variation?"
   ]
  },
  {
   "cell_type": "markdown",
   "id": "601553cf-0515-45bb-89d4-8216050be669",
   "metadata": {},
   "source": [
    "There are two different ratings: cleanliness and overall guest satistfaction. Therefore to look at the overall listings, I will produce two box plots to show the variation of each group.\n",
    "\n",
    "Cleanliness was rated between 0 and 10, Overall Guest Satisfaction between 0 and 100."
   ]
  },
  {
   "cell_type": "code",
   "execution_count": 44,
   "id": "23f1867d-e30e-4967-9eac-17b0bbe91af3",
   "metadata": {},
   "outputs": [
    {
     "data": {
      "image/png": "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",
      "text/plain": [
       "<Figure size 1200x600 with 2 Axes>"
      ]
     },
     "metadata": {},
     "output_type": "display_data"
    }
   ],
   "source": [
    "fig, axes = plt.subplots(1, 2, figsize=(12, 6))\n",
    "\n",
    "compiled_data.boxplot(column='cleanliness_rating', ax=axes[0])\n",
    "axes[0].set_title('Cleanliness Rating')\n",
    "axes[0].set_ylabel('Ratings')\n",
    "axes[1].set_xlabel('')\n",
    "\n",
    "compiled_data.boxplot(column='guest_satisfaction_overall', ax=axes[1])\n",
    "axes[1].set_title('Guest Satisfaction Overall')\n",
    "axes[0].set_xlabel('')\n",
    "\n",
    "fig.suptitle('Boxplots for Cleanliness Rating and Guest Satisfaction', fontsize=16)\n",
    "\n",
    "plt.tight_layout()\n",
    "\n",
    "plt.show()"
   ]
  },
  {
   "cell_type": "markdown",
   "id": "5d639fe7-1c7a-4b99-8092-caff9d600378",
   "metadata": {},
   "source": [
    "It seems that cleanliness is generall rated highly, with a IQR between 9-10. Guest Satisfaction is simmilarly higly rated. To visualise this positive skew better, I am going to produce historgrams of each data set."
   ]
  },
  {
   "cell_type": "code",
   "execution_count": 45,
   "id": "600f6095-98b9-4acb-8595-7938e5cb0c52",
   "metadata": {},
   "outputs": [
    {
     "data": {
      "image/png": "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",
      "text/plain": [
       "<Figure size 1400x600 with 2 Axes>"
=======
   "execution_count": 9,
   "id": "b0830dca-1af7-4fb8-8c46-b7e17e72da5a",
   "metadata": {},
   "outputs": [
    {
     "data": {
      "text/html": [
       "<div>\n",
       "<style scoped>\n",
       "    .dataframe tbody tr th:only-of-type {\n",
       "        vertical-align: middle;\n",
       "    }\n",
       "\n",
       "    .dataframe tbody tr th {\n",
       "        vertical-align: top;\n",
       "    }\n",
       "\n",
       "    .dataframe thead th {\n",
       "        text-align: right;\n",
       "    }\n",
       "</style>\n",
       "<table border=\"1\" class=\"dataframe\">\n",
       "  <thead>\n",
       "    <tr style=\"text-align: right;\">\n",
       "      <th></th>\n",
       "      <th>price</th>\n",
       "      <th>room_type</th>\n",
       "      <th>room_shared</th>\n",
       "      <th>room_private</th>\n",
       "      <th>person_capacity</th>\n",
       "      <th>host_is_superhost</th>\n",
       "      <th>multi</th>\n",
       "      <th>biz</th>\n",
       "      <th>cleanliness_rating</th>\n",
       "      <th>guest_satisfaction_overall</th>\n",
       "      <th>...</th>\n",
       "      <th>metro_dist</th>\n",
       "      <th>attr_index</th>\n",
       "      <th>attr_index_norm</th>\n",
       "      <th>rest_index</th>\n",
       "      <th>rest_index_norm</th>\n",
       "      <th>lng</th>\n",
       "      <th>lat</th>\n",
       "      <th>city</th>\n",
       "      <th>week_period</th>\n",
       "      <th>country</th>\n",
       "    </tr>\n",
       "  </thead>\n",
       "  <tbody>\n",
       "    <tr>\n",
       "      <th>0</th>\n",
       "      <td>194.033698</td>\n",
       "      <td>Private room</td>\n",
       "      <td>False</td>\n",
       "      <td>True</td>\n",
       "      <td>2</td>\n",
       "      <td>False</td>\n",
       "      <td>1</td>\n",
       "      <td>0</td>\n",
       "      <td>10</td>\n",
       "      <td>93</td>\n",
       "      <td>...</td>\n",
       "      <td>2.539380</td>\n",
       "      <td>78.690379</td>\n",
       "      <td>4.166708</td>\n",
       "      <td>98.253896</td>\n",
       "      <td>6.846473</td>\n",
       "      <td>4.90569</td>\n",
       "      <td>52.41772</td>\n",
       "      <td>amsterdam</td>\n",
       "      <td>weekdays</td>\n",
       "      <td>netherlands</td>\n",
       "    </tr>\n",
       "    <tr>\n",
       "      <th>1</th>\n",
       "      <td>344.245776</td>\n",
       "      <td>Private room</td>\n",
       "      <td>False</td>\n",
       "      <td>True</td>\n",
       "      <td>4</td>\n",
       "      <td>False</td>\n",
       "      <td>0</td>\n",
       "      <td>0</td>\n",
       "      <td>8</td>\n",
       "      <td>85</td>\n",
       "      <td>...</td>\n",
       "      <td>0.239404</td>\n",
       "      <td>631.176378</td>\n",
       "      <td>33.421209</td>\n",
       "      <td>837.280757</td>\n",
       "      <td>58.342928</td>\n",
       "      <td>4.90005</td>\n",
       "      <td>52.37432</td>\n",
       "      <td>amsterdam</td>\n",
       "      <td>weekdays</td>\n",
       "      <td>netherlands</td>\n",
       "    </tr>\n",
       "    <tr>\n",
       "      <th>2</th>\n",
       "      <td>264.101422</td>\n",
       "      <td>Private room</td>\n",
       "      <td>False</td>\n",
       "      <td>True</td>\n",
       "      <td>2</td>\n",
       "      <td>False</td>\n",
       "      <td>0</td>\n",
       "      <td>1</td>\n",
       "      <td>9</td>\n",
       "      <td>87</td>\n",
       "      <td>...</td>\n",
       "      <td>3.651621</td>\n",
       "      <td>75.275877</td>\n",
       "      <td>3.985908</td>\n",
       "      <td>95.386955</td>\n",
       "      <td>6.646700</td>\n",
       "      <td>4.97512</td>\n",
       "      <td>52.36103</td>\n",
       "      <td>amsterdam</td>\n",
       "      <td>weekdays</td>\n",
       "      <td>netherlands</td>\n",
       "    </tr>\n",
       "    <tr>\n",
       "      <th>3</th>\n",
       "      <td>433.529398</td>\n",
       "      <td>Private room</td>\n",
       "      <td>False</td>\n",
       "      <td>True</td>\n",
       "      <td>4</td>\n",
       "      <td>False</td>\n",
       "      <td>0</td>\n",
       "      <td>1</td>\n",
       "      <td>9</td>\n",
       "      <td>90</td>\n",
       "      <td>...</td>\n",
       "      <td>0.439876</td>\n",
       "      <td>493.272534</td>\n",
       "      <td>26.119108</td>\n",
       "      <td>875.033098</td>\n",
       "      <td>60.973565</td>\n",
       "      <td>4.89417</td>\n",
       "      <td>52.37663</td>\n",
       "      <td>amsterdam</td>\n",
       "      <td>weekdays</td>\n",
       "      <td>netherlands</td>\n",
       "    </tr>\n",
       "    <tr>\n",
       "      <th>4</th>\n",
       "      <td>485.552926</td>\n",
       "      <td>Private room</td>\n",
       "      <td>False</td>\n",
       "      <td>True</td>\n",
       "      <td>2</td>\n",
       "      <td>True</td>\n",
       "      <td>0</td>\n",
       "      <td>0</td>\n",
       "      <td>10</td>\n",
       "      <td>98</td>\n",
       "      <td>...</td>\n",
       "      <td>0.318693</td>\n",
       "      <td>552.830324</td>\n",
       "      <td>29.272733</td>\n",
       "      <td>815.305740</td>\n",
       "      <td>56.811677</td>\n",
       "      <td>4.90051</td>\n",
       "      <td>52.37508</td>\n",
       "      <td>amsterdam</td>\n",
       "      <td>weekdays</td>\n",
       "      <td>netherlands</td>\n",
       "    </tr>\n",
       "    <tr>\n",
       "      <th>...</th>\n",
       "      <td>...</td>\n",
       "      <td>...</td>\n",
       "      <td>...</td>\n",
       "      <td>...</td>\n",
       "      <td>...</td>\n",
       "      <td>...</td>\n",
       "      <td>...</td>\n",
       "      <td>...</td>\n",
       "      <td>...</td>\n",
       "      <td>...</td>\n",
       "      <td>...</td>\n",
       "      <td>...</td>\n",
       "      <td>...</td>\n",
       "      <td>...</td>\n",
       "      <td>...</td>\n",
       "      <td>...</td>\n",
       "      <td>...</td>\n",
       "      <td>...</td>\n",
       "      <td>...</td>\n",
       "      <td>...</td>\n",
       "      <td>...</td>\n",
       "    </tr>\n",
       "    <tr>\n",
       "      <th>51702</th>\n",
       "      <td>715.938574</td>\n",
       "      <td>Entire home/apt</td>\n",
       "      <td>False</td>\n",
       "      <td>False</td>\n",
       "      <td>6</td>\n",
       "      <td>False</td>\n",
       "      <td>0</td>\n",
       "      <td>1</td>\n",
       "      <td>10</td>\n",
       "      <td>100</td>\n",
       "      <td>...</td>\n",
       "      <td>0.135447</td>\n",
       "      <td>219.402478</td>\n",
       "      <td>15.712158</td>\n",
       "      <td>438.756874</td>\n",
       "      <td>10.604584</td>\n",
       "      <td>16.37940</td>\n",
       "      <td>48.21136</td>\n",
       "      <td>vienna</td>\n",
       "      <td>weekends</td>\n",
       "      <td>switzerland</td>\n",
       "    </tr>\n",
       "    <tr>\n",
       "      <th>51703</th>\n",
       "      <td>304.793960</td>\n",
       "      <td>Entire home/apt</td>\n",
       "      <td>False</td>\n",
       "      <td>False</td>\n",
       "      <td>2</td>\n",
       "      <td>False</td>\n",
       "      <td>0</td>\n",
       "      <td>0</td>\n",
       "      <td>8</td>\n",
       "      <td>86</td>\n",
       "      <td>...</td>\n",
       "      <td>0.100839</td>\n",
       "      <td>204.970121</td>\n",
       "      <td>14.678608</td>\n",
       "      <td>342.182813</td>\n",
       "      <td>8.270427</td>\n",
       "      <td>16.38070</td>\n",
       "      <td>48.20296</td>\n",
       "      <td>vienna</td>\n",
       "      <td>weekends</td>\n",
       "      <td>switzerland</td>\n",
       "    </tr>\n",
       "    <tr>\n",
       "      <th>51704</th>\n",
       "      <td>637.168969</td>\n",
       "      <td>Entire home/apt</td>\n",
       "      <td>False</td>\n",
       "      <td>False</td>\n",
       "      <td>2</td>\n",
       "      <td>False</td>\n",
       "      <td>0</td>\n",
       "      <td>0</td>\n",
       "      <td>10</td>\n",
       "      <td>93</td>\n",
       "      <td>...</td>\n",
       "      <td>0.202539</td>\n",
       "      <td>169.073402</td>\n",
       "      <td>12.107921</td>\n",
       "      <td>282.296424</td>\n",
       "      <td>6.822996</td>\n",
       "      <td>16.38568</td>\n",
       "      <td>48.20460</td>\n",
       "      <td>vienna</td>\n",
       "      <td>weekends</td>\n",
       "      <td>switzerland</td>\n",
       "    </tr>\n",
       "    <tr>\n",
       "      <th>51705</th>\n",
       "      <td>301.054157</td>\n",
       "      <td>Private room</td>\n",
       "      <td>False</td>\n",
       "      <td>True</td>\n",
       "      <td>2</td>\n",
       "      <td>False</td>\n",
       "      <td>0</td>\n",
       "      <td>0</td>\n",
       "      <td>10</td>\n",
       "      <td>87</td>\n",
       "      <td>...</td>\n",
       "      <td>0.287435</td>\n",
       "      <td>109.236574</td>\n",
       "      <td>7.822803</td>\n",
       "      <td>158.563398</td>\n",
       "      <td>3.832416</td>\n",
       "      <td>16.34100</td>\n",
       "      <td>48.19200</td>\n",
       "      <td>vienna</td>\n",
       "      <td>weekends</td>\n",
       "      <td>switzerland</td>\n",
       "    </tr>\n",
       "    <tr>\n",
       "      <th>51706</th>\n",
       "      <td>133.230489</td>\n",
       "      <td>Private room</td>\n",
       "      <td>False</td>\n",
       "      <td>True</td>\n",
       "      <td>4</td>\n",
       "      <td>True</td>\n",
       "      <td>1</td>\n",
       "      <td>0</td>\n",
       "      <td>10</td>\n",
       "      <td>93</td>\n",
       "      <td>...</td>\n",
       "      <td>0.480903</td>\n",
       "      <td>150.450381</td>\n",
       "      <td>10.774264</td>\n",
       "      <td>225.247293</td>\n",
       "      <td>5.444140</td>\n",
       "      <td>16.39066</td>\n",
       "      <td>48.20811</td>\n",
       "      <td>vienna</td>\n",
       "      <td>weekends</td>\n",
       "      <td>switzerland</td>\n",
       "    </tr>\n",
       "  </tbody>\n",
       "</table>\n",
       "<p>51707 rows × 22 columns</p>\n",
       "</div>"
      ],
      "text/plain": [
       "            price        room_type  room_shared  room_private  \\\n",
       "0      194.033698     Private room        False          True   \n",
       "1      344.245776     Private room        False          True   \n",
       "2      264.101422     Private room        False          True   \n",
       "3      433.529398     Private room        False          True   \n",
       "4      485.552926     Private room        False          True   \n",
       "...           ...              ...          ...           ...   \n",
       "51702  715.938574  Entire home/apt        False         False   \n",
       "51703  304.793960  Entire home/apt        False         False   \n",
       "51704  637.168969  Entire home/apt        False         False   \n",
       "51705  301.054157     Private room        False          True   \n",
       "51706  133.230489     Private room        False          True   \n",
       "\n",
       "       person_capacity  host_is_superhost  multi  biz  cleanliness_rating  \\\n",
       "0                    2              False      1    0                  10   \n",
       "1                    4              False      0    0                   8   \n",
       "2                    2              False      0    1                   9   \n",
       "3                    4              False      0    1                   9   \n",
       "4                    2               True      0    0                  10   \n",
       "...                ...                ...    ...  ...                 ...   \n",
       "51702                6              False      0    1                  10   \n",
       "51703                2              False      0    0                   8   \n",
       "51704                2              False      0    0                  10   \n",
       "51705                2              False      0    0                  10   \n",
       "51706                4               True      1    0                  10   \n",
       "\n",
       "       guest_satisfaction_overall  ...  metro_dist  attr_index  \\\n",
       "0                              93  ...    2.539380   78.690379   \n",
       "1                              85  ...    0.239404  631.176378   \n",
       "2                              87  ...    3.651621   75.275877   \n",
       "3                              90  ...    0.439876  493.272534   \n",
       "4                              98  ...    0.318693  552.830324   \n",
       "...                           ...  ...         ...         ...   \n",
       "51702                         100  ...    0.135447  219.402478   \n",
       "51703                          86  ...    0.100839  204.970121   \n",
       "51704                          93  ...    0.202539  169.073402   \n",
       "51705                          87  ...    0.287435  109.236574   \n",
       "51706                          93  ...    0.480903  150.450381   \n",
       "\n",
       "       attr_index_norm  rest_index  rest_index_norm       lng       lat  \\\n",
       "0             4.166708   98.253896         6.846473   4.90569  52.41772   \n",
       "1            33.421209  837.280757        58.342928   4.90005  52.37432   \n",
       "2             3.985908   95.386955         6.646700   4.97512  52.36103   \n",
       "3            26.119108  875.033098        60.973565   4.89417  52.37663   \n",
       "4            29.272733  815.305740        56.811677   4.90051  52.37508   \n",
       "...                ...         ...              ...       ...       ...   \n",
       "51702        15.712158  438.756874        10.604584  16.37940  48.21136   \n",
       "51703        14.678608  342.182813         8.270427  16.38070  48.20296   \n",
       "51704        12.107921  282.296424         6.822996  16.38568  48.20460   \n",
       "51705         7.822803  158.563398         3.832416  16.34100  48.19200   \n",
       "51706        10.774264  225.247293         5.444140  16.39066  48.20811   \n",
       "\n",
       "            city  week_period      country  \n",
       "0      amsterdam     weekdays  netherlands  \n",
       "1      amsterdam     weekdays  netherlands  \n",
       "2      amsterdam     weekdays  netherlands  \n",
       "3      amsterdam     weekdays  netherlands  \n",
       "4      amsterdam     weekdays  netherlands  \n",
       "...          ...          ...          ...  \n",
       "51702     vienna     weekends  switzerland  \n",
       "51703     vienna     weekends  switzerland  \n",
       "51704     vienna     weekends  switzerland  \n",
       "51705     vienna     weekends  switzerland  \n",
       "51706     vienna     weekends  switzerland  \n",
       "\n",
       "[51707 rows x 22 columns]"
>>>>>>> 0d48a1aa6df4fbd794e2db0772e9b54dd0fd711c
      ]
     },
     "metadata": {},
     "output_type": "display_data"
<<<<<<< HEAD
    }
   ],
   "source": [
    "data_cleanliness = compiled_data['cleanliness_rating']\n",
    "data_guest_satisfaction = compiled_data['guest_satisfaction_overall']\n",
    "\n",
    "fig, axes = plt.subplots(1, 2, figsize=(14, 6))\n",
    "\n",
    "axes[0].hist(data_cleanliness, bins=5, color='skyblue', edgecolor='black', range=(5, max(data_cleanliness)))\n",
    "axes[0].set_title('Distribution of Cleanliness Rating', fontsize=16)\n",
    "axes[0].set_xlabel('Cleanliness Rating', fontsize=12)\n",
    "axes[0].set_ylabel('Frequency', fontsize=12)\n",
    "\n",
    "axes[1].hist(data_guest_satisfaction, bins=10, color='lightgreen', edgecolor='black', range=(50, max(data_guest_satisfaction)))\n",
    "axes[1].set_title('Distribution of Guest Satisfaction', fontsize=16)\n",
    "axes[1].set_xlabel('Guest Satisfaction', fontsize=12)\n",
    "axes[1].set_ylabel('Frequency', fontsize=12)\n",
    "\n",
    "plt.tight_layout()\n",
    "plt.show()"
   ]
  },
  {
   "cell_type": "markdown",
   "id": "82539843-45ef-4d98-9853-c965e01b3462",
   "metadata": {},
   "source": [
    "We can see that these plots are left skewed, showing that the ratings are typically high."
   ]
  },
  {
   "cell_type": "markdown",
   "id": "33911057-5960-4182-bb14-938d83d3a27b",
   "metadata": {},
   "source": [
    "### 6. How does person_capacity vary across listings? What is the most common capacity of listings?"
   ]
  },
  {
   "cell_type": "code",
   "execution_count": 46,
   "id": "dbe09bd0-6d17-40dc-9032-aa5fcc655847",
   "metadata": {},
   "outputs": [
    {
     "data": {
      "image/png": "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",
      "text/plain": [
       "<Figure size 1000x600 with 1 Axes>"
      ]
     },
     "metadata": {},
     "output_type": "display_data"
    }
   ],
   "source": [
    "data = compiled_data['person_capacity']\n",
    "\n",
    "# Create the histogram\n",
    "plt.figure(figsize=(10, 6))  # Set the figure size (optional)\n",
    "n, bins, patches = plt.hist(data, bins=[2, 3, 4, 5, 6, 7], color='skyblue', edgecolor='black', density=True)  # 'bins' controls the number of intervals\n",
    "\n",
    "# Set the title and labels\n",
    "plt.title('Person Capacity Histogram', fontsize=16)\n",
    "plt.xlabel('Person Capcity', fontsize=12)\n",
    "plt.ylabel('Probability Density', fontsize=12)\n",
    "plt.xticks(range(2, 7))\n",
    "\n",
    "for i in range(len(patches)):\n",
    "    # Get the x-coordinate (center of each bar) and y-coordinate (height of the bar)\n",
    "    bar_x = (bins[i] + bins[i + 1]) / 2  # Center of the bin\n",
    "    bar_height = n[i]  # Height of the bar\n",
    "    \n",
    "    # Place the text at the center of each bar\n",
    "    plt.text(bar_x, bar_height, f'{int(bar_height*100):.1f}%', ha='center', va='bottom', fontsize=10)\n",
    "\n",
    "\n",
    "# Adjust layout to avoid clipping of labels\n",
    "plt.tight_layout()\n",
    "\n",
    "# Show the plot\n",
    "plt.show()"
   ]
  },
  {
   "cell_type": "markdown",
   "id": "5137a025-5f25-40c0-95d0-b3358aeb36c4",
   "metadata": {},
   "source": [
    "This shows that a capacity of 2 is the most common."
=======
    },
    {
     "name": "stdout",
     "output_type": "stream",
     "text": [
      "The total listings per day in amsterdam are 2080\n",
      "The total listings on weekdays in amsterdam are 1103\n",
      "The total listings on weekdends in amsterdam are 977\n",
      "--------------------------------------------------\n",
      "The total listings per day in athens are 5280\n",
      "The total listings on weekdays in athens are 2653\n",
      "The total listings on weekdends in athens are 2627\n",
      "--------------------------------------------------\n",
      "The total listings per day in berlin are 2484\n",
      "The total listings on weekdays in berlin are 1284\n",
      "The total listings on weekdends in berlin are 1200\n",
      "--------------------------------------------------\n",
      "The total listings per day in barcelona are 2833\n",
      "The total listings on weekdays in barcelona are 1555\n",
      "The total listings on weekdends in barcelona are 1278\n",
      "--------------------------------------------------\n",
      "The total listings per day in budapest are 4022\n",
      "The total listings on weekdays in budapest are 2074\n",
      "The total listings on weekdends in budapest are 1948\n",
      "--------------------------------------------------\n",
      "The total listings per day in lisbon are 5763\n",
      "The total listings on weekdays in lisbon are 2857\n",
      "The total listings on weekdends in lisbon are 2906\n",
      "--------------------------------------------------\n",
      "The total listings per day in london are 9993\n",
      "The total listings on weekdays in london are 4614\n",
      "The total listings on weekdends in london are 5379\n",
      "--------------------------------------------------\n",
      "The total listings per day in rome are 9027\n",
      "The total listings on weekdays in rome are 4492\n",
      "The total listings on weekdends in rome are 4535\n",
      "--------------------------------------------------\n",
      "The total listings per day in vienna are 3537\n",
      "The total listings on weekdays in vienna are 1738\n",
      "The total listings on weekdends in vienna are 1799\n",
      "--------------------------------------------------\n",
      "The total listings per day in paris are 6688\n",
      "The total listings on weekdays in paris are 3130\n",
      "The total listings on weekdends in paris are 3558\n",
      "--------------------------------------------------\n"
     ]
    }
   ],
   "source": [
    "display(compiled_data)\n",
    "\n",
    "def sum_listings(condition):\n",
    "    number_of_listings = compiled_data.query(condition).shape[0]\n",
    "    return number_of_listings\n",
    "\n",
    "weekday_condition = \"& week_period == 'weekdays'\"\n",
    "weekend_condition = \"& week_period == 'weekends'\"\n",
    "# Listings per city and day type\n",
    "for place in countrys: \n",
    "    city_condition = f\"city == '{place}'\"\n",
    "    \n",
    "    total_booking_city = sum_listings(city_condition)\n",
    "    weekdays_booking_city = sum_listings((city_condition+weekday_condition))\n",
    "    weekend_booking_city = sum_listings((city_condition+weekend_condition))\n",
    "\n",
    "    #This code is not ideal because it deletes something I've already done and makes a more complicated nested dictionary.\n",
    "    countrys[place] = {\n",
    "        'total_bookings': total_booking_city,\n",
    "        'weekdays_bookings': weekdays_booking_city,\n",
    "        'weekend_bookings': weekend_booking_city\n",
    "    }\n",
    "    \n",
    "    print(f\"The total listings per day in {place} are {total_booking_city}\")\n",
    "    print(f\"The total listings on weekdays in {place} are {weekdays_booking_city}\")\n",
    "    print(f\"The total listings on weekdends in {place} are {weekend_booking_city}\")\n",
    "    print(\"-\" * 50)"
>>>>>>> 0d48a1aa6df4fbd794e2db0772e9b54dd0fd711c
   ]
  },
  {
   "cell_type": "markdown",
<<<<<<< HEAD
   "id": "556fa958-8cef-4b98-a34c-c4387a2e31ee",
   "metadata": {},
   "source": [
    "### 7. Plot the distribution of realSum for both weekday and weekend offers. Is it normally distributed, skewed, or multimodal? If skewed, consider using transformations (e.g., log transformation) to normalize it."
=======
   "id": "17cd8601-5046-44b9-b96a-a14faa0e1fe5",
   "metadata": {},
   "source": [
    "### 2. Which city has the biggest proportion of superhosts?"
>>>>>>> 0d48a1aa6df4fbd794e2db0772e9b54dd0fd711c
   ]
  },
  {
   "cell_type": "code",
<<<<<<< HEAD
   "execution_count": 47,
   "id": "dd9e90f6-5d5b-45ff-97d1-7b30bab6b834",
   "metadata": {},
   "outputs": [
    {
     "data": {
      "image/png": "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",
      "text/plain": [
       "<Figure size 1400x600 with 2 Axes>"
      ]
     },
     "metadata": {},
     "output_type": "display_data"
    }
   ],
   "source": [
    "weekday_data = compiled_data[compiled_data['week_period'] == 'weekdays']\n",
    "weekend_data = compiled_data[compiled_data['week_period'] == 'weekends']\n",
    "\n",
    "\n",
    "fig, axes = plt.subplots(1, 2, figsize=(14, 6), sharex=True, sharey=True)\n",
    "\n",
    "# Plot for weekdays\n",
    "axes[0].hist(weekday_data['price'], bins=30, alpha=0.5, color='blue', edgecolor='black', density=True)\n",
    "axes[0].set_title('Distribution of Price: Weekdays', fontsize=16)\n",
    "axes[0].set_xlabel('Price', fontsize=12)\n",
    "axes[0].set_ylabel('Probability Density', fontsize=12)\n",
    "\n",
    "# Plot for weekends\n",
    "axes[1].hist(weekend_data['price'], bins=30, alpha=0.5, color='red', edgecolor='black', density=True)\n",
    "axes[1].set_title('Distribution of Price: Weekends', fontsize=16)\n",
    "axes[1].set_xlabel('Price', fontsize=12)\n",
    "axes[1].set_ylabel('Probability Density', fontsize=12)  # Add y-label to the second subplot\n",
    "\n",
    "plt.tight_layout()\n",
    "plt.show()\n"
   ]
  },
  {
   "cell_type": "markdown",
   "id": "aab2102c-cc26-4782-8f2b-f310476866e2",
   "metadata": {},
   "source": [
    "This is skewed. Therefore I will use a log transformation."
=======
   "execution_count": 10,
   "id": "6a5c8722-9c71-49b8-930a-175c710fbd96",
   "metadata": {},
   "outputs": [
    {
     "name": "stdout",
     "output_type": "stream",
     "text": [
      "The proporiton of superhosts in amsterdam is 6.361538461538461\n",
      "The proporiton of superhosts in athens is 2.506060606060606\n",
      "The proporiton of superhosts in berlin is 5.326892109500805\n",
      "The proporiton of superhosts in barcelona is 4.6706671373102715\n",
      "The proporiton of superhosts in budapest is 3.289905519641969\n",
      "The proporiton of superhosts in lisbon is 2.296026375151831\n",
      "The proporiton of superhosts in london is 1.3241268888221756\n",
      "The proporiton of superhosts in rome is 1.4658247479782873\n",
      "The proporiton of superhosts in vienna is 3.741023466214306\n",
      "The proporiton of superhosts in paris is 1.9784688995215312\n"
     ]
    }
   ],
   "source": [
    "def proportion_superhosts(place):\n",
    "    number_of_hosts = countrys[place]['total_bookings']\n",
    "    number_of_superhosts = compiled_data.query(\"host_is_superhost == True\").shape[0]\n",
    "    proportion_of_superhosts = number_of_superhosts / number_of_hosts\n",
    "    return proportion_of_superhosts\n",
    "\n",
    "for place in countrys: \n",
    "    proportion_of_superhosts = proportion_superhosts(place)\n",
    "    print (f'The proporiton of superhosts in {place} is {proportion_of_superhosts}')\n",
    "    countrys[place]['superhosts_proportion'] = proportion_of_superhosts"
>>>>>>> 0d48a1aa6df4fbd794e2db0772e9b54dd0fd711c
   ]
  },
  {
   "cell_type": "code",
<<<<<<< HEAD
   "execution_count": 48,
   "id": "1df30ace-49fc-4df8-a5aa-2982cf5eb2d7",
   "metadata": {},
   "outputs": [
    {
     "name": "stderr",
     "output_type": "stream",
     "text": [
      "/var/folders/wn/w5pc_52n541b5w4m12ltydkw0000gs/T/ipykernel_74781/3433053554.py:3: SettingWithCopyWarning: \n",
      "A value is trying to be set on a copy of a slice from a DataFrame.\n",
      "Try using .loc[row_indexer,col_indexer] = value instead\n",
      "\n",
      "See the caveats in the documentation: https://pandas.pydata.org/pandas-docs/stable/user_guide/indexing.html#returning-a-view-versus-a-copy\n",
      "  weekday_data['log_price'] = np.log(weekday_data['price'])\n",
      "/var/folders/wn/w5pc_52n541b5w4m12ltydkw0000gs/T/ipykernel_74781/3433053554.py:4: SettingWithCopyWarning: \n",
      "A value is trying to be set on a copy of a slice from a DataFrame.\n",
      "Try using .loc[row_indexer,col_indexer] = value instead\n",
      "\n",
      "See the caveats in the documentation: https://pandas.pydata.org/pandas-docs/stable/user_guide/indexing.html#returning-a-view-versus-a-copy\n",
      "  weekend_data['log_price'] = np.log(weekend_data['price'])\n"
     ]
    },
    {
     "data": {
      "image/png": "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",
      "text/plain": [
       "<Figure size 1400x600 with 2 Axes>"
      ]
     },
     "metadata": {},
     "output_type": "display_data"
    }
   ],
   "source": [
    "import numpy as np\n",
    "\n",
    "weekday_data['log_price'] = np.log(weekday_data['price'])\n",
    "weekend_data['log_price'] = np.log(weekend_data['price'])\n",
    "\n",
    "fig, axes = plt.subplots(1, 2, figsize=(14, 6), sharex=True, sharey=True)\n",
    "\n",
    "# Plot for weekdays\n",
    "axes[0].hist(weekday_data['log_price'], bins=30, alpha=0.5, color='blue', edgecolor='black', density=True)\n",
    "axes[0].set_title('Distribution of Price: Weekdays', fontsize=16)\n",
    "axes[0].set_xlabel('Log Price', fontsize=12)\n",
    "axes[0].set_ylabel('Probability Density', fontsize=12)\n",
    "\n",
    "# Plot for weekends\n",
    "axes[1].hist(weekend_data['log_price'], bins=30, alpha=0.5, color='red', edgecolor='black', density=True)\n",
    "axes[1].set_title('Distribution of Price: Weekends', fontsize=16)\n",
    "axes[1].set_xlabel('Log Price', fontsize=12)\n",
    "axes[1].set_ylabel('Probability Density', fontsize=12)  # Add y-label to the second subplot\n",
    "\n",
    "plt.tight_layout()\n",
    "plt.show()"
=======
   "execution_count": 249,
   "id": "910e4869-00d6-4df5-b245-112f96a2ca3d",
   "metadata": {},
   "outputs": [
    {
     "name": "stdout",
     "output_type": "stream",
     "text": [
      "The city with the maximum superhosts proportion is amsterdam with a value of 6.361538461538461.\n"
     ]
    }
   ],
   "source": [
    "#### Finding the max value \n",
    "\n",
    "countries_df = pd.DataFrame(countrys)\n",
    "countries_df = countries_df.transpose()\n",
    "\n",
    "max_proporiton = countries_df['superhosts_proportion'].max()\n",
    "city_with_max_value = countries_df['superhosts_proportion'].idxmax()\n",
    "print(f\"The city with the maximum superhosts proportion is {city_with_max_value} with a value of {max_proporiton}.\")"
>>>>>>> 0d48a1aa6df4fbd794e2db0772e9b54dd0fd711c
   ]
  },
  {
   "cell_type": "markdown",
<<<<<<< HEAD
   "id": "e5e47f65-ad91-41e6-93e7-a12b6e6eca36",
   "metadata": {},
   "source": [
    "After log transformation, we can see that these are normally distributed."
   ]
  },
  {
   "cell_type": "markdown",
   "id": "cbf0de39-b407-441a-89d7-4245c79a8801",
   "metadata": {},
   "source": [
    "### 8. Plot the distribution of guest_satisfaction_overall ratings. \n",
    "### 9. Examine the distribution of cleanliness_rating.\n",
    "\n",
    "These I have plotted in question 5."
=======
   "id": "dbf2e9e2-f303-416e-ab83-9752ac96e4ab",
   "metadata": {},
   "source": [
    "### 3. Which cities have listings with more than four rooms?"
   ]
  },
  {
   "cell_type": "code",
   "execution_count": null,
   "id": "91379526-fae2-4a7c-b779-d3e4e42aefa3",
   "metadata": {},
   "outputs": [],
   "source": []
  },
  {
   "cell_type": "markdown",
   "id": "dce2536b-b886-4050-9a0f-7bcca5422e41",
   "metadata": {},
   "source": [
    "### 4. Which city has the most entire home/apt type listings?\n",
    "### 5. Are ratings typically high across listings, or is there a wide variation?\n",
    "### 6. How does person_capacity vary across listings? What is the most common capacity of listings?\n",
    "### 7. Plot the distribution of realSum for both weekday and weekend offers. Is it normally distributed, skewed, or multimodal? If skewed, consider using transformations (e.g., log transformation) to normalize it.\n",
    "### 8. Plot the distribution of guest_satisfaction_overall ratings. \n",
    "### 9. Examine the distribution of cleanliness_rating.\n"
>>>>>>> 0d48a1aa6df4fbd794e2db0772e9b54dd0fd711c
   ]
  },
  {
   "cell_type": "markdown",
   "id": "5854f5e7-feeb-4c45-9c11-12f35d71363f",
   "metadata": {},
   "source": [
    "## Testing the Data"
   ]
  },
  {
   "cell_type": "markdown",
   "id": "591e0d55-b5a8-4f39-9dc2-0239c4f5364c",
   "metadata": {},
   "source": [
    "### Is there a difference in price between two cities? Choose at least three pairs of cities during weekdays.\n"
   ]
  },
  {
   "cell_type": "markdown",
   "id": "1023dcb8-4d47-47db-b4d6-b0da0079940e",
   "metadata": {},
   "source": [
    "#### Paris vs Budapest\n",
    "\n",
    "Hypothesis: Paris is more expensive on average than Budapest"
   ]
  },
  {
   "cell_type": "code",
<<<<<<< HEAD
   "execution_count": 49,
=======
   "execution_count": 25,
>>>>>>> 0d48a1aa6df4fbd794e2db0772e9b54dd0fd711c
   "id": "1c229323-3633-4a4e-a814-ebc247022833",
   "metadata": {},
   "outputs": [
    {
     "name": "stdout",
     "output_type": "stream",
     "text": [
      "t-statistic: 39.56833815405047\n",
      "P-value: 0.0\n",
      "Paris is significantly more expensive than Budapest.\n"
     ]
    }
   ],
   "source": [
    "from scipy.stats import ttest_ind\n",
    "\n",
    "def city_prices(city_name):\n",
    "    city_df = compiled_data[compiled_data['city'] == city_name]\n",
    "    city_prices = city_df['price']\n",
    "    return city_prices\n",
    "\n",
    "paris_prices = city_prices('paris')\n",
    "budapest_prices = city_prices('budapest')\n",
    "\n",
    "t_statistic, p_value = ttest_ind(paris_prices, budapest_prices, alternative='greater') \n",
    "\n",
    "print(f\"t-statistic: {t_statistic}\")\n",
    "print(f\"P-value: {p_value}\")\n",
    "\n",
    "if p_value < 0.05:\n",
    "    print(\"Paris is significantly more expensive than Budapest.\")\n",
    "else:\n",
    "    print(\"Paris is not significantly more expensive than Budapest.\")\n"
   ]
  },
  {
   "cell_type": "markdown",
   "id": "1f23e2b0-c39a-4f02-b22f-717dac96ee40",
   "metadata": {},
   "source": [
    "#### Paris vs Amsterdam\n",
    "\n",
    "Hypothesis: Paris is more expensive on average than Amsterdam"
   ]
  },
  {
   "cell_type": "code",
<<<<<<< HEAD
   "execution_count": 50,
=======
   "execution_count": 32,
>>>>>>> 0d48a1aa6df4fbd794e2db0772e9b54dd0fd711c
   "id": "748675ab-6eec-4f4b-9ede-00ad62b5c80e",
   "metadata": {},
   "outputs": [
    {
     "name": "stdout",
     "output_type": "stream",
     "text": [
      "t-statistic: -20.141087286808244\n",
      "P-value: 1.0\n",
      "Paris is not significantly more expensive than Amsterdam.\n"
     ]
    }
   ],
   "source": [
    "paris_prices = city_prices('paris')\n",
    "amsterdam_prices = city_prices('amsterdam')\n",
    "\n",
    "t_statistic, p_value = ttest_ind(paris_prices, amsterdam_prices, alternative='greater') \n",
    "\n",
    "print(f\"t-statistic: {t_statistic}\")\n",
    "print(f\"P-value: {p_value}\")\n",
    "\n",
    "if p_value < 0.05:\n",
    "    print(\"Paris is significantly more expensive than Amsterdam.\")\n",
    "else:\n",
    "    print(\"Paris is not significantly more expensive than Amsterdam.\")"
   ]
  },
  {
   "cell_type": "markdown",
   "id": "ea20e145-cd49-4b25-9bff-11cb2d43cd5d",
   "metadata": {},
   "source": [
    "Hypothesis: Amsterdam is significantly more expensive than Paris."
   ]
  },
  {
   "cell_type": "code",
<<<<<<< HEAD
   "execution_count": 51,
=======
   "execution_count": 42,
>>>>>>> 0d48a1aa6df4fbd794e2db0772e9b54dd0fd711c
   "id": "c741d18e-61e7-41dc-bdfe-4b3fc150eea4",
   "metadata": {},
   "outputs": [
    {
     "name": "stdout",
     "output_type": "stream",
     "text": [
      "t-statistic: -20.141087286808244\n",
      "P-value: 1.5643916771088106e-88\n",
      "Paris is significantly less expensive than Amsterdam.\n"
     ]
    }
   ],
   "source": [
    "t_statistic, p_value = ttest_ind(paris_prices, amsterdam_prices, alternative='less') \n",
    "\n",
    "print(f\"t-statistic: {t_statistic}\")\n",
    "print(f\"P-value: {p_value}\")\n",
    "\n",
    "if p_value < 0.05:\n",
    "    print(\"Paris is significantly less expensive than Amsterdam.\")\n",
    "else:\n",
    "    print(\"Paris is not significantly less expensive than Amsterdam.\")"
   ]
  },
  {
   "cell_type": "markdown",
   "id": "f79fbbf4-727b-4664-a831-c1d3c07f6f4d",
   "metadata": {},
   "source": [
    "### Does the price tend to be higher on weekends?"
   ]
  },
  {
   "cell_type": "markdown",
   "id": "d7c69e9c-9c90-43c8-8f2e-4a35b8e527a8",
   "metadata": {},
   "source": [
    "Hypothesis: the price tends to be higher on weekends"
   ]
  },
  {
   "cell_type": "code",
<<<<<<< HEAD
   "execution_count": 52,
=======
   "execution_count": 40,
>>>>>>> 0d48a1aa6df4fbd794e2db0772e9b54dd0fd711c
   "id": "1b74608e-e5a8-4d45-8f94-6d6edbc07151",
   "metadata": {},
   "outputs": [
    {
     "name": "stdout",
     "output_type": "stream",
     "text": [
      "t-statistic: 2.8712504244321893\n",
      "P-value: 0.002045087517232957\n",
      "Weekends are significantly more expensive than weekdays.\n"
     ]
    }
   ],
   "source": [
    "def week_period_prices(week_time):\n",
    "    week_period_df = compiled_data[compiled_data['week_period'] == week_time]\n",
    "    week_period_prices = week_period_df['price']\n",
    "    return week_period_prices\n",
    "\n",
    "weekend_prices = week_period_prices('weekends')\n",
    "weekday_prices = week_period_prices('weekdays')\n",
    "\n",
    "t_statistic, p_value = ttest_ind(weekend_prices, weekday_prices, alternative='greater') \n",
    "\n",
    "print(f\"t-statistic: {t_statistic}\")\n",
    "print(f\"P-value: {p_value}\")\n",
    "\n",
    "if p_value < 0.05:\n",
    "    print(\"Weekends are significantly more expensive than weekdays.\")\n",
    "else:\n",
    "    print(\"Weekends are not significantly more expensive than weekdays.\")"
   ]
  },
  {
   "cell_type": "markdown",
   "id": "1951758c-ed40-4b1c-802b-e006b9f61a64",
   "metadata": {},
   "source": [
    "### Are listings of superhosts more expensive than those of normal hosts?"
   ]
  },
  {
   "cell_type": "markdown",
   "id": "f11640e8-14df-4e64-9d3f-182fb0e5490b",
   "metadata": {},
   "source": [
    "Hypothesis: Superhosts are more expensive than those of normal hosts"
   ]
  },
  {
   "cell_type": "code",
<<<<<<< HEAD
   "execution_count": 53,
=======
   "execution_count": 48,
>>>>>>> 0d48a1aa6df4fbd794e2db0772e9b54dd0fd711c
   "id": "5332894f-8e96-4882-9f8e-34242e8cd2ed",
   "metadata": {},
   "outputs": [
    {
     "name": "stdout",
     "output_type": "stream",
     "text": [
      "t-statistic: -10.351807657931387\n",
      "P-value: 1.0\n",
      "Sueprhosts are not significantly more expensive than non-superhosts.\n"
     ]
    }
   ],
   "source": [
    "def host_prices(host_type):\n",
    "    superhost_df = compiled_data[compiled_data['host_is_superhost'] == host_type]\n",
    "    host_type_prices = superhost_df['price']\n",
    "    return host_type_prices\n",
    "\n",
    "superhost_prices = host_prices(True)\n",
    "non_superhost_prices = host_prices(False)\n",
    "\n",
    "t_statistic, p_value = ttest_ind(superhost_prices, non_superhost_prices, alternative='greater') \n",
    "\n",
    "print(f\"t-statistic: {t_statistic}\")\n",
    "print(f\"P-value: {p_value}\")\n",
    "\n",
    "if p_value < 0.05:\n",
    "    print(\"Sueprhosts are significantly more expensive than non-superhosts.\")\n",
    "else:\n",
    "    print(\"Sueprhosts are not significantly more expensive than non-superhosts.\")"
   ]
  },
  {
   "cell_type": "markdown",
   "id": "6b42c68b-b091-47a7-bbc2-cf5421b10672",
   "metadata": {},
   "source": [
    "Hypothesis: there is no significant difference in price between hosts and superhosts."
   ]
  },
  {
   "cell_type": "code",
<<<<<<< HEAD
   "execution_count": 54,
=======
   "execution_count": 49,
>>>>>>> 0d48a1aa6df4fbd794e2db0772e9b54dd0fd711c
   "id": "fb27a8cc-13cb-43ed-8ca6-01b29f57999a",
   "metadata": {},
   "outputs": [
    {
     "name": "stdout",
     "output_type": "stream",
     "text": [
      "t-statistic: -10.351807657931387\n",
      "P-value: 4.345180871028599e-25\n",
      "There is a significant difference in price between hosts and superhosts.\n"
     ]
    }
   ],
   "source": [
    "t_statistic, p_value = ttest_ind(superhost_prices, non_superhost_prices) \n",
    "\n",
    "print(f\"t-statistic: {t_statistic}\")\n",
    "print(f\"P-value: {p_value}\")\n",
    "\n",
    "if p_value < 0.05:\n",
    "    print(\"There is a significant difference in price between hosts and superhosts.\")\n",
    "else:\n",
    "    print(\"There is no significant difference in price between hosts and superhosts.\")"
   ]
  },
  {
   "cell_type": "markdown",
   "id": "7f536d48-28bb-4337-836f-2c75a544db9f",
   "metadata": {},
   "source": [
    "Hypotheis: superhosts are significantly less expsensive than hosts"
   ]
  },
  {
   "cell_type": "code",
<<<<<<< HEAD
   "execution_count": 55,
=======
   "execution_count": 50,
>>>>>>> 0d48a1aa6df4fbd794e2db0772e9b54dd0fd711c
   "id": "4aebf04b-7c36-4109-93d5-a43068d9dc20",
   "metadata": {},
   "outputs": [
    {
     "name": "stdout",
     "output_type": "stream",
     "text": [
      "t-statistic: -10.351807657931387\n",
      "P-value: 2.1725904355142993e-25\n",
      "Sueprhosts are significantly cheaper than non-superhosts.\n"
     ]
    }
   ],
   "source": [
    "t_statistic, p_value = ttest_ind(superhost_prices, non_superhost_prices, alternative='less') \n",
    "\n",
    "print(f\"t-statistic: {t_statistic}\")\n",
    "print(f\"P-value: {p_value}\")\n",
    "\n",
    "if p_value < 0.05:\n",
    "    print(\"Sueprhosts are significantly cheaper than non-superhosts.\")\n",
    "else:\n",
    "    print(\"Sueprhosts are not significantly cheaper than non-superhosts.\")"
   ]
  },
  {
   "cell_type": "markdown",
   "id": "c5768786-b615-474e-bd8e-ad55918c37c8",
   "metadata": {},
   "source": [
    "### Are superhosts closer to the city center and metro station than normal hosts?"
   ]
  },
  {
   "cell_type": "markdown",
   "id": "2cf08c38-476a-4e54-b1fd-0a27e7cc35f1",
   "metadata": {},
   "source": [
    "Hypothesis: superhosts are closer to the city centre and metro station than normal hosts"
   ]
  },
  {
   "cell_type": "code",
<<<<<<< HEAD
   "execution_count": 56,
=======
   "execution_count": 74,
>>>>>>> 0d48a1aa6df4fbd794e2db0772e9b54dd0fd711c
   "id": "bcba5391-e07a-46a8-986a-c1c564eb8536",
   "metadata": {},
   "outputs": [],
   "source": [
    "def average_price_per_city(city):\n",
    "    average_price = complete_data[complete_data['city'] == city]['realSum'].mean()\n",
    "    print(f'The average price in {city} is £{average_price}')"
   ]
  },
  {
   "cell_type": "code",
<<<<<<< HEAD
   "execution_count": 57,
=======
   "execution_count": 75,
>>>>>>> 0d48a1aa6df4fbd794e2db0772e9b54dd0fd711c
   "id": "8a539dfb-21c6-4bcf-a1ae-e2f36be7cecc",
   "metadata": {},
   "outputs": [
    {
     "name": "stdout",
     "output_type": "stream",
     "text": [
      "The average price in paris is £392.53140300635164\n"
     ]
    }
   ],
   "source": [
    "average_price_per_city('paris')"
   ]
  },
  {
   "cell_type": "code",
<<<<<<< HEAD
   "execution_count": 58,
=======
   "execution_count": 76,
>>>>>>> 0d48a1aa6df4fbd794e2db0772e9b54dd0fd711c
   "id": "295c2fa5-7c4a-4cec-ad82-df4028924d8d",
   "metadata": {},
   "outputs": [
    {
     "name": "stdout",
     "output_type": "stream",
     "text": [
      "The average price in budapest is £176.51354828218297\n"
     ]
    }
   ],
   "source": [
    "average_price_per_city('budapest')"
   ]
  },
  {
   "cell_type": "markdown",
   "id": "7abe314a-d8b8-45fa-9162-b846315eed83",
   "metadata": {},
   "source": [
    "### Are superhosts cleaner than normal hosts?"
   ]
  },
  {
   "cell_type": "markdown",
   "id": "0593927d-f078-4aa5-a40f-03e0364cfb92",
   "metadata": {},
   "source": [
    "### Is there a pattern between room types and superhost status?"
   ]
  },
  {
   "cell_type": "markdown",
   "id": "3c281162-a599-47fe-98dc-f9690bd41a56",
   "metadata": {},
   "source": [
    "Hypothesis: There is a pattern between room types and superhost status.\n",
    "\n",
    "Two catagorical variables; therefore, test using chi-square test."
   ]
  },
  {
   "cell_type": "code",
<<<<<<< HEAD
   "execution_count": 59,
=======
   "execution_count": 61,
>>>>>>> 0d48a1aa6df4fbd794e2db0772e9b54dd0fd711c
   "id": "769e2206-8fd6-4a8c-9500-5e1f606bd09a",
   "metadata": {},
   "outputs": [
    {
     "name": "stdout",
     "output_type": "stream",
     "text": [
      "      room_type  host_is_superhost\n",
      "0  Private room              False\n",
      "1  Private room              False\n",
      "2  Private room              False\n",
      "3  Private room              False\n",
      "4  Private room               True\n",
      "host_is_superhost  False   True    All\n",
      "room_type                             \n",
      "Entire home/apt    23704   8944  32648\n",
      "Private room       14446   4247  18693\n",
      "Shared room          325     41    366\n",
      "All                38475  13232  51707\n",
      "Chi-squared Statistic: 176.54066965543066\n",
      "P-value: 4.620411632426391e-39\n",
      "Reject NULL HYPOTHESIS: There is a significant association between room type and superhost status.\n"
     ]
    }
   ],
   "source": [
    "from scipy.stats import chi2_contingency \n",
    "import pandas\n",
    "\n",
    "# Need to make a datafram containing just the room_type and host_is_superhost values\n",
    "room_and_host_df = compiled_data[['room_type', 'host_is_superhost']]\n",
    "\n",
    "print(room_and_host_df.head())\n",
    "\n",
    "# Need to make a contingency table, as the chi2 test doesn't take string values\n",
    "chisqt = pd.crosstab(room_and_host_df['room_type'], room_and_host_df['host_is_superhost'], margins=True)\n",
    "print(chisqt)\n",
    "\n",
    "chi2_stat, p_value, dof, expected = chi2_contingency(chisqt.iloc[:-1, :-1])  \n",
    "\n",
    "print(f\"Chi-squared Statistic: {chi2_stat}\")\n",
    "print(f\"P-value: {p_value}\")\n",
    "\n",
    "significance_level = 0.05\n",
    "\n",
    "if p_value <= significance_level:\n",
    "    print('Reject NULL HYPOTHESIS: There is a significant association between room type and superhost status.')\n",
    "else:\n",
    "    print('ACCEPT NULL HYPOTHESIS: There is no significant association between room type and superhost status.')"
   ]
  },
  {
   "cell_type": "markdown",
   "id": "5f5297a3-bf03-4124-8fdf-9545885284ad",
   "metadata": {},
   "source": [
    "Therefore, we can accept the hypothesis."
   ]
  },
  {
   "cell_type": "markdown",
   "id": "11caba1c-0c6f-41c9-a5b2-16e5e7aa7e35",
   "metadata": {},
   "source": [
    "### Is it more expensive to rent an entire home/apt than a private room? Does that depend on the city?"
   ]
  },
  {
<<<<<<< HEAD
   "cell_type": "markdown",
   "id": "52a39645-5065-4f21-80e3-1398ace399a2",
   "metadata": {},
   "source": [
    "Hypothesis: it is more expensive to rent an entire home or apartment than a private room. To test this we can conduct a two way anova test."
   ]
  },
  {
   "cell_type": "code",
   "execution_count": 68,
   "id": "8470f492-62d8-4e8c-b8b3-4a74c32318e0",
   "metadata": {},
   "outputs": [
    {
     "data": {
      "text/html": [
       "<div>\n",
       "<style scoped>\n",
       "    .dataframe tbody tr th:only-of-type {\n",
       "        vertical-align: middle;\n",
       "    }\n",
       "\n",
       "    .dataframe tbody tr th {\n",
       "        vertical-align: top;\n",
       "    }\n",
       "\n",
       "    .dataframe thead th {\n",
       "        text-align: right;\n",
       "    }\n",
       "</style>\n",
       "<table border=\"1\" class=\"dataframe\">\n",
       "  <thead>\n",
       "    <tr style=\"text-align: right;\">\n",
       "      <th></th>\n",
       "      <th>sum_sq</th>\n",
       "      <th>df</th>\n",
       "      <th>F</th>\n",
       "      <th>PR(&gt;F)</th>\n",
       "    </tr>\n",
       "  </thead>\n",
       "  <tbody>\n",
       "    <tr>\n",
       "      <th>C(room_type)</th>\n",
       "      <td>3.573044e+08</td>\n",
       "      <td>2.0</td>\n",
       "      <td>2033.341074</td>\n",
       "      <td>0.000000e+00</td>\n",
       "    </tr>\n",
       "    <tr>\n",
       "      <th>C(city)</th>\n",
       "      <td>7.115314e+08</td>\n",
       "      <td>9.0</td>\n",
       "      <td>899.815304</td>\n",
       "      <td>0.000000e+00</td>\n",
       "    </tr>\n",
       "    <tr>\n",
       "      <th>C(room_type):C(city)</th>\n",
       "      <td>1.327994e+08</td>\n",
       "      <td>18.0</td>\n",
       "      <td>83.970219</td>\n",
       "      <td>6.675240e-306</td>\n",
       "    </tr>\n",
       "    <tr>\n",
       "      <th>Residual</th>\n",
       "      <td>4.540414e+09</td>\n",
       "      <td>51677.0</td>\n",
       "      <td>NaN</td>\n",
       "      <td>NaN</td>\n",
       "    </tr>\n",
       "  </tbody>\n",
       "</table>\n",
       "</div>"
      ],
      "text/plain": [
       "                            sum_sq       df            F         PR(>F)\n",
       "C(room_type)          3.573044e+08      2.0  2033.341074   0.000000e+00\n",
       "C(city)               7.115314e+08      9.0   899.815304   0.000000e+00\n",
       "C(room_type):C(city)  1.327994e+08     18.0    83.970219  6.675240e-306\n",
       "Residual              4.540414e+09  51677.0          NaN            NaN"
      ]
     },
     "execution_count": 68,
     "metadata": {},
     "output_type": "execute_result"
    }
   ],
   "source": [
    "#perform two-way ANOVA\n",
    "model = ols('price ~ C(room_type) + C(city) + C(room_type):C(city)', data=compiled_data).fit()\n",
    "sm.stats.anova_lm(model, typ=2)"
   ]
  },
  {
   "cell_type": "code",
   "execution_count": null,
   "id": "80cf13bc-4a6c-400c-aa14-9cccad05a171",
   "metadata": {},
   "outputs": [],
   "source": [
    "The p value for "
   ]
  },
  {
   "cell_type": "code",
   "execution_count": null,
   "id": "f17ba7c7-d297-44f3-bc1c-3de92f0f720c",
=======
   "cell_type": "code",
   "execution_count": null,
   "id": "aa74b8dc-9830-45db-a8da-cca9ecbebb90",
>>>>>>> 0d48a1aa6df4fbd794e2db0772e9b54dd0fd711c
   "metadata": {},
   "outputs": [],
   "source": []
  }
 ],
 "metadata": {
  "kernelspec": {
   "display_name": "Python 3 (ipykernel)",
   "language": "python",
   "name": "python3"
  },
  "language_info": {
   "codemirror_mode": {
    "name": "ipython",
    "version": 3
   },
   "file_extension": ".py",
   "mimetype": "text/x-python",
   "name": "python",
   "nbconvert_exporter": "python",
   "pygments_lexer": "ipython3",
   "version": "3.13.0"
  }
 },
 "nbformat": 4,
 "nbformat_minor": 5
}
