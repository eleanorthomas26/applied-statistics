{
 "cells": [
  {
   "cell_type": "markdown",
   "id": "3651fa45-2f9d-4762-bed3-8d932578d6f8",
   "metadata": {},
   "source": [
    "# Assignment 3 - Finding Errors in Dataset"
   ]
  },
  {
   "cell_type": "markdown",
   "id": "952e552e-35a2-4e06-b870-00fb9aad9caa",
   "metadata": {},
   "source": [
    "## Group 5 - Handling the third dataset of group 2"
   ]
  },
  {
   "cell_type": "markdown",
   "id": "64a70b6f-a8cd-48b9-a447-07f6052c2eed",
   "metadata": {},
   "source": [
    "### Importing Libraries"
   ]
  },
  {
   "cell_type": "code",
   "execution_count": 1,
   "id": "52eab6d4-50bb-4233-a7e6-d835d4dc7bfc",
   "metadata": {},
   "outputs": [],
   "source": [
    "import numpy as np\n",
    "import pandas as pd\n",
    "import re"
   ]
  },
  {
   "cell_type": "markdown",
   "id": "3c81ab7e-a958-4448-97ab-9c5110778f01",
   "metadata": {},
   "source": [
    "### Loading Dataset and Overview"
   ]
  },
  {
   "cell_type": "code",
   "execution_count": 2,
   "id": "09c42714-8c8f-498f-9f1f-66e69640fc65",
   "metadata": {},
   "outputs": [
    {
     "data": {
      "text/html": [
       "<div>\n",
       "<style scoped>\n",
       "    .dataframe tbody tr th:only-of-type {\n",
       "        vertical-align: middle;\n",
       "    }\n",
       "\n",
       "    .dataframe tbody tr th {\n",
       "        vertical-align: top;\n",
       "    }\n",
       "\n",
       "    .dataframe thead th {\n",
       "        text-align: right;\n",
       "    }\n",
       "</style>\n",
       "<table border=\"1\" class=\"dataframe\">\n",
       "  <thead>\n",
       "    <tr style=\"text-align: right;\">\n",
       "      <th></th>\n",
       "      <th>EEID</th>\n",
       "      <th>Full Name</th>\n",
       "      <th>Job Title</th>\n",
       "      <th>Department</th>\n",
       "      <th>Business Unit</th>\n",
       "      <th>Gender</th>\n",
       "      <th>Age</th>\n",
       "      <th>Annual Salary</th>\n",
       "      <th>Bonus %</th>\n",
       "      <th>Country</th>\n",
       "      <th>City</th>\n",
       "    </tr>\n",
       "  </thead>\n",
       "  <tbody>\n",
       "    <tr>\n",
       "      <th>0</th>\n",
       "      <td>E02387</td>\n",
       "      <td>Emily Davis</td>\n",
       "      <td>Sr. Manger</td>\n",
       "      <td>IT</td>\n",
       "      <td>Research &amp; Development</td>\n",
       "      <td>Female</td>\n",
       "      <td>55</td>\n",
       "      <td>$1,41,604</td>\n",
       "      <td>15%</td>\n",
       "      <td>United States</td>\n",
       "      <td>Seattle</td>\n",
       "    </tr>\n",
       "    <tr>\n",
       "      <th>1</th>\n",
       "      <td>E04105</td>\n",
       "      <td>Theodore Dinh</td>\n",
       "      <td>Technical Architect</td>\n",
       "      <td>IT</td>\n",
       "      <td>Manufacturing</td>\n",
       "      <td>Male</td>\n",
       "      <td>59</td>\n",
       "      <td>$99,975</td>\n",
       "      <td>0%</td>\n",
       "      <td>China</td>\n",
       "      <td>Chongqing</td>\n",
       "    </tr>\n",
       "    <tr>\n",
       "      <th>2</th>\n",
       "      <td>E02572</td>\n",
       "      <td>Luna Sanders</td>\n",
       "      <td>Director</td>\n",
       "      <td>Finance</td>\n",
       "      <td>Speciality Products</td>\n",
       "      <td>Female</td>\n",
       "      <td>50</td>\n",
       "      <td>$1,63,099</td>\n",
       "      <td>20%</td>\n",
       "      <td>United States</td>\n",
       "      <td>Chicago</td>\n",
       "    </tr>\n",
       "    <tr>\n",
       "      <th>3</th>\n",
       "      <td>E02832</td>\n",
       "      <td>Penelope Jordan</td>\n",
       "      <td>Computer Systems Manager</td>\n",
       "      <td>IT</td>\n",
       "      <td>Manufacturing</td>\n",
       "      <td>Female</td>\n",
       "      <td>26</td>\n",
       "      <td>$84,913</td>\n",
       "      <td>7%</td>\n",
       "      <td>United States</td>\n",
       "      <td>Chicago</td>\n",
       "    </tr>\n",
       "    <tr>\n",
       "      <th>4</th>\n",
       "      <td>E01639</td>\n",
       "      <td>Austin Vo</td>\n",
       "      <td>Sr. Analyst</td>\n",
       "      <td>Finance</td>\n",
       "      <td>Manufacturing</td>\n",
       "      <td>Male</td>\n",
       "      <td>55</td>\n",
       "      <td>$95,409</td>\n",
       "      <td>0%</td>\n",
       "      <td>United States</td>\n",
       "      <td>Phoenix</td>\n",
       "    </tr>\n",
       "  </tbody>\n",
       "</table>\n",
       "</div>"
      ],
      "text/plain": [
       "     EEID        Full Name                 Job Title Department  \\\n",
       "0  E02387      Emily Davis                Sr. Manger         IT   \n",
       "1  E04105    Theodore Dinh       Technical Architect         IT   \n",
       "2  E02572     Luna Sanders                  Director    Finance   \n",
       "3  E02832  Penelope Jordan  Computer Systems Manager         IT   \n",
       "4  E01639        Austin Vo               Sr. Analyst    Finance   \n",
       "\n",
       "            Business Unit  Gender  Age Annual Salary Bonus %        Country  \\\n",
       "0  Research & Development  Female   55    $1,41,604     15%   United States   \n",
       "1           Manufacturing    Male   59      $99,975      0%           China   \n",
       "2     Speciality Products  Female   50    $1,63,099     20%   United States   \n",
       "3           Manufacturing  Female   26      $84,913      7%   United States   \n",
       "4           Manufacturing    Male   55      $95,409      0%   United States   \n",
       "\n",
       "        City  \n",
       "0    Seattle  \n",
       "1  Chongqing  \n",
       "2    Chicago  \n",
       "3    Chicago  \n",
       "4    Phoenix  "
      ]
     },
     "execution_count": 2,
     "metadata": {},
     "output_type": "execute_result"
    }
   ],
   "source": [
    "dataset = pd.read_csv(\"C:\\\\Users\\\\ASUS\\\\OneDrive\\\\Desktop\\\\WS2425\\\\Applied Statistical Data Analysis\\\\3rd Week\\\\Datasets to work on\\\\2_3_Employee Sample Data.txt\", delimiter='\\t', encoding='ISO-8859-1')\n",
    "dataset.head()"
   ]
  },
  {
   "cell_type": "code",
   "execution_count": 3,
   "id": "fa682cbe-e8b5-4a16-9f85-b16c01fdd72d",
   "metadata": {},
   "outputs": [
    {
     "name": "stdout",
     "output_type": "stream",
     "text": [
      "<class 'pandas.core.frame.DataFrame'>\n",
      "RangeIndex: 186 entries, 0 to 185\n",
      "Data columns (total 11 columns):\n",
      " #   Column         Non-Null Count  Dtype \n",
      "---  ------         --------------  ----- \n",
      " 0   EEID           186 non-null    object\n",
      " 1   Full Name      186 non-null    object\n",
      " 2   Job Title      186 non-null    object\n",
      " 3   Department     186 non-null    object\n",
      " 4   Business Unit  186 non-null    object\n",
      " 5   Gender         185 non-null    object\n",
      " 6   Age            186 non-null    int64 \n",
      " 7   Annual Salary  186 non-null    object\n",
      " 8   Bonus %        185 non-null    object\n",
      " 9   Country        185 non-null    object\n",
      " 10  City           186 non-null    object\n",
      "dtypes: int64(1), object(10)\n",
      "memory usage: 16.1+ KB\n"
     ]
    }
   ],
   "source": [
    "dataset.info()"
   ]
  },
  {
   "cell_type": "code",
   "execution_count": 4,
   "id": "fe45ef3f-718f-4d41-afce-e0fb47c17418",
   "metadata": {},
   "outputs": [
    {
     "data": {
      "text/html": [
       "<div>\n",
       "<style scoped>\n",
       "    .dataframe tbody tr th:only-of-type {\n",
       "        vertical-align: middle;\n",
       "    }\n",
       "\n",
       "    .dataframe tbody tr th {\n",
       "        vertical-align: top;\n",
       "    }\n",
       "\n",
       "    .dataframe thead th {\n",
       "        text-align: right;\n",
       "    }\n",
       "</style>\n",
       "<table border=\"1\" class=\"dataframe\">\n",
       "  <thead>\n",
       "    <tr style=\"text-align: right;\">\n",
       "      <th></th>\n",
       "      <th>Age</th>\n",
       "    </tr>\n",
       "  </thead>\n",
       "  <tbody>\n",
       "    <tr>\n",
       "      <th>count</th>\n",
       "      <td>186.000000</td>\n",
       "    </tr>\n",
       "    <tr>\n",
       "      <th>mean</th>\n",
       "      <td>44.946237</td>\n",
       "    </tr>\n",
       "    <tr>\n",
       "      <th>std</th>\n",
       "      <td>22.444341</td>\n",
       "    </tr>\n",
       "    <tr>\n",
       "      <th>min</th>\n",
       "      <td>0.000000</td>\n",
       "    </tr>\n",
       "    <tr>\n",
       "      <th>25%</th>\n",
       "      <td>34.000000</td>\n",
       "    </tr>\n",
       "    <tr>\n",
       "      <th>50%</th>\n",
       "      <td>44.500000</td>\n",
       "    </tr>\n",
       "    <tr>\n",
       "      <th>75%</th>\n",
       "      <td>54.000000</td>\n",
       "    </tr>\n",
       "    <tr>\n",
       "      <th>max</th>\n",
       "      <td>300.000000</td>\n",
       "    </tr>\n",
       "  </tbody>\n",
       "</table>\n",
       "</div>"
      ],
      "text/plain": [
       "              Age\n",
       "count  186.000000\n",
       "mean    44.946237\n",
       "std     22.444341\n",
       "min      0.000000\n",
       "25%     34.000000\n",
       "50%     44.500000\n",
       "75%     54.000000\n",
       "max    300.000000"
      ]
     },
     "execution_count": 4,
     "metadata": {},
     "output_type": "execute_result"
    }
   ],
   "source": [
    "dataset.describe()"
   ]
  },
  {
   "cell_type": "markdown",
   "id": "5c3b9f71-32be-4cb4-8b81-f62b95f89422",
   "metadata": {},
   "source": [
    "#### As seen above the only integer column is \"Age\" (Annual Salary and Bonus are also numbers but they contain something that differentiates them from being an integer column). By using the command \"describe\" we find out that the minimum value is 0 and it doesn't make sense :) Also, the maximum age is set to be 300 which is definitely an error."
   ]
  },
  {
   "cell_type": "markdown",
   "id": "57f95efb-972a-4100-a64d-9d8b6cc0453b",
   "metadata": {},
   "source": [
    "### Finding errors related to \"Age\" column"
   ]
  },
  {
   "cell_type": "code",
   "execution_count": 5,
   "id": "55f2f31f-e407-4426-af1e-8c570e0fbd8a",
   "metadata": {},
   "outputs": [],
   "source": [
    "errors = []\n",
    "age_issues = dataset[(dataset['Age'] < 18) | (dataset['Age'] > 100)]\n",
    "if not age_issues.empty:\n",
    "    errors.append(f\"Age Issues:\\n{age_issues[['EEID', 'Full Name', 'Age']].to_string(index=False)}\\n\")"
   ]
  },
  {
   "cell_type": "code",
   "execution_count": 6,
   "id": "49ee52e8-cf8f-4abb-a058-c26ba8bc28a5",
   "metadata": {},
   "outputs": [
    {
     "data": {
      "text/plain": [
       "['Age Issues:\\n  EEID    Full Name  Age\\nE04798   Aurora Ali  300\\nE03890 Nevaeh Jones    3\\nE02283   Jaxon Park    0\\n']"
      ]
     },
     "execution_count": 6,
     "metadata": {},
     "output_type": "execute_result"
    }
   ],
   "source": [
    "errors"
   ]
  },
  {
   "cell_type": "markdown",
   "id": "8e269ff5-61eb-4a42-94a1-ba243297597c",
   "metadata": {},
   "source": [
    "#### As seen above, there are three errors identified in this column. Ages 0, 3, 300 are the anomalies!"
   ]
  },
  {
   "cell_type": "markdown",
   "id": "1e8281a6-595c-4531-84b2-53ade5d5918e",
   "metadata": {},
   "source": [
    "### Then we look for errors in the \"Bonus\" column"
   ]
  },
  {
   "cell_type": "code",
   "execution_count": 7,
   "id": "198c53a7-d5a5-4f2e-bf56-e0cf03a41423",
   "metadata": {},
   "outputs": [
    {
     "data": {
      "text/plain": [
       "['Age Issues:\\n  EEID    Full Name  Age\\nE04798   Aurora Ali  300\\nE03890 Nevaeh Jones    3\\nE02283   Jaxon Park    0\\n',\n",
       " 'Bonus Format Issues:\\n  EEID        Full Name Bonus %\\nE00304       Dylan Choi    0.34\\nE00586 Sadie Washington     NaN\\n']"
      ]
     },
     "execution_count": 7,
     "metadata": {},
     "output_type": "execute_result"
    }
   ],
   "source": [
    "bonus_pattern = re.compile(r'^\\d{1,2}%$')\n",
    "bonus_issues = dataset[~dataset['Bonus %'].astype(str).str.strip().apply(lambda x: bool(bonus_pattern.match(x)))]\n",
    "if not bonus_issues.empty:\n",
    "    errors.append(f\"Bonus Format Issues:\\n{bonus_issues[['EEID', 'Full Name', 'Bonus %']].to_string(index=False)}\\n\")\n",
    "errors"
   ]
  },
  {
   "cell_type": "markdown",
   "id": "2fa67329-da19-40e7-9bfe-3a566536d0ec",
   "metadata": {},
   "source": [
    "#### There are two errors. One of them is not in percent mode and the other is null or NaN."
   ]
  },
  {
   "cell_type": "markdown",
   "id": "6ffa6163-3ad6-441d-9567-4ab5db6a1bfb",
   "metadata": {},
   "source": [
    "### Then we check if there's anything wrong with the \"Gender\" column and we count the number of Females and Males (We can also easily look for null cells)"
   ]
  },
  {
   "cell_type": "code",
   "execution_count": 8,
   "id": "d7072e87-e64b-483c-8ffe-f765e16f7630",
   "metadata": {},
   "outputs": [
    {
     "name": "stdout",
     "output_type": "stream",
     "text": [
      "Number of 'Female' entries in Gender column: 98\n"
     ]
    }
   ],
   "source": [
    "female_count = dataset['Gender'].value_counts().get('Female', 0)\n",
    "print(f\"Number of 'Female' entries in Gender column: {female_count}\")"
   ]
  },
  {
   "cell_type": "code",
   "execution_count": 9,
   "id": "1077b5ef-db19-4c7a-860c-16c7596657cd",
   "metadata": {},
   "outputs": [
    {
     "name": "stdout",
     "output_type": "stream",
     "text": [
      "Number of 'Male' entries in Gender column: 87\n"
     ]
    }
   ],
   "source": [
    "male_count = dataset['Gender'].value_counts().get('Male', 0)\n",
    "print(f\"Number of 'Male' entries in Gender column: {male_count}\")"
   ]
  },
  {
   "cell_type": "markdown",
   "id": "1d673c2a-7b0f-49a3-9ff8-d5b29a07b71c",
   "metadata": {},
   "source": [
    "#### 98+87=185 but there are 186 rows!"
   ]
  },
  {
   "cell_type": "code",
   "execution_count": 10,
   "id": "ba8e9ff9-731e-43c7-8e0c-8be5e6e9b8bb",
   "metadata": {},
   "outputs": [
    {
     "name": "stdout",
     "output_type": "stream",
     "text": [
      "Rows with unexpected Gender values:\n",
      "        EEID     Full Name             Job Title Department  \\\n",
      "184  E01037  Jeremiah Chu  IT Systems Architect         IT   \n",
      "\n",
      "               Business Unit Gender  Age Annual Salary Bonus % Country  \\\n",
      "184  Reasearch & Development    NaN   31      $96,567      0%    China   \n",
      "\n",
      "         City  \n",
      "184  Shanghai  \n"
     ]
    }
   ],
   "source": [
    "unexpected_gender_rows = dataset[~dataset['Gender'].isin(['Female', 'Male'])]\n",
    "print(\"Rows with unexpected Gender values:\\n\", unexpected_gender_rows)"
   ]
  },
  {
   "cell_type": "code",
   "execution_count": 11,
   "id": "c5fd6e5e-5183-486a-8463-e64b904c8f18",
   "metadata": {},
   "outputs": [
    {
     "data": {
      "text/plain": [
       "['Age Issues:\\n  EEID    Full Name  Age\\nE04798   Aurora Ali  300\\nE03890 Nevaeh Jones    3\\nE02283   Jaxon Park    0\\n',\n",
       " 'Bonus Format Issues:\\n  EEID        Full Name Bonus %\\nE00304       Dylan Choi    0.34\\nE00586 Sadie Washington     NaN\\n',\n",
       " 'Gender Issues:\\n  EEID    Full Name  Age\\nE01037 Jeremiah Chu   31\\n']"
      ]
     },
     "execution_count": 11,
     "metadata": {},
     "output_type": "execute_result"
    }
   ],
   "source": [
    "if not unexpected_gender_rows.empty:\n",
    "    errors.append(f\"Gender Issues:\\n{unexpected_gender_rows[['EEID', 'Full Name', 'Age']].to_string(index=False)}\\n\")\n",
    "errors"
   ]
  },
  {
   "cell_type": "markdown",
   "id": "1f61b655-db4b-48d7-bc51-8544e8449505",
   "metadata": {},
   "source": [
    "#### So this single row doesn't have any entry for gender"
   ]
  },
  {
   "cell_type": "markdown",
   "id": "5961e8a3-dab6-44ec-922d-18d62820feb6",
   "metadata": {},
   "source": [
    "### Then we check again and we can find out that the country column also has some null cells!"
   ]
  },
  {
   "cell_type": "code",
   "execution_count": 12,
   "id": "e3b3f4d4-4321-453e-9bf8-b081b8d55640",
   "metadata": {},
   "outputs": [
    {
     "data": {
      "text/plain": [
       "EEID             False\n",
       "Full Name        False\n",
       "Job Title        False\n",
       "Department       False\n",
       "Business Unit    False\n",
       "Gender            True\n",
       "Age              False\n",
       "Annual Salary    False\n",
       "Bonus %           True\n",
       "Country           True\n",
       "City             False\n",
       "dtype: bool"
      ]
     },
     "execution_count": 12,
     "metadata": {},
     "output_type": "execute_result"
    }
   ],
   "source": [
    "empty_city = dataset.isnull().any()\n",
    "empty_city"
   ]
  },
  {
   "cell_type": "code",
   "execution_count": 13,
   "id": "0c025af0-84fc-4bb0-88a6-db019b44b566",
   "metadata": {},
   "outputs": [
    {
     "name": "stdout",
     "output_type": "stream",
     "text": [
      "Rows with null values in 'Country' column:\n",
      "       EEID      Full Name         Job Title   Department  \\\n",
      "48  E03720  Dominic Clark  Quality Engineer  Engineering   \n",
      "\n",
      "             Business Unit Gender  Age Annual Salary Bonus % Country     City  \n",
      "48  Research & Development   Male   52      $71,476      0%      NaN  Phoenix  \n"
     ]
    }
   ],
   "source": [
    "null_country_rows = dataset[dataset['Country'].isna()]\n",
    "print(\"Rows with null values in 'Country' column:\\n\", null_country_rows)"
   ]
  },
  {
   "cell_type": "code",
   "execution_count": 14,
   "id": "010b5e59-ed14-45cc-a9c5-4a3ed90cf83a",
   "metadata": {},
   "outputs": [
    {
     "data": {
      "text/plain": [
       "['Age Issues:\\n  EEID    Full Name  Age\\nE04798   Aurora Ali  300\\nE03890 Nevaeh Jones    3\\nE02283   Jaxon Park    0\\n',\n",
       " 'Bonus Format Issues:\\n  EEID        Full Name Bonus %\\nE00304       Dylan Choi    0.34\\nE00586 Sadie Washington     NaN\\n',\n",
       " 'Gender Issues:\\n  EEID    Full Name  Age\\nE01037 Jeremiah Chu   31\\n',\n",
       " 'Country Issues:\\n  EEID     Full Name  Age\\nE03720 Dominic Clark   52\\n']"
      ]
     },
     "execution_count": 14,
     "metadata": {},
     "output_type": "execute_result"
    }
   ],
   "source": [
    "if not null_country_rows.empty:\n",
    "    errors.append(f\"Country Issues:\\n{null_country_rows[['EEID', 'Full Name', 'Age']].to_string(index=False)}\\n\")\n",
    "errors"
   ]
  },
  {
   "cell_type": "markdown",
   "id": "8f76061e-e69b-4b86-93ec-0cda3946ee47",
   "metadata": {},
   "source": [
    "#### As presented above, one cell was missing with the country information and we added it to the our errors. 7 errors by far!"
   ]
  },
  {
   "cell_type": "markdown",
   "id": "65568755-3979-4210-b1d8-1cb50c8ab40d",
   "metadata": {},
   "source": [
    "### Trying to find errors in \"City\" column"
   ]
  },
  {
   "cell_type": "code",
   "execution_count": 15,
   "id": "8376c397-10c7-461a-88d7-19da6453f2f5",
   "metadata": {},
   "outputs": [
    {
     "name": "stdout",
     "output_type": "stream",
     "text": [
      "\n",
      "Empty cells in 'City' column:\n",
      " Empty DataFrame\n",
      "Columns: [EEID, Full Name, Job Title, Department, Business Unit, Gender, Age, Annual Salary, Bonus %, Country, City]\n",
      "Index: []\n",
      "\n",
      "Rows with unexpected values in 'City' column:\n",
      "        EEID        Full Name          Job Title   Department  \\\n",
      "22   E03484     Logan Rivera           Director           IT   \n",
      "26   E04545    Abigail Mejia   Quality Engineer  Engineering   \n",
      "88   E00431  Eliza Hernandez  Network Architect           IT   \n",
      "134  E02464     Sophie Silva     Vice President  Engineering   \n",
      "137  E02783      Levi Mendez     Vice President        Sales   \n",
      "\n",
      "              Business Unit  Gender  Age Annual Salary Bonus % Country  \\\n",
      "22   Research & Development    Male   59    $1,72,787     28%   Brazil   \n",
      "26                Corporate  Female   56      $98,581      0%   Brazil   \n",
      "88                Corporate  Female   48      $76,588      0%   Brazil   \n",
      "134               Corporate  Female   28    $2,40,488     40%   Brazil   \n",
      "137  Research & Development    Male   39    $2,49,506     30%   Brazil   \n",
      "\n",
      "               City  \n",
      "22   Rio de Janerio  \n",
      "26   Rio de Janerio  \n",
      "88   Rio de Janerio  \n",
      "134  Rio de Janerio  \n",
      "137  Rio de Janerio  \n"
     ]
    }
   ],
   "source": [
    "expected_cities = [\"Seattle\", \"Chongqing\", \"Chicago\", \"Phoenix\", \"Austin\", \"Miami\", \n",
    "                   \"Shanghai\", \"Columbus\", \"Manaus\", \"Beijing\", \"Chengdu\", \"Rio de Janeiro\", \n",
    "                   \"Sao Paulo\"]\n",
    "empty_city = dataset['City'].isna()\n",
    "unexpected_cities = dataset[~dataset['City'].isin(expected_cities) & ~empty_city]\n",
    "print(\"\\nEmpty cells in 'City' column:\\n\", dataset[empty_city])\n",
    "print(\"\\nRows with unexpected values in 'City' column:\\n\", unexpected_cities)"
   ]
  },
  {
   "cell_type": "markdown",
   "id": "3bd85e03-5cd1-46a4-9b7b-989bd8a476d0",
   "metadata": {},
   "source": [
    "#### It seems that these 5 typos in the name of \"Rio de Janeiro\" has been there at the begining and it's not deliberately done by someone :D"
   ]
  },
  {
   "cell_type": "markdown",
   "id": "796e7a0e-a1a8-4ab7-9976-90b189dc6b66",
   "metadata": {},
   "source": [
    "### Looking for special characters in the dataset"
   ]
  },
  {
   "cell_type": "code",
   "execution_count": 16,
   "id": "9b93a58f-cace-4108-8241-758be20f4f48",
   "metadata": {},
   "outputs": [
    {
     "name": "stdout",
     "output_type": "stream",
     "text": [
      "Rows with special characters:\n",
      "       EEID     Full Name              Job Title Department  \\\n",
      "15   E00549   Isabella Xi         Vice President  Marketing   \n",
      "112  E04735  Nova Coleman  System Administratorÿ         IT   \n",
      "\n",
      "              Business Unit  Gender  Age Annual Salary Bonus %        Country  \\\n",
      "15   Research & Development  Female   41    2,49,270 ?    30%   United States   \n",
      "112           Manufacturing  Female   44      $74,738      0%   United States   \n",
      "\n",
      "        City  \n",
      "15   Seattle  \n",
      "112    Miami  \n"
     ]
    }
   ],
   "source": [
    "def contains_special_characters(s):\n",
    "    if isinstance(s, str):\n",
    "        return bool(re.search(r'[^a-zA-Z0-9 %,.$&]', s))\n",
    "    return False\n",
    "special_chars_mask = dataset.map(contains_special_characters)\n",
    "rows_with_special_chars = dataset[special_chars_mask.any(axis=1)]\n",
    "if not rows_with_special_chars.empty:\n",
    "    print(\"Rows with special characters:\")\n",
    "    print(rows_with_special_chars)\n",
    "else:\n",
    "    print(\"No rows with special characters found.\")"
   ]
  },
  {
   "cell_type": "markdown",
   "id": "e2bb345b-6c28-43ca-9d03-ad534dd2f612",
   "metadata": {},
   "source": [
    "#### As it is shown, two rows have special characters. One of them has a \"ÿ\" letter and the other has a question mark next to the salary digits!"
   ]
  },
  {
   "cell_type": "code",
   "execution_count": 17,
   "id": "e7df221d-cd6d-4db7-8278-9712bc5813d8",
   "metadata": {},
   "outputs": [
    {
     "data": {
      "text/plain": [
       "['Age Issues:\\n  EEID    Full Name  Age\\nE04798   Aurora Ali  300\\nE03890 Nevaeh Jones    3\\nE02283   Jaxon Park    0\\n',\n",
       " 'Bonus Format Issues:\\n  EEID        Full Name Bonus %\\nE00304       Dylan Choi    0.34\\nE00586 Sadie Washington     NaN\\n',\n",
       " 'Gender Issues:\\n  EEID    Full Name  Age\\nE01037 Jeremiah Chu   31\\n',\n",
       " 'Country Issues:\\n  EEID     Full Name  Age\\nE03720 Dominic Clark   52\\n',\n",
       " 'Special Characters:\\n  EEID    Full Name  Age\\nE00549  Isabella Xi   41\\nE04735 Nova Coleman   44\\n']"
      ]
     },
     "execution_count": 17,
     "metadata": {},
     "output_type": "execute_result"
    }
   ],
   "source": [
    "if not rows_with_special_chars.empty:\n",
    "    errors.append(f\"Special Characters:\\n{rows_with_special_chars[['EEID', 'Full Name', 'Age']].to_string(index=False)}\\n\")\n",
    "errors"
   ]
  },
  {
   "cell_type": "markdown",
   "id": "a0e71931-253a-4452-8ba5-c82e67d6cda2",
   "metadata": {},
   "source": [
    "### In total 9 errors were found!"
   ]
  }
 ],
 "metadata": {
  "kernelspec": {
   "display_name": "Python 3 (ipykernel)",
   "language": "python",
   "name": "python3"
  },
  "language_info": {
   "codemirror_mode": {
    "name": "ipython",
    "version": 3
   },
   "file_extension": ".py",
   "mimetype": "text/x-python",
   "name": "python",
   "nbconvert_exporter": "python",
   "pygments_lexer": "ipython3",
   "version": "3.12.4"
  }
 },
 "nbformat": 4,
 "nbformat_minor": 5
}
